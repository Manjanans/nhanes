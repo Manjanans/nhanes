{
 "cells": [
  {
   "cell_type": "markdown",
   "id": "027f2d9b-5526-44d7-9243-31f0244a9b00",
   "metadata": {
    "jp-MarkdownHeadingCollapsed": true
   },
   "source": [
    "# Inicio"
   ]
  },
  {
   "cell_type": "code",
   "execution_count": 187,
   "id": "feeb19f7-2068-46b8-a40c-5280f1120564",
   "metadata": {},
   "outputs": [
    {
     "name": "stdout",
     "output_type": "stream",
     "text": [
      "The kedro.ipython extension is already loaded. To reload it, use:\n",
      "  %reload_ext kedro.ipython\n"
     ]
    }
   ],
   "source": [
    "%load_ext kedro.ipython\n",
    "import pandas as pd\n",
    "import matplotlib.pyplot as plt\n",
    "import seaborn as sns\n",
    "from sklearn.preprocessing import MinMaxScaler\n",
    "from sklearn.preprocessing import StandardScaler\n",
    "from sklearn.preprocessing import PowerTransformer\n",
    "from sklearn.impute import KNNImputer"
   ]
  },
  {
   "cell_type": "code",
   "execution_count": 192,
   "id": "2151dfe7-8c2b-4e4b-926c-98df356e09cb",
   "metadata": {},
   "outputs": [
    {
     "data": {
      "text/html": [
       "<pre style=\"white-space:pre;overflow-x:auto;line-height:normal;font-family:Menlo,'DejaVu Sans Mono',consolas,'Courier New',monospace\"><span style=\"color: #7fbfbf; text-decoration-color: #7fbfbf\">[09/06/24 21:41:04] </span><span style=\"color: #000080; text-decoration-color: #000080\">INFO    </span> Loading data from <span style=\"color: #ff8700; text-decoration-color: #ff8700\">demografia</span> <span style=\"font-weight: bold\">(</span>ParquetDataset<span style=\"font-weight: bold\">)</span><span style=\"color: #808000; text-decoration-color: #808000\">...</span>                   <a href=\"file://C:\\Users\\crist\\desktop\\kedro\\.venv\\Lib\\site-packages\\kedro\\io\\data_catalog.py\" target=\"_blank\"><span style=\"color: #7f7f7f; text-decoration-color: #7f7f7f\">data_catalog.py</span></a><span style=\"color: #7f7f7f; text-decoration-color: #7f7f7f\">:</span><a href=\"file://C:\\Users\\crist\\desktop\\kedro\\.venv\\Lib\\site-packages\\kedro\\io\\data_catalog.py#539\" target=\"_blank\"><span style=\"color: #7f7f7f; text-decoration-color: #7f7f7f\">539</span></a>\n",
       "</pre>\n"
      ],
      "text/plain": [
       "\u001b[2;36m[09/06/24 21:41:04]\u001b[0m\u001b[2;36m \u001b[0m\u001b[34mINFO    \u001b[0m Loading data from \u001b[38;5;208mdemografia\u001b[0m \u001b[1m(\u001b[0mParquetDataset\u001b[1m)\u001b[0m\u001b[33m...\u001b[0m                   \u001b]8;id=143112;file://C:\\Users\\crist\\desktop\\kedro\\.venv\\Lib\\site-packages\\kedro\\io\\data_catalog.py\u001b\\\u001b[2mdata_catalog.py\u001b[0m\u001b]8;;\u001b\\\u001b[2m:\u001b[0m\u001b]8;id=806703;file://C:\\Users\\crist\\desktop\\kedro\\.venv\\Lib\\site-packages\\kedro\\io\\data_catalog.py#539\u001b\\\u001b[2m539\u001b[0m\u001b]8;;\u001b\\\n"
      ]
     },
     "metadata": {},
     "output_type": "display_data"
    },
    {
     "data": {
      "text/html": [
       "<pre style=\"white-space:pre;overflow-x:auto;line-height:normal;font-family:Menlo,'DejaVu Sans Mono',consolas,'Courier New',monospace\"><span style=\"color: #7fbfbf; text-decoration-color: #7fbfbf\">                    </span><span style=\"color: #000080; text-decoration-color: #000080\">INFO    </span> Loading data from <span style=\"color: #ff8700; text-decoration-color: #ff8700\">insulina</span> <span style=\"font-weight: bold\">(</span>ParquetDataset<span style=\"font-weight: bold\">)</span><span style=\"color: #808000; text-decoration-color: #808000\">...</span>                     <a href=\"file://C:\\Users\\crist\\desktop\\kedro\\.venv\\Lib\\site-packages\\kedro\\io\\data_catalog.py\" target=\"_blank\"><span style=\"color: #7f7f7f; text-decoration-color: #7f7f7f\">data_catalog.py</span></a><span style=\"color: #7f7f7f; text-decoration-color: #7f7f7f\">:</span><a href=\"file://C:\\Users\\crist\\desktop\\kedro\\.venv\\Lib\\site-packages\\kedro\\io\\data_catalog.py#539\" target=\"_blank\"><span style=\"color: #7f7f7f; text-decoration-color: #7f7f7f\">539</span></a>\n",
       "</pre>\n"
      ],
      "text/plain": [
       "\u001b[2;36m                   \u001b[0m\u001b[2;36m \u001b[0m\u001b[34mINFO    \u001b[0m Loading data from \u001b[38;5;208minsulina\u001b[0m \u001b[1m(\u001b[0mParquetDataset\u001b[1m)\u001b[0m\u001b[33m...\u001b[0m                     \u001b]8;id=174566;file://C:\\Users\\crist\\desktop\\kedro\\.venv\\Lib\\site-packages\\kedro\\io\\data_catalog.py\u001b\\\u001b[2mdata_catalog.py\u001b[0m\u001b]8;;\u001b\\\u001b[2m:\u001b[0m\u001b]8;id=360951;file://C:\\Users\\crist\\desktop\\kedro\\.venv\\Lib\\site-packages\\kedro\\io\\data_catalog.py#539\u001b\\\u001b[2m539\u001b[0m\u001b]8;;\u001b\\\n"
      ]
     },
     "metadata": {},
     "output_type": "display_data"
    },
    {
     "data": {
      "text/html": [
       "<pre style=\"white-space:pre;overflow-x:auto;line-height:normal;font-family:Menlo,'DejaVu Sans Mono',consolas,'Courier New',monospace\"><span style=\"color: #7fbfbf; text-decoration-color: #7fbfbf\">                    </span><span style=\"color: #000080; text-decoration-color: #000080\">INFO    </span> Loading data from <span style=\"color: #ff8700; text-decoration-color: #ff8700\">colesterol</span> <span style=\"font-weight: bold\">(</span>ParquetDataset<span style=\"font-weight: bold\">)</span><span style=\"color: #808000; text-decoration-color: #808000\">...</span>                   <a href=\"file://C:\\Users\\crist\\desktop\\kedro\\.venv\\Lib\\site-packages\\kedro\\io\\data_catalog.py\" target=\"_blank\"><span style=\"color: #7f7f7f; text-decoration-color: #7f7f7f\">data_catalog.py</span></a><span style=\"color: #7f7f7f; text-decoration-color: #7f7f7f\">:</span><a href=\"file://C:\\Users\\crist\\desktop\\kedro\\.venv\\Lib\\site-packages\\kedro\\io\\data_catalog.py#539\" target=\"_blank\"><span style=\"color: #7f7f7f; text-decoration-color: #7f7f7f\">539</span></a>\n",
       "</pre>\n"
      ],
      "text/plain": [
       "\u001b[2;36m                   \u001b[0m\u001b[2;36m \u001b[0m\u001b[34mINFO    \u001b[0m Loading data from \u001b[38;5;208mcolesterol\u001b[0m \u001b[1m(\u001b[0mParquetDataset\u001b[1m)\u001b[0m\u001b[33m...\u001b[0m                   \u001b]8;id=477528;file://C:\\Users\\crist\\desktop\\kedro\\.venv\\Lib\\site-packages\\kedro\\io\\data_catalog.py\u001b\\\u001b[2mdata_catalog.py\u001b[0m\u001b]8;;\u001b\\\u001b[2m:\u001b[0m\u001b]8;id=402837;file://C:\\Users\\crist\\desktop\\kedro\\.venv\\Lib\\site-packages\\kedro\\io\\data_catalog.py#539\u001b\\\u001b[2m539\u001b[0m\u001b]8;;\u001b\\\n"
      ]
     },
     "metadata": {},
     "output_type": "display_data"
    },
    {
     "data": {
      "text/html": [
       "<pre style=\"white-space:pre;overflow-x:auto;line-height:normal;font-family:Menlo,'DejaVu Sans Mono',consolas,'Courier New',monospace\"><span style=\"color: #7fbfbf; text-decoration-color: #7fbfbf\">                    </span><span style=\"color: #000080; text-decoration-color: #000080\">INFO    </span> Loading data from <span style=\"color: #ff8700; text-decoration-color: #ff8700\">depresion</span> <span style=\"font-weight: bold\">(</span>ParquetDataset<span style=\"font-weight: bold\">)</span><span style=\"color: #808000; text-decoration-color: #808000\">...</span>                    <a href=\"file://C:\\Users\\crist\\desktop\\kedro\\.venv\\Lib\\site-packages\\kedro\\io\\data_catalog.py\" target=\"_blank\"><span style=\"color: #7f7f7f; text-decoration-color: #7f7f7f\">data_catalog.py</span></a><span style=\"color: #7f7f7f; text-decoration-color: #7f7f7f\">:</span><a href=\"file://C:\\Users\\crist\\desktop\\kedro\\.venv\\Lib\\site-packages\\kedro\\io\\data_catalog.py#539\" target=\"_blank\"><span style=\"color: #7f7f7f; text-decoration-color: #7f7f7f\">539</span></a>\n",
       "</pre>\n"
      ],
      "text/plain": [
       "\u001b[2;36m                   \u001b[0m\u001b[2;36m \u001b[0m\u001b[34mINFO    \u001b[0m Loading data from \u001b[38;5;208mdepresion\u001b[0m \u001b[1m(\u001b[0mParquetDataset\u001b[1m)\u001b[0m\u001b[33m...\u001b[0m                    \u001b]8;id=172322;file://C:\\Users\\crist\\desktop\\kedro\\.venv\\Lib\\site-packages\\kedro\\io\\data_catalog.py\u001b\\\u001b[2mdata_catalog.py\u001b[0m\u001b]8;;\u001b\\\u001b[2m:\u001b[0m\u001b]8;id=204182;file://C:\\Users\\crist\\desktop\\kedro\\.venv\\Lib\\site-packages\\kedro\\io\\data_catalog.py#539\u001b\\\u001b[2m539\u001b[0m\u001b]8;;\u001b\\\n"
      ]
     },
     "metadata": {},
     "output_type": "display_data"
    },
    {
     "data": {
      "text/html": [
       "<pre style=\"white-space:pre;overflow-x:auto;line-height:normal;font-family:Menlo,'DejaVu Sans Mono',consolas,'Courier New',monospace\"><span style=\"color: #7fbfbf; text-decoration-color: #7fbfbf\">                    </span><span style=\"color: #000080; text-decoration-color: #000080\">INFO    </span> Loading data from <span style=\"color: #ff8700; text-decoration-color: #ff8700\">proteinaC</span> <span style=\"font-weight: bold\">(</span>ParquetDataset<span style=\"font-weight: bold\">)</span><span style=\"color: #808000; text-decoration-color: #808000\">...</span>                    <a href=\"file://C:\\Users\\crist\\desktop\\kedro\\.venv\\Lib\\site-packages\\kedro\\io\\data_catalog.py\" target=\"_blank\"><span style=\"color: #7f7f7f; text-decoration-color: #7f7f7f\">data_catalog.py</span></a><span style=\"color: #7f7f7f; text-decoration-color: #7f7f7f\">:</span><a href=\"file://C:\\Users\\crist\\desktop\\kedro\\.venv\\Lib\\site-packages\\kedro\\io\\data_catalog.py#539\" target=\"_blank\"><span style=\"color: #7f7f7f; text-decoration-color: #7f7f7f\">539</span></a>\n",
       "</pre>\n"
      ],
      "text/plain": [
       "\u001b[2;36m                   \u001b[0m\u001b[2;36m \u001b[0m\u001b[34mINFO    \u001b[0m Loading data from \u001b[38;5;208mproteinaC\u001b[0m \u001b[1m(\u001b[0mParquetDataset\u001b[1m)\u001b[0m\u001b[33m...\u001b[0m                    \u001b]8;id=652856;file://C:\\Users\\crist\\desktop\\kedro\\.venv\\Lib\\site-packages\\kedro\\io\\data_catalog.py\u001b\\\u001b[2mdata_catalog.py\u001b[0m\u001b]8;;\u001b\\\u001b[2m:\u001b[0m\u001b]8;id=308191;file://C:\\Users\\crist\\desktop\\kedro\\.venv\\Lib\\site-packages\\kedro\\io\\data_catalog.py#539\u001b\\\u001b[2m539\u001b[0m\u001b]8;;\u001b\\\n"
      ]
     },
     "metadata": {},
     "output_type": "display_data"
    }
   ],
   "source": [
    "demografia = catalog.load(\"demografia\")\n",
    "insulina = catalog.load(\"insulina\")\n",
    "colesterol = catalog.load(\"colesterol\")\n",
    "depresion = catalog.load(\"depresion\")\n",
    "proteinaC = catalog.load(\"proteinaC\")\n",
    "scaler = StandardScaler()\n",
    "minmax = MinMaxScaler()\n",
    "pt = PowerTransformer()"
   ]
  },
  {
   "cell_type": "code",
   "execution_count": 120,
   "id": "84726537-5fb6-4fd2-bae5-ff0e8eb31676",
   "metadata": {
    "collapsed": true,
    "jupyter": {
     "outputs_hidden": true
    },
    "scrolled": true
   },
   "outputs": [
    {
     "name": "stdout",
     "output_type": "stream",
     "text": [
      "------------ Columna SEQN ------------\n",
      " count    15560.00\n",
      "mean    117042.50\n",
      "std       4491.93\n",
      "min     109263.00\n",
      "25%     113152.75\n",
      "50%     117042.50\n",
      "75%     120932.25\n",
      "max     124822.00\n",
      "Name: SEQN, dtype: float64\n",
      " ------------------------------------ \n",
      "\n",
      "------------ Columna SDDSRVYR ------------\n",
      " count   15560.00\n",
      "mean       66.00\n",
      "std         0.00\n",
      "min        66.00\n",
      "25%        66.00\n",
      "50%        66.00\n",
      "75%        66.00\n",
      "max        66.00\n",
      "Name: SDDSRVYR, dtype: float64\n",
      " ------------------------------------ \n",
      "\n",
      "------------ Columna RIDSTATR ------------\n",
      " count   15560.00\n",
      "mean        1.92\n",
      "std         0.27\n",
      "min         1.00\n",
      "25%         2.00\n",
      "50%         2.00\n",
      "75%         2.00\n",
      "max         2.00\n",
      "Name: RIDSTATR, dtype: float64\n",
      " ------------------------------------ \n",
      "\n",
      "------------ Columna RIAGENDR ------------\n",
      " count   15560.00\n",
      "mean        1.50\n",
      "std         0.50\n",
      "min         1.00\n",
      "25%         1.00\n",
      "50%         2.00\n",
      "75%         2.00\n",
      "max         2.00\n",
      "Name: RIAGENDR, dtype: float64\n",
      " ------------------------------------ \n",
      "\n",
      "------------ Columna RIDAGEYR ------------\n",
      " count   15560.00\n",
      "mean       33.74\n",
      "std        25.32\n",
      "min         0.00\n",
      "25%        10.00\n",
      "50%        30.00\n",
      "75%        56.00\n",
      "max        80.00\n",
      "Name: RIDAGEYR, dtype: float64\n",
      " ------------------------------------ \n",
      "\n",
      "------------ Columna RIDAGEMN ------------\n",
      " count   987.00\n",
      "mean     10.52\n",
      "std       7.08\n",
      "min       0.00\n",
      "25%       4.00\n",
      "50%      10.00\n",
      "75%      17.00\n",
      "max      24.00\n",
      "Name: RIDAGEMN, dtype: float64\n",
      " ------------------------------------ \n",
      "\n",
      "------------ Columna RIDRETH1 ------------\n",
      " count   15560.00\n",
      "mean        3.25\n",
      "std         1.22\n",
      "min         1.00\n",
      "25%         3.00\n",
      "50%         3.00\n",
      "75%         4.00\n",
      "max         5.00\n",
      "Name: RIDRETH1, dtype: float64\n",
      " ------------------------------------ \n",
      "\n",
      "------------ Columna RIDRETH3 ------------\n",
      " count   15560.00\n",
      "mean        3.49\n",
      "std         1.62\n",
      "min         1.00\n",
      "25%         3.00\n",
      "50%         3.00\n",
      "75%         4.00\n",
      "max         7.00\n",
      "Name: RIDRETH3, dtype: float64\n",
      " ------------------------------------ \n",
      "\n",
      "------------ Columna RIDEXMON ------------\n",
      " count   14300.00\n",
      "mean        1.47\n",
      "std         0.50\n",
      "min         1.00\n",
      "25%         1.00\n",
      "50%         1.00\n",
      "75%         2.00\n",
      "max         2.00\n",
      "Name: RIDEXMON, dtype: float64\n",
      " ------------------------------------ \n",
      "\n",
      "------------ Columna DMDBORN4 ------------\n",
      " count   15560.00\n",
      "mean        1.23\n",
      "std         1.73\n",
      "min         1.00\n",
      "25%         1.00\n",
      "50%         1.00\n",
      "75%         1.00\n",
      "max        99.00\n",
      "Name: DMDBORN4, dtype: float64\n",
      " ------------------------------------ \n",
      "\n",
      "------------ Columna DMDYRUSZ ------------\n",
      " count   3028.00\n",
      "mean       6.70\n",
      "std       18.53\n",
      "min        1.00\n",
      "25%        2.00\n",
      "50%        3.00\n",
      "75%        4.00\n",
      "max       99.00\n",
      "Name: DMDYRUSZ, dtype: float64\n",
      " ------------------------------------ \n",
      "\n",
      "------------ Columna DMDEDUC2 ------------\n",
      " count   9232.00\n",
      "mean       3.55\n",
      "std        1.21\n",
      "min        1.00\n",
      "25%        3.00\n",
      "50%        4.00\n",
      "75%        4.00\n",
      "max        9.00\n",
      "Name: DMDEDUC2, dtype: float64\n",
      " ------------------------------------ \n",
      "\n",
      "------------ Columna DMDMARTZ ------------\n",
      " count   9232.00\n",
      "mean       1.71\n",
      "std        2.76\n",
      "min        1.00\n",
      "25%        1.00\n",
      "50%        1.00\n",
      "75%        2.00\n",
      "max       99.00\n",
      "Name: DMDMARTZ, dtype: float64\n",
      " ------------------------------------ \n",
      "\n",
      "------------ Columna RIDEXPRG ------------\n",
      " count   1874.00\n",
      "mean       2.05\n",
      "std        0.38\n",
      "min        1.00\n",
      "25%        2.00\n",
      "50%        2.00\n",
      "75%        2.00\n",
      "max        3.00\n",
      "Name: RIDEXPRG, dtype: float64\n",
      " ------------------------------------ \n",
      "\n",
      "------------ Columna SIALANG ------------\n",
      " count   15560.00\n",
      "mean        1.10\n",
      "std         0.30\n",
      "min         1.00\n",
      "25%         1.00\n",
      "50%         1.00\n",
      "75%         1.00\n",
      "max         2.00\n",
      "Name: SIALANG, dtype: float64\n",
      " ------------------------------------ \n",
      "\n",
      "------------ Columna SIAPROXY ------------\n",
      " count   15560.00\n",
      "mean        1.65\n",
      "std         0.48\n",
      "min         1.00\n",
      "25%         1.00\n",
      "50%         2.00\n",
      "75%         2.00\n",
      "max         2.00\n",
      "Name: SIAPROXY, dtype: float64\n",
      " ------------------------------------ \n",
      "\n",
      "------------ Columna SIAINTRP ------------\n",
      " count   15560.00\n",
      "mean        1.97\n",
      "std         0.16\n",
      "min         1.00\n",
      "25%         2.00\n",
      "50%         2.00\n",
      "75%         2.00\n",
      "max         2.00\n",
      "Name: SIAINTRP, dtype: float64\n",
      " ------------------------------------ \n",
      "\n",
      "------------ Columna FIALANG ------------\n",
      " count   14481.00\n",
      "mean        1.09\n",
      "std         0.29\n",
      "min         1.00\n",
      "25%         1.00\n",
      "50%         1.00\n",
      "75%         1.00\n",
      "max         2.00\n",
      "Name: FIALANG, dtype: float64\n",
      " ------------------------------------ \n",
      "\n",
      "------------ Columna FIAPROXY ------------\n",
      " count   14481.00\n",
      "mean        2.00\n",
      "std         0.04\n",
      "min         1.00\n",
      "25%         2.00\n",
      "50%         2.00\n",
      "75%         2.00\n",
      "max         2.00\n",
      "Name: FIAPROXY, dtype: float64\n",
      " ------------------------------------ \n",
      "\n",
      "------------ Columna FIAINTRP ------------\n",
      " count   14481.00\n",
      "mean        1.98\n",
      "std         0.15\n",
      "min         1.00\n",
      "25%         2.00\n",
      "50%         2.00\n",
      "75%         2.00\n",
      "max         2.00\n",
      "Name: FIAINTRP, dtype: float64\n",
      " ------------------------------------ \n",
      "\n",
      "------------ Columna MIALANG ------------\n",
      " count   11000.00\n",
      "mean        1.07\n",
      "std         0.25\n",
      "min         1.00\n",
      "25%         1.00\n",
      "50%         1.00\n",
      "75%         1.00\n",
      "max         2.00\n",
      "Name: MIALANG, dtype: float64\n",
      " ------------------------------------ \n",
      "\n",
      "------------ Columna MIAPROXY ------------\n",
      " count   11000.00\n",
      "mean        1.99\n",
      "std         0.09\n",
      "min         1.00\n",
      "25%         2.00\n",
      "50%         2.00\n",
      "75%         2.00\n",
      "max         2.00\n",
      "Name: MIAPROXY, dtype: float64\n",
      " ------------------------------------ \n",
      "\n",
      "------------ Columna MIAINTRP ------------\n",
      " count   11000.00\n",
      "mean        1.98\n",
      "std         0.15\n",
      "min         1.00\n",
      "25%         2.00\n",
      "50%         2.00\n",
      "75%         2.00\n",
      "max         2.00\n",
      "Name: MIAINTRP, dtype: float64\n",
      " ------------------------------------ \n",
      "\n",
      "------------ Columna AIALANGA ------------\n",
      " count   8224.00\n",
      "mean       1.12\n",
      "std        0.36\n",
      "min        1.00\n",
      "25%        1.00\n",
      "50%        1.00\n",
      "75%        1.00\n",
      "max        3.00\n",
      "Name: AIALANGA, dtype: float64\n",
      " ------------------------------------ \n",
      "\n",
      "------------ Columna WTINTPRP ------------\n",
      " count    15560.00\n",
      "mean     20714.92\n",
      "std      25323.92\n",
      "min       1017.78\n",
      "25%       7435.54\n",
      "50%      12712.56\n",
      "75%      22761.14\n",
      "max     338363.60\n",
      "Name: WTINTPRP, dtype: float64\n",
      " ------------------------------------ \n",
      "\n",
      "------------ Columna WTMECPRP ------------\n",
      " count    15560.00\n",
      "mean     20714.92\n",
      "std      27114.91\n",
      "min          0.00\n",
      "25%       6762.82\n",
      "50%      12639.58\n",
      "75%      23308.39\n",
      "max     367555.74\n",
      "Name: WTMECPRP, dtype: float64\n",
      " ------------------------------------ \n",
      "\n",
      "------------ Columna SDMVPSU ------------\n",
      " count   15560.00\n",
      "mean        1.54\n",
      "std         0.54\n",
      "min         1.00\n",
      "25%         1.00\n",
      "50%         2.00\n",
      "75%         2.00\n",
      "max         3.00\n",
      "Name: SDMVPSU, dtype: float64\n",
      " ------------------------------------ \n",
      "\n",
      "------------ Columna SDMVSTRA ------------\n",
      " count   15560.00\n",
      "mean      160.27\n",
      "std         6.97\n",
      "min       149.00\n",
      "25%       155.00\n",
      "50%       160.00\n",
      "75%       166.00\n",
      "max       172.00\n",
      "Name: SDMVSTRA, dtype: float64\n",
      " ------------------------------------ \n",
      "\n",
      "------------ Columna INDFMPIR ------------\n",
      " count   13359.00\n",
      "mean        2.41\n",
      "std         1.63\n",
      "min         0.00\n",
      "25%         1.02\n",
      "50%         1.96\n",
      "75%         3.88\n",
      "max         5.00\n",
      "Name: INDFMPIR, dtype: float64\n",
      " ------------------------------------ \n",
      "\n"
     ]
    }
   ],
   "source": [
    "for columna in demografia.columns:\n",
    "    print(f\"------------ Columna {columna} ------------\\n {demografia[columna].describe()}\\n ------------------------------------ \\n\")"
   ]
  },
  {
   "cell_type": "code",
   "execution_count": 121,
   "id": "602e4df5-7c0d-44bc-b995-3098427c703d",
   "metadata": {
    "collapsed": true,
    "jupyter": {
     "outputs_hidden": true
    },
    "scrolled": true
   },
   "outputs": [
    {
     "name": "stdout",
     "output_type": "stream",
     "text": [
      "------------ Columna SEQN ------------\n",
      " count     5090.00\n",
      "mean    117177.33\n",
      "std       4487.34\n",
      "min     109264.00\n",
      "25%     113303.50\n",
      "50%     117265.50\n",
      "75%     121046.50\n",
      "max     124822.00\n",
      "Name: SEQN, dtype: float64\n",
      " ------------------------------------ \n",
      "\n",
      "------------ Columna WTSAFPRP ------------\n",
      " count     5090.00\n",
      "mean     53883.96\n",
      "std      68538.13\n",
      "min          0.00\n",
      "25%      17305.97\n",
      "50%      32845.10\n",
      "75%      62135.88\n",
      "max     741259.19\n",
      "Name: WTSAFPRP, dtype: float64\n",
      " ------------------------------------ \n",
      "\n",
      "------------ Columna LBXIN ------------\n",
      " count   4625.00\n",
      "mean      14.98\n",
      "std       22.85\n",
      "min        0.71\n",
      "25%        6.31\n",
      "50%       10.18\n",
      "75%       16.61\n",
      "max      512.50\n",
      "Name: LBXIN, dtype: float64\n",
      " ------------------------------------ \n",
      "\n",
      "------------ Columna LBDINSI ------------\n",
      " count   4625.00\n",
      "mean      89.85\n",
      "std      137.07\n",
      "min        4.26\n",
      "25%       37.86\n",
      "50%       61.08\n",
      "75%       99.66\n",
      "max     3075.00\n",
      "Name: LBDINSI, dtype: float64\n",
      " ------------------------------------ \n",
      "\n",
      "------------ Columna LBDINLC ------------\n",
      " count   4625.00\n",
      "mean       0.00\n",
      "std        0.04\n",
      "min        0.00\n",
      "25%        0.00\n",
      "50%        0.00\n",
      "75%        0.00\n",
      "max        1.00\n",
      "Name: LBDINLC, dtype: float64\n",
      " ------------------------------------ \n",
      "\n"
     ]
    }
   ],
   "source": [
    "for columna in insulina.columns:\n",
    "    print(f\"------------ Columna {columna} ------------\\n {insulina[columna].describe()}\\n ------------------------------------ \\n\")"
   ]
  },
  {
   "cell_type": "code",
   "execution_count": 122,
   "id": "4198079a-589a-4327-81f5-7c1f24999431",
   "metadata": {
    "collapsed": true,
    "jupyter": {
     "outputs_hidden": true
    }
   },
   "outputs": [
    {
     "name": "stdout",
     "output_type": "stream",
     "text": [
      "------------ Columna SEQN ------------\n",
      " count    12198.00\n",
      "mean    117082.95\n",
      "std       4498.67\n",
      "min     109264.00\n",
      "25%     113178.25\n",
      "50%     117098.50\n",
      "75%     120994.75\n",
      "max     124822.00\n",
      "Name: SEQN, dtype: float64\n",
      " ------------------------------------ \n",
      "\n",
      "------------ Columna LBXTC ------------\n",
      " count   10828.00\n",
      "mean      177.46\n",
      "std        40.36\n",
      "min        71.00\n",
      "25%       149.00\n",
      "50%       173.00\n",
      "75%       201.00\n",
      "max       446.00\n",
      "Name: LBXTC, dtype: float64\n",
      " ------------------------------------ \n",
      "\n",
      "------------ Columna LBDTCSI ------------\n",
      " count   10828.00\n",
      "mean        4.59\n",
      "std         1.04\n",
      "min         1.84\n",
      "25%         3.85\n",
      "50%         4.47\n",
      "75%         5.20\n",
      "max        11.53\n",
      "Name: LBDTCSI, dtype: float64\n",
      " ------------------------------------ \n",
      "\n"
     ]
    }
   ],
   "source": [
    "for columna in colesterol.columns:\n",
    "    print(f\"------------ Columna {columna} ------------\\n {colesterol[columna].describe()}\\n ------------------------------------ \\n\")"
   ]
  },
  {
   "cell_type": "code",
   "execution_count": 123,
   "id": "a2ff8c60-c0dd-455f-8565-52f9907f6dc4",
   "metadata": {
    "collapsed": true,
    "jupyter": {
     "outputs_hidden": true
    },
    "scrolled": true
   },
   "outputs": [
    {
     "name": "stdout",
     "output_type": "stream",
     "text": [
      "------------ Columna SEQN ------------\n",
      " count     8965.00\n",
      "mean    117107.85\n",
      "std       4501.05\n",
      "min     109266.00\n",
      "25%     113211.00\n",
      "50%     117091.00\n",
      "75%     121022.00\n",
      "max     124822.00\n",
      "Name: SEQN, dtype: float64\n",
      " ------------------------------------ \n",
      "\n",
      "------------ Columna DPQ010 ------------\n",
      " count   8308.00\n",
      "mean       0.40\n",
      "std        0.80\n",
      "min        0.00\n",
      "25%        0.00\n",
      "50%        0.00\n",
      "75%        1.00\n",
      "max        9.00\n",
      "Name: DPQ010, dtype: float64\n",
      " ------------------------------------ \n",
      "\n",
      "------------ Columna DPQ020 ------------\n",
      " count   8306.00\n",
      "mean       0.37\n",
      "std        0.76\n",
      "min        0.00\n",
      "25%        0.00\n",
      "50%        0.00\n",
      "75%        1.00\n",
      "max        9.00\n",
      "Name: DPQ020, dtype: float64\n",
      " ------------------------------------ \n",
      "\n",
      "------------ Columna DPQ030 ------------\n",
      " count   8306.00\n",
      "mean       0.66\n",
      "std        0.99\n",
      "min        0.00\n",
      "25%        0.00\n",
      "50%        0.00\n",
      "75%        1.00\n",
      "max        9.00\n",
      "Name: DPQ030, dtype: float64\n",
      " ------------------------------------ \n",
      "\n",
      "------------ Columna DPQ040 ------------\n",
      " count   8305.00\n",
      "mean       0.76\n",
      "std        0.96\n",
      "min        0.00\n",
      "25%        0.00\n",
      "50%        0.00\n",
      "75%        1.00\n",
      "max        9.00\n",
      "Name: DPQ040, dtype: float64\n",
      " ------------------------------------ \n",
      "\n",
      "------------ Columna DPQ050 ------------\n",
      " count   8305.00\n",
      "mean       0.41\n",
      "std        0.82\n",
      "min        0.00\n",
      "25%        0.00\n",
      "50%        0.00\n",
      "75%        1.00\n",
      "max        9.00\n",
      "Name: DPQ050, dtype: float64\n",
      " ------------------------------------ \n",
      "\n",
      "------------ Columna DPQ060 ------------\n",
      " count   8304.00\n",
      "mean       0.26\n",
      "std        0.68\n",
      "min        0.00\n",
      "25%        0.00\n",
      "50%        0.00\n",
      "75%        0.00\n",
      "max        9.00\n",
      "Name: DPQ060, dtype: float64\n",
      " ------------------------------------ \n",
      "\n",
      "------------ Columna DPQ070 ------------\n",
      " count   8304.00\n",
      "mean       0.28\n",
      "std        0.71\n",
      "min        0.00\n",
      "25%        0.00\n",
      "50%        0.00\n",
      "75%        0.00\n",
      "max        9.00\n",
      "Name: DPQ070, dtype: float64\n",
      " ------------------------------------ \n",
      "\n",
      "------------ Columna DPQ080 ------------\n",
      " count   8304.00\n",
      "mean       0.17\n",
      "std        0.59\n",
      "min        0.00\n",
      "25%        0.00\n",
      "50%        0.00\n",
      "75%        0.00\n",
      "max        9.00\n",
      "Name: DPQ080, dtype: float64\n",
      " ------------------------------------ \n",
      "\n",
      "------------ Columna DPQ090 ------------\n",
      " count   8302.00\n",
      "mean       0.06\n",
      "std        0.37\n",
      "min        0.00\n",
      "25%        0.00\n",
      "50%        0.00\n",
      "75%        0.00\n",
      "max        9.00\n",
      "Name: DPQ090, dtype: float64\n",
      " ------------------------------------ \n",
      "\n",
      "------------ Columna DPQ100 ------------\n",
      " count   5540.00\n",
      "mean       0.33\n",
      "std        0.66\n",
      "min        0.00\n",
      "25%        0.00\n",
      "50%        0.00\n",
      "75%        1.00\n",
      "max        9.00\n",
      "Name: DPQ100, dtype: float64\n",
      " ------------------------------------ \n",
      "\n"
     ]
    }
   ],
   "source": [
    "for columna in depresion.columns:\n",
    "    print(f\"------------ Columna {columna} ------------\\n {depresion[columna].describe()}\\n ------------------------------------ \\n\")"
   ]
  },
  {
   "cell_type": "code",
   "execution_count": 124,
   "id": "24aede02-ad8f-4d52-827b-58a578c5a45e",
   "metadata": {
    "collapsed": true,
    "jupyter": {
     "outputs_hidden": true
    }
   },
   "outputs": [
    {
     "name": "stdout",
     "output_type": "stream",
     "text": [
      "------------ Columna SEQN ------------\n",
      " count    13772.00\n",
      "mean    117079.86\n",
      "std       4498.55\n",
      "min     109263.00\n",
      "25%     113184.75\n",
      "50%     117104.50\n",
      "75%     120981.25\n",
      "max     124822.00\n",
      "Name: SEQN, dtype: float64\n",
      " ------------------------------------ \n",
      "\n",
      "------------ Columna LBXHSCRP ------------\n",
      " count   11614.00\n",
      "mean        3.42\n",
      "std         7.79\n",
      "min         0.11\n",
      "25%         0.52\n",
      "50%         1.32\n",
      "75%         3.62\n",
      "max       246.86\n",
      "Name: LBXHSCRP, dtype: float64\n",
      " ------------------------------------ \n",
      "\n",
      "------------ Columna LBDHRPLC ------------\n",
      " count   11614.00\n",
      "mean        0.03\n",
      "std         0.18\n",
      "min         0.00\n",
      "25%         0.00\n",
      "50%         0.00\n",
      "75%         0.00\n",
      "max         1.00\n",
      "Name: LBDHRPLC, dtype: float64\n",
      " ------------------------------------ \n",
      "\n"
     ]
    }
   ],
   "source": [
    "for columna in proteinaC.columns:\n",
    "    print(f\"------------ Columna {columna} ------------\\n {proteinaC[columna].describe()}\\n ------------------------------------ \\n\")"
   ]
  },
  {
   "cell_type": "code",
   "execution_count": 125,
   "id": "b5f42494-317a-4ba8-8452-8568491b20a1",
   "metadata": {
    "collapsed": true,
    "jupyter": {
     "outputs_hidden": true
    }
   },
   "outputs": [
    {
     "data": {
      "text/html": [
       "<pre style=\"white-space:pre;overflow-x:auto;line-height:normal;font-family:Menlo,'DejaVu Sans Mono',consolas,'Courier New',monospace\"></pre>\n"
      ],
      "text/plain": []
     },
     "metadata": {},
     "output_type": "display_data"
    },
    {
     "data": {
      "text/plain": [
       "\n",
       "\u001b[1;35mIndex\u001b[0m\u001b[1m(\u001b[0m\u001b[1m[\u001b[0m\u001b[32m'SEQN'\u001b[0m, \u001b[32m'SDDSRVYR'\u001b[0m, \u001b[32m'RIDSTATR'\u001b[0m, \u001b[32m'RIAGENDR'\u001b[0m, \u001b[32m'RIDAGEYR'\u001b[0m, \u001b[32m'RIDAGEMN'\u001b[0m,\n",
       "       \u001b[32m'RIDRETH1'\u001b[0m, \u001b[32m'RIDRETH3'\u001b[0m, \u001b[32m'RIDEXMON'\u001b[0m, \u001b[32m'DMDBORN4'\u001b[0m, \u001b[32m'DMDYRUSZ'\u001b[0m, \u001b[32m'DMDEDUC2'\u001b[0m,\n",
       "       \u001b[32m'DMDMARTZ'\u001b[0m, \u001b[32m'RIDEXPRG'\u001b[0m, \u001b[32m'SIALANG'\u001b[0m, \u001b[32m'SIAPROXY'\u001b[0m, \u001b[32m'SIAINTRP'\u001b[0m, \u001b[32m'FIALANG'\u001b[0m,\n",
       "       \u001b[32m'FIAPROXY'\u001b[0m, \u001b[32m'FIAINTRP'\u001b[0m, \u001b[32m'MIALANG'\u001b[0m, \u001b[32m'MIAPROXY'\u001b[0m, \u001b[32m'MIAINTRP'\u001b[0m, \u001b[32m'AIALANGA'\u001b[0m,\n",
       "       \u001b[32m'WTINTPRP'\u001b[0m, \u001b[32m'WTMECPRP'\u001b[0m, \u001b[32m'SDMVPSU'\u001b[0m, \u001b[32m'SDMVSTRA'\u001b[0m, \u001b[32m'INDFMPIR'\u001b[0m\u001b[1m]\u001b[0m,\n",
       "      \u001b[33mdtype\u001b[0m=\u001b[32m'object'\u001b[0m\u001b[1m)\u001b[0m"
      ]
     },
     "execution_count": 125,
     "metadata": {},
     "output_type": "execute_result"
    }
   ],
   "source": [
    "demografia.columns"
   ]
  },
  {
   "cell_type": "markdown",
   "id": "6db5d799-d2e6-4429-a257-beed021cac30",
   "metadata": {
    "jp-MarkdownHeadingCollapsed": true
   },
   "source": [
    "# Creación de dataframe con Id, Edad, Género, Raza, Educación, Estado Civil, Nivel de Pobreza"
   ]
  },
  {
   "cell_type": "code",
   "execution_count": 126,
   "id": "d46dd7ee-9f19-45ae-8460-723342c20094",
   "metadata": {},
   "outputs": [],
   "source": [
    "consideracion = pd.DataFrame()\n",
    "consideracion[\"ID\"] = demografia[\"SEQN\"]\n",
    "consideracion[\"Edad\"] = demografia[\"RIDAGEYR\"]\n",
    "consideracion[\"Genero\"] = demografia[\"RIAGENDR\"] #1 = hombre; 2= mujer\n",
    "consideracion[\"Raza\"] = demografia[\"RIDRETH3\"] # 1 = mexico; 2 = otro hispano; 3 = Blanco; 4= negro; 6= asiatico; 7 = otro\n",
    "consideracion[\"Educacion\"] = demografia[\"DMDEDUC2\"] #ver nhanes\n",
    "consideracion[\"EstadoCivil\"] = demografia[\"DMDMARTZ\"]\n",
    "consideracion[\"NivelPobreza\"] = demografia[\"INDFMPIR\"]"
   ]
  },
  {
   "cell_type": "code",
   "execution_count": 127,
   "id": "106c5e5d-05c4-4f0a-9a16-48552b1ff7d0",
   "metadata": {
    "collapsed": true,
    "jupyter": {
     "outputs_hidden": true
    },
    "scrolled": true
   },
   "outputs": [
    {
     "data": {
      "text/html": [
       "<pre style=\"white-space:pre;overflow-x:auto;line-height:normal;font-family:Menlo,'DejaVu Sans Mono',consolas,'Courier New',monospace\"></pre>\n"
      ],
      "text/plain": []
     },
     "metadata": {},
     "output_type": "display_data"
    },
    {
     "data": {
      "text/html": [
       "<div>\n",
       "<style scoped>\n",
       "    .dataframe tbody tr th:only-of-type {\n",
       "        vertical-align: middle;\n",
       "    }\n",
       "\n",
       "    .dataframe tbody tr th {\n",
       "        vertical-align: top;\n",
       "    }\n",
       "\n",
       "    .dataframe thead th {\n",
       "        text-align: right;\n",
       "    }\n",
       "</style>\n",
       "<table border=\"1\" class=\"dataframe\">\n",
       "  <thead>\n",
       "    <tr style=\"text-align: right;\">\n",
       "      <th></th>\n",
       "      <th>ID</th>\n",
       "      <th>Edad</th>\n",
       "      <th>Genero</th>\n",
       "      <th>Raza</th>\n",
       "      <th>Educacion</th>\n",
       "      <th>EstadoCivil</th>\n",
       "      <th>NivelPobreza</th>\n",
       "    </tr>\n",
       "  </thead>\n",
       "  <tbody>\n",
       "    <tr>\n",
       "      <th>1</th>\n",
       "      <td>109264.00</td>\n",
       "      <td>13.00</td>\n",
       "      <td>2.00</td>\n",
       "      <td>1.00</td>\n",
       "      <td>NaN</td>\n",
       "      <td>NaN</td>\n",
       "      <td>0.83</td>\n",
       "    </tr>\n",
       "    <tr>\n",
       "      <th>6</th>\n",
       "      <td>109269.00</td>\n",
       "      <td>2.00</td>\n",
       "      <td>1.00</td>\n",
       "      <td>2.00</td>\n",
       "      <td>NaN</td>\n",
       "      <td>NaN</td>\n",
       "      <td>0.96</td>\n",
       "    </tr>\n",
       "    <tr>\n",
       "      <th>9</th>\n",
       "      <td>109272.00</td>\n",
       "      <td>0.00</td>\n",
       "      <td>1.00</td>\n",
       "      <td>1.00</td>\n",
       "      <td>NaN</td>\n",
       "      <td>NaN</td>\n",
       "      <td>0.73</td>\n",
       "    </tr>\n",
       "    <tr>\n",
       "      <th>10</th>\n",
       "      <td>109273.00</td>\n",
       "      <td>36.00</td>\n",
       "      <td>1.00</td>\n",
       "      <td>3.00</td>\n",
       "      <td>4.00</td>\n",
       "      <td>3.00</td>\n",
       "      <td>0.83</td>\n",
       "    </tr>\n",
       "    <tr>\n",
       "      <th>13</th>\n",
       "      <td>109276.00</td>\n",
       "      <td>0.00</td>\n",
       "      <td>1.00</td>\n",
       "      <td>4.00</td>\n",
       "      <td>NaN</td>\n",
       "      <td>NaN</td>\n",
       "      <td>0.00</td>\n",
       "    </tr>\n",
       "    <tr>\n",
       "      <th>...</th>\n",
       "      <td>...</td>\n",
       "      <td>...</td>\n",
       "      <td>...</td>\n",
       "      <td>...</td>\n",
       "      <td>...</td>\n",
       "      <td>...</td>\n",
       "      <td>...</td>\n",
       "    </tr>\n",
       "    <tr>\n",
       "      <th>15524</th>\n",
       "      <td>124787.00</td>\n",
       "      <td>19.00</td>\n",
       "      <td>2.00</td>\n",
       "      <td>4.00</td>\n",
       "      <td>NaN</td>\n",
       "      <td>NaN</td>\n",
       "      <td>0.80</td>\n",
       "    </tr>\n",
       "    <tr>\n",
       "      <th>15529</th>\n",
       "      <td>124792.00</td>\n",
       "      <td>32.00</td>\n",
       "      <td>1.00</td>\n",
       "      <td>2.00</td>\n",
       "      <td>5.00</td>\n",
       "      <td>3.00</td>\n",
       "      <td>0.00</td>\n",
       "    </tr>\n",
       "    <tr>\n",
       "      <th>15535</th>\n",
       "      <td>124798.00</td>\n",
       "      <td>55.00</td>\n",
       "      <td>1.00</td>\n",
       "      <td>2.00</td>\n",
       "      <td>1.00</td>\n",
       "      <td>3.00</td>\n",
       "      <td>0.80</td>\n",
       "    </tr>\n",
       "    <tr>\n",
       "      <th>15543</th>\n",
       "      <td>124806.00</td>\n",
       "      <td>4.00</td>\n",
       "      <td>2.00</td>\n",
       "      <td>4.00</td>\n",
       "      <td>NaN</td>\n",
       "      <td>NaN</td>\n",
       "      <td>0.38</td>\n",
       "    </tr>\n",
       "    <tr>\n",
       "      <th>15556</th>\n",
       "      <td>124819.00</td>\n",
       "      <td>2.00</td>\n",
       "      <td>1.00</td>\n",
       "      <td>4.00</td>\n",
       "      <td>NaN</td>\n",
       "      <td>NaN</td>\n",
       "      <td>0.07</td>\n",
       "    </tr>\n",
       "  </tbody>\n",
       "</table>\n",
       "<p>3226 rows × 7 columns</p>\n",
       "</div>"
      ],
      "text/plain": [
       "\n",
       "             ID  Edad  Genero  Raza  Educacion  EstadoCivil  NivelPobreza\n",
       "\u001b[1;36m1\u001b[0m     \u001b[1;36m109264.00\u001b[0m \u001b[1;36m13.00\u001b[0m    \u001b[1;36m2.00\u001b[0m  \u001b[1;36m1.00\u001b[0m        NaN          NaN          \u001b[1;36m0.83\u001b[0m\n",
       "\u001b[1;36m6\u001b[0m     \u001b[1;36m109269.00\u001b[0m  \u001b[1;36m2.00\u001b[0m    \u001b[1;36m1.00\u001b[0m  \u001b[1;36m2.00\u001b[0m        NaN          NaN          \u001b[1;36m0.96\u001b[0m\n",
       "\u001b[1;36m9\u001b[0m     \u001b[1;36m109272.00\u001b[0m  \u001b[1;36m0.00\u001b[0m    \u001b[1;36m1.00\u001b[0m  \u001b[1;36m1.00\u001b[0m        NaN          NaN          \u001b[1;36m0.73\u001b[0m\n",
       "\u001b[1;36m10\u001b[0m    \u001b[1;36m109273.00\u001b[0m \u001b[1;36m36.00\u001b[0m    \u001b[1;36m1.00\u001b[0m  \u001b[1;36m3.00\u001b[0m       \u001b[1;36m4.00\u001b[0m         \u001b[1;36m3.00\u001b[0m          \u001b[1;36m0.83\u001b[0m\n",
       "\u001b[1;36m13\u001b[0m    \u001b[1;36m109276.00\u001b[0m  \u001b[1;36m0.00\u001b[0m    \u001b[1;36m1.00\u001b[0m  \u001b[1;36m4.00\u001b[0m        NaN          NaN          \u001b[1;36m0.00\u001b[0m\n",
       "\u001b[33m...\u001b[0m         \u001b[33m...\u001b[0m   \u001b[33m...\u001b[0m     \u001b[33m...\u001b[0m   \u001b[33m...\u001b[0m        \u001b[33m...\u001b[0m          \u001b[33m...\u001b[0m           \u001b[33m...\u001b[0m\n",
       "\u001b[1;36m15524\u001b[0m \u001b[1;36m124787.00\u001b[0m \u001b[1;36m19.00\u001b[0m    \u001b[1;36m2.00\u001b[0m  \u001b[1;36m4.00\u001b[0m        NaN          NaN          \u001b[1;36m0.80\u001b[0m\n",
       "\u001b[1;36m15529\u001b[0m \u001b[1;36m124792.00\u001b[0m \u001b[1;36m32.00\u001b[0m    \u001b[1;36m1.00\u001b[0m  \u001b[1;36m2.00\u001b[0m       \u001b[1;36m5.00\u001b[0m         \u001b[1;36m3.00\u001b[0m          \u001b[1;36m0.00\u001b[0m\n",
       "\u001b[1;36m15535\u001b[0m \u001b[1;36m124798.00\u001b[0m \u001b[1;36m55.00\u001b[0m    \u001b[1;36m1.00\u001b[0m  \u001b[1;36m2.00\u001b[0m       \u001b[1;36m1.00\u001b[0m         \u001b[1;36m3.00\u001b[0m          \u001b[1;36m0.80\u001b[0m\n",
       "\u001b[1;36m15543\u001b[0m \u001b[1;36m124806.00\u001b[0m  \u001b[1;36m4.00\u001b[0m    \u001b[1;36m2.00\u001b[0m  \u001b[1;36m4.00\u001b[0m        NaN          NaN          \u001b[1;36m0.38\u001b[0m\n",
       "\u001b[1;36m15556\u001b[0m \u001b[1;36m124819.00\u001b[0m  \u001b[1;36m2.00\u001b[0m    \u001b[1;36m1.00\u001b[0m  \u001b[1;36m4.00\u001b[0m        NaN          NaN          \u001b[1;36m0.07\u001b[0m\n",
       "\n",
       "\u001b[1m[\u001b[0m\u001b[1;36m3226\u001b[0m rows x \u001b[1;36m7\u001b[0m columns\u001b[1m]\u001b[0m"
      ]
     },
     "execution_count": 127,
     "metadata": {},
     "output_type": "execute_result"
    }
   ],
   "source": [
    "pd.options.display.float_format = '{:.2f}'.format\n",
    "consideracion[consideracion[\"NivelPobreza\"]<1]"
   ]
  },
  {
   "cell_type": "code",
   "execution_count": 128,
   "id": "6ee8d02e-4fdf-407e-924e-c1d32730561e",
   "metadata": {},
   "outputs": [
    {
     "name": "stdout",
     "output_type": "stream",
     "text": [
      "Columna Educacion tiene 6328 NaN\n",
      "Columna EstadoCivil tiene 6328 NaN\n",
      "Columna NivelPobreza tiene 2201 NaN\n"
     ]
    }
   ],
   "source": [
    "for columna in consideracion.columns:\n",
    "    if consideracion[columna].isna().sum() != 0:\n",
    "        print(f\"Columna {columna} tiene {consideracion[columna].isna().sum()} NaN\")"
   ]
  },
  {
   "cell_type": "code",
   "execution_count": 129,
   "id": "15b75cc0-7c46-4f64-8a90-4a8810269170",
   "metadata": {},
   "outputs": [],
   "source": [
    "consideracion.loc[consideracion[\"Edad\"] <= 13, \"Educacion\"] = consideracion.loc[consideracion[\"Edad\"] <= 13, \"Educacion\"].fillna(1)\n",
    "consideracion.loc[consideracion[\"Edad\"] <= 18, \"Educacion\"] = consideracion.loc[consideracion[\"Edad\"] <= 18, \"Educacion\"].fillna(2)\n",
    "consideracion.loc[consideracion[\"Edad\"] <= 18, \"EstadoCivil\"] = consideracion.loc[consideracion[\"Edad\"] <= 18, \"EstadoCivil\"].fillna(3)"
   ]
  },
  {
   "cell_type": "code",
   "execution_count": 130,
   "id": "e798bd1f-7d7b-460f-9885-6626c0d155da",
   "metadata": {
    "collapsed": true,
    "jupyter": {
     "outputs_hidden": true
    }
   },
   "outputs": [
    {
     "data": {
      "text/html": [
       "<pre style=\"white-space:pre;overflow-x:auto;line-height:normal;font-family:Menlo,'DejaVu Sans Mono',consolas,'Courier New',monospace\"></pre>\n"
      ],
      "text/plain": []
     },
     "metadata": {},
     "output_type": "display_data"
    },
    {
     "data": {
      "image/png": "[encoded data removed]",
      "text/plain": [
       "\u001b[1m<\u001b[0m\u001b[1;95mFigure\u001b[0m\u001b[39m size 64\u001b[0m\u001b[1;36m0x480\u001b[0m\u001b[39m with \u001b[0m\u001b[1;36m1\u001b[0m\u001b[39m Axes\u001b[0m\u001b[1m>\u001b[0m"
      ]
     },
     "metadata": {},
     "output_type": "display_data"
    },
    {
     "data": {
      "text/html": [
       "<pre style=\"white-space:pre;overflow-x:auto;line-height:normal;font-family:Menlo,'DejaVu Sans Mono',consolas,'Courier New',monospace\"></pre>\n"
      ],
      "text/plain": []
     },
     "metadata": {},
     "output_type": "display_data"
    },
    {
     "data": {
      "image/png": "[encoded data removed]",
      "text/plain": [
       "\u001b[1m<\u001b[0m\u001b[1;95mFigure\u001b[0m\u001b[39m size 64\u001b[0m\u001b[1;36m0x480\u001b[0m\u001b[39m with \u001b[0m\u001b[1;36m1\u001b[0m\u001b[39m Axes\u001b[0m\u001b[1m>\u001b[0m"
      ]
     },
     "metadata": {},
     "output_type": "display_data"
    },
    {
     "data": {
      "text/html": [
       "<pre style=\"white-space:pre;overflow-x:auto;line-height:normal;font-family:Menlo,'DejaVu Sans Mono',consolas,'Courier New',monospace\"></pre>\n"
      ],
      "text/plain": []
     },
     "metadata": {},
     "output_type": "display_data"
    },
    {
     "data": {
      "image/png": "[encoded data removed]",
      "text/plain": [
       "\u001b[1m<\u001b[0m\u001b[1;95mFigure\u001b[0m\u001b[39m size 64\u001b[0m\u001b[1;36m0x480\u001b[0m\u001b[39m with \u001b[0m\u001b[1;36m1\u001b[0m\u001b[39m Axes\u001b[0m\u001b[1m>\u001b[0m"
      ]
     },
     "metadata": {},
     "output_type": "display_data"
    },
    {
     "data": {
      "text/html": [
       "<pre style=\"white-space:pre;overflow-x:auto;line-height:normal;font-family:Menlo,'DejaVu Sans Mono',consolas,'Courier New',monospace\"></pre>\n"
      ],
      "text/plain": []
     },
     "metadata": {},
     "output_type": "display_data"
    },
    {
     "data": {
      "image/png": "[encoded data removed]",
      "text/plain": [
       "\u001b[1m<\u001b[0m\u001b[1;95mFigure\u001b[0m\u001b[39m size 64\u001b[0m\u001b[1;36m0x480\u001b[0m\u001b[39m with \u001b[0m\u001b[1;36m1\u001b[0m\u001b[39m Axes\u001b[0m\u001b[1m>\u001b[0m"
      ]
     },
     "metadata": {},
     "output_type": "display_data"
    },
    {
     "data": {
      "text/html": [
       "<pre style=\"white-space:pre;overflow-x:auto;line-height:normal;font-family:Menlo,'DejaVu Sans Mono',consolas,'Courier New',monospace\"></pre>\n"
      ],
      "text/plain": []
     },
     "metadata": {},
     "output_type": "display_data"
    },
    {
     "data": {
      "image/png": "[encoded data removed]",
      "text/plain": [
       "\u001b[1m<\u001b[0m\u001b[1;95mFigure\u001b[0m\u001b[39m size 64\u001b[0m\u001b[1;36m0x480\u001b[0m\u001b[39m with \u001b[0m\u001b[1;36m1\u001b[0m\u001b[39m Axes\u001b[0m\u001b[1m>\u001b[0m"
      ]
     },
     "metadata": {},
     "output_type": "display_data"
    },
    {
     "data": {
      "text/html": [
       "<pre style=\"white-space:pre;overflow-x:auto;line-height:normal;font-family:Menlo,'DejaVu Sans Mono',consolas,'Courier New',monospace\"></pre>\n"
      ],
      "text/plain": []
     },
     "metadata": {},
     "output_type": "display_data"
    },
    {
     "data": {
      "image/png": "[encoded data removed]",
      "text/plain": [
       "\u001b[1m<\u001b[0m\u001b[1;95mFigure\u001b[0m\u001b[39m size 64\u001b[0m\u001b[1;36m0x480\u001b[0m\u001b[39m with \u001b[0m\u001b[1;36m1\u001b[0m\u001b[39m Axes\u001b[0m\u001b[1m>\u001b[0m"
      ]
     },
     "metadata": {},
     "output_type": "display_data"
    },
    {
     "data": {
      "text/html": [
       "<pre style=\"white-space:pre;overflow-x:auto;line-height:normal;font-family:Menlo,'DejaVu Sans Mono',consolas,'Courier New',monospace\"></pre>\n"
      ],
      "text/plain": []
     },
     "metadata": {},
     "output_type": "display_data"
    },
    {
     "data": {
      "image/png": "[encoded data removed]",
      "text/plain": [
       "\u001b[1m<\u001b[0m\u001b[1;95mFigure\u001b[0m\u001b[39m size 64\u001b[0m\u001b[1;36m0x480\u001b[0m\u001b[39m with \u001b[0m\u001b[1;36m1\u001b[0m\u001b[39m Axes\u001b[0m\u001b[1m>\u001b[0m"
      ]
     },
     "metadata": {},
     "output_type": "display_data"
    }
   ],
   "source": [
    "for col in consideracion.columns:\n",
    "  plt.hist(consideracion[col])\n",
    "  plt.title(f'Histograma de {col}')\n",
    "  plt.xlabel(col)\n",
    "  plt.ylabel('Frecuencia')\n",
    "  plt.show()"
   ]
  },
  {
   "cell_type": "code",
   "execution_count": 131,
   "id": "b0f7be64-5943-4c13-a587-d189d990472e",
   "metadata": {
    "collapsed": true,
    "jupyter": {
     "outputs_hidden": true
    }
   },
   "outputs": [
    {
     "data": {
      "text/html": [
       "<pre style=\"white-space:pre;overflow-x:auto;line-height:normal;font-family:Menlo,'DejaVu Sans Mono',consolas,'Courier New',monospace\"></pre>\n"
      ],
      "text/plain": []
     },
     "metadata": {},
     "output_type": "display_data"
    },
    {
     "data": {
      "text/html": [
       "<div>\n",
       "<style scoped>\n",
       "    .dataframe tbody tr th:only-of-type {\n",
       "        vertical-align: middle;\n",
       "    }\n",
       "\n",
       "    .dataframe tbody tr th {\n",
       "        vertical-align: top;\n",
       "    }\n",
       "\n",
       "    .dataframe thead th {\n",
       "        text-align: right;\n",
       "    }\n",
       "</style>\n",
       "<table border=\"1\" class=\"dataframe\">\n",
       "  <thead>\n",
       "    <tr style=\"text-align: right;\">\n",
       "      <th></th>\n",
       "      <th>ID</th>\n",
       "      <th>Edad</th>\n",
       "      <th>Genero</th>\n",
       "      <th>Raza</th>\n",
       "      <th>Educacion</th>\n",
       "      <th>EstadoCivil</th>\n",
       "      <th>NivelPobreza</th>\n",
       "    </tr>\n",
       "  </thead>\n",
       "  <tbody>\n",
       "    <tr>\n",
       "      <th>0</th>\n",
       "      <td>109263.00</td>\n",
       "      <td>2.00</td>\n",
       "      <td>1.00</td>\n",
       "      <td>6.00</td>\n",
       "      <td>1.00</td>\n",
       "      <td>3.00</td>\n",
       "      <td>4.66</td>\n",
       "    </tr>\n",
       "    <tr>\n",
       "      <th>1</th>\n",
       "      <td>109264.00</td>\n",
       "      <td>13.00</td>\n",
       "      <td>2.00</td>\n",
       "      <td>1.00</td>\n",
       "      <td>1.00</td>\n",
       "      <td>3.00</td>\n",
       "      <td>0.83</td>\n",
       "    </tr>\n",
       "    <tr>\n",
       "      <th>2</th>\n",
       "      <td>109265.00</td>\n",
       "      <td>2.00</td>\n",
       "      <td>1.00</td>\n",
       "      <td>3.00</td>\n",
       "      <td>1.00</td>\n",
       "      <td>3.00</td>\n",
       "      <td>3.06</td>\n",
       "    </tr>\n",
       "    <tr>\n",
       "      <th>3</th>\n",
       "      <td>109266.00</td>\n",
       "      <td>29.00</td>\n",
       "      <td>2.00</td>\n",
       "      <td>6.00</td>\n",
       "      <td>5.00</td>\n",
       "      <td>3.00</td>\n",
       "      <td>5.00</td>\n",
       "    </tr>\n",
       "    <tr>\n",
       "      <th>4</th>\n",
       "      <td>109267.00</td>\n",
       "      <td>21.00</td>\n",
       "      <td>2.00</td>\n",
       "      <td>2.00</td>\n",
       "      <td>4.00</td>\n",
       "      <td>3.00</td>\n",
       "      <td>5.00</td>\n",
       "    </tr>\n",
       "    <tr>\n",
       "      <th>...</th>\n",
       "      <td>...</td>\n",
       "      <td>...</td>\n",
       "      <td>...</td>\n",
       "      <td>...</td>\n",
       "      <td>...</td>\n",
       "      <td>...</td>\n",
       "      <td>...</td>\n",
       "    </tr>\n",
       "    <tr>\n",
       "      <th>15555</th>\n",
       "      <td>124818.00</td>\n",
       "      <td>40.00</td>\n",
       "      <td>1.00</td>\n",
       "      <td>4.00</td>\n",
       "      <td>5.00</td>\n",
       "      <td>1.00</td>\n",
       "      <td>3.82</td>\n",
       "    </tr>\n",
       "    <tr>\n",
       "      <th>15556</th>\n",
       "      <td>124819.00</td>\n",
       "      <td>2.00</td>\n",
       "      <td>1.00</td>\n",
       "      <td>4.00</td>\n",
       "      <td>1.00</td>\n",
       "      <td>3.00</td>\n",
       "      <td>0.07</td>\n",
       "    </tr>\n",
       "    <tr>\n",
       "      <th>15557</th>\n",
       "      <td>124820.00</td>\n",
       "      <td>7.00</td>\n",
       "      <td>2.00</td>\n",
       "      <td>3.00</td>\n",
       "      <td>1.00</td>\n",
       "      <td>3.00</td>\n",
       "      <td>1.22</td>\n",
       "    </tr>\n",
       "    <tr>\n",
       "      <th>15558</th>\n",
       "      <td>124821.00</td>\n",
       "      <td>63.00</td>\n",
       "      <td>1.00</td>\n",
       "      <td>4.00</td>\n",
       "      <td>2.00</td>\n",
       "      <td>2.00</td>\n",
       "      <td>3.71</td>\n",
       "    </tr>\n",
       "    <tr>\n",
       "      <th>15559</th>\n",
       "      <td>124822.00</td>\n",
       "      <td>74.00</td>\n",
       "      <td>1.00</td>\n",
       "      <td>2.00</td>\n",
       "      <td>3.00</td>\n",
       "      <td>1.00</td>\n",
       "      <td>2.41</td>\n",
       "    </tr>\n",
       "  </tbody>\n",
       "</table>\n",
       "<p>15560 rows × 7 columns</p>\n",
       "</div>"
      ],
      "text/plain": [
       "\n",
       "             ID  Edad  Genero  Raza  Educacion  EstadoCivil  NivelPobreza\n",
       "\u001b[1;36m0\u001b[0m     \u001b[1;36m109263.00\u001b[0m  \u001b[1;36m2.00\u001b[0m    \u001b[1;36m1.00\u001b[0m  \u001b[1;36m6.00\u001b[0m       \u001b[1;36m1.00\u001b[0m         \u001b[1;36m3.00\u001b[0m          \u001b[1;36m4.66\u001b[0m\n",
       "\u001b[1;36m1\u001b[0m     \u001b[1;36m109264.00\u001b[0m \u001b[1;36m13.00\u001b[0m    \u001b[1;36m2.00\u001b[0m  \u001b[1;36m1.00\u001b[0m       \u001b[1;36m1.00\u001b[0m         \u001b[1;36m3.00\u001b[0m          \u001b[1;36m0.83\u001b[0m\n",
       "\u001b[1;36m2\u001b[0m     \u001b[1;36m109265.00\u001b[0m  \u001b[1;36m2.00\u001b[0m    \u001b[1;36m1.00\u001b[0m  \u001b[1;36m3.00\u001b[0m       \u001b[1;36m1.00\u001b[0m         \u001b[1;36m3.00\u001b[0m          \u001b[1;36m3.06\u001b[0m\n",
       "\u001b[1;36m3\u001b[0m     \u001b[1;36m109266.00\u001b[0m \u001b[1;36m29.00\u001b[0m    \u001b[1;36m2.00\u001b[0m  \u001b[1;36m6.00\u001b[0m       \u001b[1;36m5.00\u001b[0m         \u001b[1;36m3.00\u001b[0m          \u001b[1;36m5.00\u001b[0m\n",
       "\u001b[1;36m4\u001b[0m     \u001b[1;36m109267.00\u001b[0m \u001b[1;36m21.00\u001b[0m    \u001b[1;36m2.00\u001b[0m  \u001b[1;36m2.00\u001b[0m       \u001b[1;36m4.00\u001b[0m         \u001b[1;36m3.00\u001b[0m          \u001b[1;36m5.00\u001b[0m\n",
       "\u001b[33m...\u001b[0m         \u001b[33m...\u001b[0m   \u001b[33m...\u001b[0m     \u001b[33m...\u001b[0m   \u001b[33m...\u001b[0m        \u001b[33m...\u001b[0m          \u001b[33m...\u001b[0m           \u001b[33m...\u001b[0m\n",
       "\u001b[1;36m15555\u001b[0m \u001b[1;36m124818.00\u001b[0m \u001b[1;36m40.00\u001b[0m    \u001b[1;36m1.00\u001b[0m  \u001b[1;36m4.00\u001b[0m       \u001b[1;36m5.00\u001b[0m         \u001b[1;36m1.00\u001b[0m          \u001b[1;36m3.82\u001b[0m\n",
       "\u001b[1;36m15556\u001b[0m \u001b[1;36m124819.00\u001b[0m  \u001b[1;36m2.00\u001b[0m    \u001b[1;36m1.00\u001b[0m  \u001b[1;36m4.00\u001b[0m       \u001b[1;36m1.00\u001b[0m         \u001b[1;36m3.00\u001b[0m          \u001b[1;36m0.07\u001b[0m\n",
       "\u001b[1;36m15557\u001b[0m \u001b[1;36m124820.00\u001b[0m  \u001b[1;36m7.00\u001b[0m    \u001b[1;36m2.00\u001b[0m  \u001b[1;36m3.00\u001b[0m       \u001b[1;36m1.00\u001b[0m         \u001b[1;36m3.00\u001b[0m          \u001b[1;36m1.22\u001b[0m\n",
       "\u001b[1;36m15558\u001b[0m \u001b[1;36m124821.00\u001b[0m \u001b[1;36m63.00\u001b[0m    \u001b[1;36m1.00\u001b[0m  \u001b[1;36m4.00\u001b[0m       \u001b[1;36m2.00\u001b[0m         \u001b[1;36m2.00\u001b[0m          \u001b[1;36m3.71\u001b[0m\n",
       "\u001b[1;36m15559\u001b[0m \u001b[1;36m124822.00\u001b[0m \u001b[1;36m74.00\u001b[0m    \u001b[1;36m1.00\u001b[0m  \u001b[1;36m2.00\u001b[0m       \u001b[1;36m3.00\u001b[0m         \u001b[1;36m1.00\u001b[0m          \u001b[1;36m2.41\u001b[0m\n",
       "\n",
       "\u001b[1m[\u001b[0m\u001b[1;36m15560\u001b[0m rows x \u001b[1;36m7\u001b[0m columns\u001b[1m]\u001b[0m"
      ]
     },
     "execution_count": 131,
     "metadata": {},
     "output_type": "execute_result"
    }
   ],
   "source": [
    "knn_imputer = KNNImputer(n_neighbors=10, weights=\"uniform\")\n",
    "\n",
    "consideracion[['NivelPobreza']] = knn_imputer.fit_transform(consideracion[['NivelPobreza']])\n",
    "consideracion"
   ]
  },
  {
   "cell_type": "code",
   "execution_count": 132,
   "id": "3a67691f-391f-4b04-b6f8-12313d19bce1",
   "metadata": {
    "collapsed": true,
    "jupyter": {
     "outputs_hidden": true
    }
   },
   "outputs": [
    {
     "data": {
      "text/html": [
       "<pre style=\"white-space:pre;overflow-x:auto;line-height:normal;font-family:Menlo,'DejaVu Sans Mono',consolas,'Courier New',monospace\"></pre>\n"
      ],
      "text/plain": []
     },
     "metadata": {},
     "output_type": "display_data"
    },
    {
     "data": {
      "text/plain": [
       "\n",
       "count   \u001b[1;36m15560.00\u001b[0m\n",
       "mean        \u001b[1;36m2.41\u001b[0m\n",
       "std         \u001b[1;36m1.51\u001b[0m\n",
       "min         \u001b[1;36m0.00\u001b[0m\n",
       "\u001b[1;36m25\u001b[0m%         \u001b[1;36m1.16\u001b[0m\n",
       "\u001b[1;36m50\u001b[0m%         \u001b[1;36m2.41\u001b[0m\n",
       "\u001b[1;36m75\u001b[0m%         \u001b[1;36m3.47\u001b[0m\n",
       "max         \u001b[1;36m5.00\u001b[0m\n",
       "Name: NivelPobreza, dtype: float64"
      ]
     },
     "execution_count": 132,
     "metadata": {},
     "output_type": "execute_result"
    }
   ],
   "source": [
    "consideracion[\"NivelPobreza\"].describe()"
   ]
  },
  {
   "cell_type": "code",
   "execution_count": 133,
   "id": "29d69149-0960-4468-a233-ea546818452f",
   "metadata": {
    "collapsed": true,
    "jupyter": {
     "outputs_hidden": true
    }
   },
   "outputs": [
    {
     "data": {
      "text/html": [
       "<pre style=\"white-space:pre;overflow-x:auto;line-height:normal;font-family:Menlo,'DejaVu Sans Mono',consolas,'Courier New',monospace\"></pre>\n"
      ],
      "text/plain": []
     },
     "metadata": {},
     "output_type": "display_data"
    },
    {
     "data": {
      "text/plain": [
       "\n",
       "ID                \u001b[1;36m0\u001b[0m\n",
       "Edad              \u001b[1;36m0\u001b[0m\n",
       "Genero            \u001b[1;36m0\u001b[0m\n",
       "Raza              \u001b[1;36m0\u001b[0m\n",
       "Educacion       \u001b[1;36m227\u001b[0m\n",
       "EstadoCivil     \u001b[1;36m227\u001b[0m\n",
       "NivelPobreza      \u001b[1;36m0\u001b[0m\n",
       "dtype: int64"
      ]
     },
     "execution_count": 133,
     "metadata": {},
     "output_type": "execute_result"
    }
   ],
   "source": [
    "consideracion.isna().sum()"
   ]
  },
  {
   "cell_type": "code",
   "execution_count": 134,
   "id": "3cb0ca4e-076d-4585-9d33-6cf6a20938f6",
   "metadata": {},
   "outputs": [],
   "source": [
    "#consideracion = consideracion.dropna()"
   ]
  },
  {
   "cell_type": "code",
   "execution_count": 135,
   "id": "a9e50a48-cf44-4fb3-93b2-c28da508c997",
   "metadata": {},
   "outputs": [
    {
     "data": {
      "text/html": [
       "<pre style=\"white-space:pre;overflow-x:auto;line-height:normal;font-family:Menlo,'DejaVu Sans Mono',consolas,'Courier New',monospace\"></pre>\n"
      ],
      "text/plain": []
     },
     "metadata": {},
     "output_type": "display_data"
    },
    {
     "data": {
      "text/plain": [
       "\u001b[1;35mnp.int64\u001b[0m\u001b[1m(\u001b[0m\u001b[1;36m227\u001b[0m\u001b[1m)\u001b[0m"
      ]
     },
     "execution_count": 135,
     "metadata": {},
     "output_type": "execute_result"
    }
   ],
   "source": [
    "consideracion[\"Educacion\"].isna().sum()"
   ]
  },
  {
   "cell_type": "code",
   "execution_count": null,
   "id": "9cf7aa9c-53e0-469c-9265-d34245f72c5a",
   "metadata": {
    "collapsed": true,
    "jupyter": {
     "outputs_hidden": true
    }
   },
   "outputs": [],
   "source": [
    "consideracion[\"NivelPobreza\"].describe()"
   ]
  },
  {
   "cell_type": "markdown",
   "id": "c2e31483-d12b-443a-808d-6aa83a8ec089",
   "metadata": {
    "jp-MarkdownHeadingCollapsed": true
   },
   "source": [
    "# Combinación de dataset con Insulina"
   ]
  },
  {
   "cell_type": "code",
   "execution_count": 137,
   "id": "2ac36312-1e38-421b-9f3d-1bb53dc5d4da",
   "metadata": {},
   "outputs": [],
   "source": [
    "insulina['SEQN'] = insulina['SEQN'].astype(int)\n",
    "insulina = insulina.rename(columns={'SEQN': 'ID'})\n",
    "insulina = insulina.rename(columns={'WTSAFPRP': \"Peso de Submuestra en Ayunas\"})\n",
    "insulina = insulina.rename(columns={'LBXIN': \"Insulina (μU/mL)\"})\n",
    "insulina = insulina.rename(columns={'LBDINSI': \"Insulina (pmol/L)\"})\n",
    "insulina = insulina.rename(columns={'LBDINLC': \"Código de Comentario de Insulina\"})\n"
   ]
  },
  {
   "cell_type": "code",
   "execution_count": 138,
   "id": "7599bbc3-bbdc-4525-ae24-45894e6b464b",
   "metadata": {},
   "outputs": [],
   "source": [
    "consideracion_insulina = pd.merge(consideracion, insulina, on='ID', how='inner')"
   ]
  },
  {
   "cell_type": "code",
   "execution_count": 188,
   "id": "706a08cc-47e8-49f6-ab8d-97df69b81099",
   "metadata": {
    "collapsed": true,
    "jupyter": {
     "outputs_hidden": true
    }
   },
   "outputs": [
    {
     "data": {
      "text/html": [
       "<pre style=\"white-space:pre;overflow-x:auto;line-height:normal;font-family:Menlo,'DejaVu Sans Mono',consolas,'Courier New',monospace\"></pre>\n"
      ],
      "text/plain": []
     },
     "metadata": {},
     "output_type": "display_data"
    },
    {
     "data": {
      "text/html": [
       "<div>\n",
       "<style scoped>\n",
       "    .dataframe tbody tr th:only-of-type {\n",
       "        vertical-align: middle;\n",
       "    }\n",
       "\n",
       "    .dataframe tbody tr th {\n",
       "        vertical-align: top;\n",
       "    }\n",
       "\n",
       "    .dataframe thead th {\n",
       "        text-align: right;\n",
       "    }\n",
       "</style>\n",
       "<table border=\"1\" class=\"dataframe\">\n",
       "  <thead>\n",
       "    <tr style=\"text-align: right;\">\n",
       "      <th></th>\n",
       "      <th>ID</th>\n",
       "      <th>Edad</th>\n",
       "      <th>Genero</th>\n",
       "      <th>Raza</th>\n",
       "      <th>Educacion</th>\n",
       "      <th>EstadoCivil</th>\n",
       "      <th>NivelPobreza</th>\n",
       "      <th>Peso de Submuestra en Ayunas</th>\n",
       "      <th>Insulina (μU/mL)</th>\n",
       "      <th>Insulina (pmol/L)</th>\n",
       "      <th>Código de Comentario de Insulina</th>\n",
       "    </tr>\n",
       "  </thead>\n",
       "  <tbody>\n",
       "    <tr>\n",
       "      <th>count</th>\n",
       "      <td>5090.00</td>\n",
       "      <td>5090.00</td>\n",
       "      <td>5090.00</td>\n",
       "      <td>5090.00</td>\n",
       "      <td>4999.00</td>\n",
       "      <td>4999.00</td>\n",
       "      <td>5090.00</td>\n",
       "      <td>5090.00</td>\n",
       "      <td>4625.00</td>\n",
       "      <td>4625.00</td>\n",
       "      <td>4625.00</td>\n",
       "    </tr>\n",
       "    <tr>\n",
       "      <th>mean</th>\n",
       "      <td>117177.33</td>\n",
       "      <td>45.13</td>\n",
       "      <td>1.52</td>\n",
       "      <td>3.49</td>\n",
       "      <td>3.26</td>\n",
       "      <td>1.89</td>\n",
       "      <td>2.49</td>\n",
       "      <td>53883.96</td>\n",
       "      <td>14.98</td>\n",
       "      <td>89.85</td>\n",
       "      <td>0.00</td>\n",
       "    </tr>\n",
       "    <tr>\n",
       "      <th>std</th>\n",
       "      <td>4487.34</td>\n",
       "      <td>20.73</td>\n",
       "      <td>0.50</td>\n",
       "      <td>1.63</td>\n",
       "      <td>1.30</td>\n",
       "      <td>2.61</td>\n",
       "      <td>1.50</td>\n",
       "      <td>68538.13</td>\n",
       "      <td>22.85</td>\n",
       "      <td>137.07</td>\n",
       "      <td>0.04</td>\n",
       "    </tr>\n",
       "    <tr>\n",
       "      <th>min</th>\n",
       "      <td>109264.00</td>\n",
       "      <td>12.00</td>\n",
       "      <td>1.00</td>\n",
       "      <td>1.00</td>\n",
       "      <td>1.00</td>\n",
       "      <td>1.00</td>\n",
       "      <td>0.00</td>\n",
       "      <td>0.00</td>\n",
       "      <td>0.71</td>\n",
       "      <td>4.26</td>\n",
       "      <td>0.00</td>\n",
       "    </tr>\n",
       "    <tr>\n",
       "      <th>25%</th>\n",
       "      <td>113303.50</td>\n",
       "      <td>26.00</td>\n",
       "      <td>1.00</td>\n",
       "      <td>3.00</td>\n",
       "      <td>2.00</td>\n",
       "      <td>1.00</td>\n",
       "      <td>1.26</td>\n",
       "      <td>17305.97</td>\n",
       "      <td>6.31</td>\n",
       "      <td>37.86</td>\n",
       "      <td>0.00</td>\n",
       "    </tr>\n",
       "    <tr>\n",
       "      <th>50%</th>\n",
       "      <td>117265.50</td>\n",
       "      <td>46.00</td>\n",
       "      <td>2.00</td>\n",
       "      <td>3.00</td>\n",
       "      <td>3.00</td>\n",
       "      <td>2.00</td>\n",
       "      <td>2.41</td>\n",
       "      <td>32845.10</td>\n",
       "      <td>10.18</td>\n",
       "      <td>61.08</td>\n",
       "      <td>0.00</td>\n",
       "    </tr>\n",
       "    <tr>\n",
       "      <th>75%</th>\n",
       "      <td>121046.50</td>\n",
       "      <td>62.00</td>\n",
       "      <td>2.00</td>\n",
       "      <td>4.00</td>\n",
       "      <td>4.00</td>\n",
       "      <td>3.00</td>\n",
       "      <td>3.66</td>\n",
       "      <td>62135.88</td>\n",
       "      <td>16.61</td>\n",
       "      <td>99.66</td>\n",
       "      <td>0.00</td>\n",
       "    </tr>\n",
       "    <tr>\n",
       "      <th>max</th>\n",
       "      <td>124822.00</td>\n",
       "      <td>80.00</td>\n",
       "      <td>2.00</td>\n",
       "      <td>7.00</td>\n",
       "      <td>9.00</td>\n",
       "      <td>99.00</td>\n",
       "      <td>5.00</td>\n",
       "      <td>741259.19</td>\n",
       "      <td>512.50</td>\n",
       "      <td>3075.00</td>\n",
       "      <td>1.00</td>\n",
       "    </tr>\n",
       "  </tbody>\n",
       "</table>\n",
       "</div>"
      ],
      "text/plain": [
       "\n",
       "             ID    Edad  Genero    Raza  Educacion  EstadoCivil  NivelPobreza  \\\n",
       "count   \u001b[1;36m5090.00\u001b[0m \u001b[1;36m5090.00\u001b[0m \u001b[1;36m5090.00\u001b[0m \u001b[1;36m5090.00\u001b[0m    \u001b[1;36m4999.00\u001b[0m      \u001b[1;36m4999.00\u001b[0m       \u001b[1;36m5090.00\u001b[0m   \n",
       "mean  \u001b[1;36m117177.33\u001b[0m   \u001b[1;36m45.13\u001b[0m    \u001b[1;36m1.52\u001b[0m    \u001b[1;36m3.49\u001b[0m       \u001b[1;36m3.26\u001b[0m         \u001b[1;36m1.89\u001b[0m          \u001b[1;36m2.49\u001b[0m   \n",
       "std     \u001b[1;36m4487.34\u001b[0m   \u001b[1;36m20.73\u001b[0m    \u001b[1;36m0.50\u001b[0m    \u001b[1;36m1.63\u001b[0m       \u001b[1;36m1.30\u001b[0m         \u001b[1;36m2.61\u001b[0m          \u001b[1;36m1.50\u001b[0m   \n",
       "min   \u001b[1;36m109264.00\u001b[0m   \u001b[1;36m12.00\u001b[0m    \u001b[1;36m1.00\u001b[0m    \u001b[1;36m1.00\u001b[0m       \u001b[1;36m1.00\u001b[0m         \u001b[1;36m1.00\u001b[0m          \u001b[1;36m0.00\u001b[0m   \n",
       "\u001b[1;36m25\u001b[0m%   \u001b[1;36m113303.50\u001b[0m   \u001b[1;36m26.00\u001b[0m    \u001b[1;36m1.00\u001b[0m    \u001b[1;36m3.00\u001b[0m       \u001b[1;36m2.00\u001b[0m         \u001b[1;36m1.00\u001b[0m          \u001b[1;36m1.26\u001b[0m   \n",
       "\u001b[1;36m50\u001b[0m%   \u001b[1;36m117265.50\u001b[0m   \u001b[1;36m46.00\u001b[0m    \u001b[1;36m2.00\u001b[0m    \u001b[1;36m3.00\u001b[0m       \u001b[1;36m3.00\u001b[0m         \u001b[1;36m2.00\u001b[0m          \u001b[1;36m2.41\u001b[0m   \n",
       "\u001b[1;36m75\u001b[0m%   \u001b[1;36m121046.50\u001b[0m   \u001b[1;36m62.00\u001b[0m    \u001b[1;36m2.00\u001b[0m    \u001b[1;36m4.00\u001b[0m       \u001b[1;36m4.00\u001b[0m         \u001b[1;36m3.00\u001b[0m          \u001b[1;36m3.66\u001b[0m   \n",
       "max   \u001b[1;36m124822.00\u001b[0m   \u001b[1;36m80.00\u001b[0m    \u001b[1;36m2.00\u001b[0m    \u001b[1;36m7.00\u001b[0m       \u001b[1;36m9.00\u001b[0m        \u001b[1;36m99.00\u001b[0m          \u001b[1;36m5.00\u001b[0m   \n",
       "\n",
       "       Peso de Submuestra en Ayunas  Insulina \u001b[1m(\u001b[0mμU/mL\u001b[1m)\u001b[0m  Insulina \u001b[1m(\u001b[0mpmol/L\u001b[1m)\u001b[0m  \\\n",
       "count                       \u001b[1;36m5090.00\u001b[0m           \u001b[1;36m4625.00\u001b[0m            \u001b[1;36m4625.00\u001b[0m   \n",
       "mean                       \u001b[1;36m53883.96\u001b[0m             \u001b[1;36m14.98\u001b[0m              \u001b[1;36m89.85\u001b[0m   \n",
       "std                        \u001b[1;36m68538.13\u001b[0m             \u001b[1;36m22.85\u001b[0m             \u001b[1;36m137.07\u001b[0m   \n",
       "min                            \u001b[1;36m0.00\u001b[0m              \u001b[1;36m0.71\u001b[0m               \u001b[1;36m4.26\u001b[0m   \n",
       "\u001b[1;36m25\u001b[0m%                        \u001b[1;36m17305.97\u001b[0m              \u001b[1;36m6.31\u001b[0m              \u001b[1;36m37.86\u001b[0m   \n",
       "\u001b[1;36m50\u001b[0m%                        \u001b[1;36m32845.10\u001b[0m             \u001b[1;36m10.18\u001b[0m              \u001b[1;36m61.08\u001b[0m   \n",
       "\u001b[1;36m75\u001b[0m%                        \u001b[1;36m62135.88\u001b[0m             \u001b[1;36m16.61\u001b[0m              \u001b[1;36m99.66\u001b[0m   \n",
       "max                       \u001b[1;36m741259.19\u001b[0m            \u001b[1;36m512.50\u001b[0m            \u001b[1;36m3075.00\u001b[0m   \n",
       "\n",
       "       Código de Comentario de Insulina  \n",
       "count                           \u001b[1;36m4625.00\u001b[0m  \n",
       "mean                               \u001b[1;36m0.00\u001b[0m  \n",
       "std                                \u001b[1;36m0.04\u001b[0m  \n",
       "min                                \u001b[1;36m0.00\u001b[0m  \n",
       "\u001b[1;36m25\u001b[0m%                                \u001b[1;36m0.00\u001b[0m  \n",
       "\u001b[1;36m50\u001b[0m%                                \u001b[1;36m0.00\u001b[0m  \n",
       "\u001b[1;36m75\u001b[0m%                                \u001b[1;36m0.00\u001b[0m  \n",
       "max                                \u001b[1;36m1.00\u001b[0m  "
      ]
     },
     "execution_count": 188,
     "metadata": {},
     "output_type": "execute_result"
    }
   ],
   "source": [
    "consideracion_insulina.describe()"
   ]
  },
  {
   "cell_type": "code",
   "execution_count": 172,
   "id": "3d7349ef-3b01-4b92-9f2d-86734260831c",
   "metadata": {
    "collapsed": true,
    "jupyter": {
     "outputs_hidden": true,
     "source_hidden": true
    },
    "scrolled": true
   },
   "outputs": [
    {
     "name": "stdout",
     "output_type": "stream",
     "text": [
      " El IQR es 10.3. El límite inferior es: -9.14, el superior es 32.06\n",
      "310\n"
     ]
    }
   ],
   "source": [
    "Q1 = consideracion_insulina[\"Insulina (μU/mL)\"].quantile(0.25)\n",
    "Q3 = consideracion_insulina[\"Insulina (μU/mL)\"].quantile(0.75)\n",
    "IQR = Q3 - Q1\n",
    "\n",
    "# Calculating the bounds\n",
    "lower_bound = Q1 - 1.5 * IQR\n",
    "upper_bound = Q3 + 1.5 * IQR\n",
    "\n",
    "print(f\" El IQR es {IQR}. El límite inferior es: {lower_bound}, el superior es {upper_bound}\")\n",
    "\n",
    "# Identifying outliers\n",
    "outliers = consideracion_insulina[(consideracion_insulina[\"Insulina (μU/mL)\"] < lower_bound) | (consideracion_insulina[\"Insulina (μU/mL)\"] > upper_bound)]\n",
    "\n",
    "# Removing outliers\n",
    "consideracion_insulina_limpio = consideracion_insulina[~((consideracion_insulina[\"Insulina (μU/mL)\"] < lower_bound) | (consideracion_insulina[\"Insulina (μU/mL)\"] > upper_bound))]\n",
    "\n",
    "# Checking the number of outliers\n",
    "num_outliers = len(outliers)\n",
    "\n",
    "print(num_outliers)\n"
   ]
  },
  {
   "cell_type": "code",
   "execution_count": 174,
   "id": "46ee7181-8dfd-4dab-beaa-f731dcca8e62",
   "metadata": {
    "collapsed": true,
    "jupyter": {
     "outputs_hidden": true,
     "source_hidden": true
    }
   },
   "outputs": [
    {
     "name": "stdout",
     "output_type": "stream",
     "text": [
      " El IQR es 8.719999999999999. El límite inferior es: -6.959999999999998, el superior es 27.919999999999998\n",
      "117\n"
     ]
    }
   ],
   "source": [
    "Q1 = consideracion_insulina_limpio[\"Insulina (μU/mL)\"].quantile(0.25)\n",
    "Q3 = consideracion_insulina_limpio[\"Insulina (μU/mL)\"].quantile(0.75)\n",
    "IQR = Q3 - Q1\n",
    "\n",
    "# Calculating the bounds\n",
    "lower_bound = Q1 - 1.5 * IQR\n",
    "upper_bound = Q3 + 1.5 * IQR\n",
    "\n",
    "print(f\" El IQR es {IQR}. El límite inferior es: {lower_bound}, el superior es {upper_bound}\")\n",
    "\n",
    "# Identifying outliers\n",
    "outliers = consideracion_insulina_limpio[(consideracion_insulina_limpio[\"Insulina (μU/mL)\"] < lower_bound) | (consideracion_insulina_limpio[\"Insulina (μU/mL)\"] > upper_bound)]\n",
    "\n",
    "# Removing outliers\n",
    "insulina_limpio = consideracion_insulina_limpio[~((consideracion_insulina_limpio[\"Insulina (μU/mL)\"] < lower_bound) | (consideracion_insulina_limpio[\"Insulina (μU/mL)\"] > upper_bound))]\n",
    "\n",
    "# Checking the number of outliers\n",
    "num_outliers = len(outliers)\n",
    "\n",
    "print(num_outliers)"
   ]
  },
  {
   "cell_type": "code",
   "execution_count": 176,
   "id": "67c800a1-ca4b-4172-8bda-c3422e9f6b2b",
   "metadata": {
    "collapsed": true,
    "jupyter": {
     "outputs_hidden": true
    }
   },
   "outputs": [
    {
     "data": {
      "text/html": [
       "<pre style=\"white-space:pre;overflow-x:auto;line-height:normal;font-family:Menlo,'DejaVu Sans Mono',consolas,'Courier New',monospace\"></pre>\n"
      ],
      "text/plain": []
     },
     "metadata": {},
     "output_type": "display_data"
    },
    {
     "data": {
      "text/plain": [
       "\n",
       "ID                                    \u001b[1;36m0\u001b[0m\n",
       "Edad                                  \u001b[1;36m0\u001b[0m\n",
       "Genero                                \u001b[1;36m0\u001b[0m\n",
       "Raza                                  \u001b[1;36m0\u001b[0m\n",
       "Educacion                            \u001b[1;36m80\u001b[0m\n",
       "EstadoCivil                          \u001b[1;36m80\u001b[0m\n",
       "NivelPobreza                          \u001b[1;36m0\u001b[0m\n",
       "Peso de Submuestra en Ayunas          \u001b[1;36m0\u001b[0m\n",
       "Insulina \u001b[1m(\u001b[0mμU/mL\u001b[1m)\u001b[0m                    \u001b[1;36m465\u001b[0m\n",
       "Insulina \u001b[1m(\u001b[0mpmol/L\u001b[1m)\u001b[0m                   \u001b[1;36m465\u001b[0m\n",
       "Código de Comentario de Insulina    \u001b[1;36m465\u001b[0m\n",
       "dtype: int64"
      ]
     },
     "execution_count": 176,
     "metadata": {},
     "output_type": "execute_result"
    }
   ],
   "source": [
    "insulina_limpio.isna().sum()"
   ]
  },
  {
   "cell_type": "code",
   "execution_count": 175,
   "id": "1387a692-a6e4-446b-b19b-f7f6debe4204",
   "metadata": {
    "collapsed": true,
    "jupyter": {
     "outputs_hidden": true
    }
   },
   "outputs": [
    {
     "data": {
      "text/html": [
       "<pre style=\"white-space:pre;overflow-x:auto;line-height:normal;font-family:Menlo,'DejaVu Sans Mono',consolas,'Courier New',monospace\"></pre>\n"
      ],
      "text/plain": []
     },
     "metadata": {},
     "output_type": "display_data"
    },
    {
     "data": {
      "text/html": [
       "<div>\n",
       "<style scoped>\n",
       "    .dataframe tbody tr th:only-of-type {\n",
       "        vertical-align: middle;\n",
       "    }\n",
       "\n",
       "    .dataframe tbody tr th {\n",
       "        vertical-align: top;\n",
       "    }\n",
       "\n",
       "    .dataframe thead th {\n",
       "        text-align: right;\n",
       "    }\n",
       "</style>\n",
       "<table border=\"1\" class=\"dataframe\">\n",
       "  <thead>\n",
       "    <tr style=\"text-align: right;\">\n",
       "      <th></th>\n",
       "      <th>ID</th>\n",
       "      <th>Edad</th>\n",
       "      <th>Genero</th>\n",
       "      <th>Raza</th>\n",
       "      <th>Educacion</th>\n",
       "      <th>EstadoCivil</th>\n",
       "      <th>NivelPobreza</th>\n",
       "      <th>Peso de Submuestra en Ayunas</th>\n",
       "      <th>Insulina (μU/mL)</th>\n",
       "      <th>Insulina (pmol/L)</th>\n",
       "      <th>Código de Comentario de Insulina</th>\n",
       "    </tr>\n",
       "  </thead>\n",
       "  <tbody>\n",
       "    <tr>\n",
       "      <th>count</th>\n",
       "      <td>4663.00</td>\n",
       "      <td>4663.00</td>\n",
       "      <td>4663.00</td>\n",
       "      <td>4663.00</td>\n",
       "      <td>4583.00</td>\n",
       "      <td>4583.00</td>\n",
       "      <td>4663.00</td>\n",
       "      <td>4663.00</td>\n",
       "      <td>4198.00</td>\n",
       "      <td>4198.00</td>\n",
       "      <td>4198.00</td>\n",
       "    </tr>\n",
       "    <tr>\n",
       "      <th>mean</th>\n",
       "      <td>117193.22</td>\n",
       "      <td>45.23</td>\n",
       "      <td>1.52</td>\n",
       "      <td>3.52</td>\n",
       "      <td>3.26</td>\n",
       "      <td>1.89</td>\n",
       "      <td>2.52</td>\n",
       "      <td>54214.56</td>\n",
       "      <td>10.71</td>\n",
       "      <td>64.23</td>\n",
       "      <td>0.00</td>\n",
       "    </tr>\n",
       "    <tr>\n",
       "      <th>std</th>\n",
       "      <td>4483.37</td>\n",
       "      <td>20.79</td>\n",
       "      <td>0.50</td>\n",
       "      <td>1.63</td>\n",
       "      <td>1.31</td>\n",
       "      <td>2.71</td>\n",
       "      <td>1.51</td>\n",
       "      <td>69086.74</td>\n",
       "      <td>6.07</td>\n",
       "      <td>36.40</td>\n",
       "      <td>0.04</td>\n",
       "    </tr>\n",
       "    <tr>\n",
       "      <th>min</th>\n",
       "      <td>109264.00</td>\n",
       "      <td>12.00</td>\n",
       "      <td>1.00</td>\n",
       "      <td>1.00</td>\n",
       "      <td>1.00</td>\n",
       "      <td>1.00</td>\n",
       "      <td>0.00</td>\n",
       "      <td>0.00</td>\n",
       "      <td>0.71</td>\n",
       "      <td>4.26</td>\n",
       "      <td>0.00</td>\n",
       "    </tr>\n",
       "    <tr>\n",
       "      <th>25%</th>\n",
       "      <td>113354.00</td>\n",
       "      <td>26.00</td>\n",
       "      <td>1.00</td>\n",
       "      <td>3.00</td>\n",
       "      <td>2.00</td>\n",
       "      <td>1.00</td>\n",
       "      <td>1.28</td>\n",
       "      <td>17489.66</td>\n",
       "      <td>6.06</td>\n",
       "      <td>36.36</td>\n",
       "      <td>0.00</td>\n",
       "    </tr>\n",
       "    <tr>\n",
       "      <th>50%</th>\n",
       "      <td>117282.00</td>\n",
       "      <td>46.00</td>\n",
       "      <td>2.00</td>\n",
       "      <td>3.00</td>\n",
       "      <td>3.00</td>\n",
       "      <td>2.00</td>\n",
       "      <td>2.41</td>\n",
       "      <td>32808.29</td>\n",
       "      <td>9.35</td>\n",
       "      <td>56.10</td>\n",
       "      <td>0.00</td>\n",
       "    </tr>\n",
       "    <tr>\n",
       "      <th>75%</th>\n",
       "      <td>121047.50</td>\n",
       "      <td>62.00</td>\n",
       "      <td>2.00</td>\n",
       "      <td>4.00</td>\n",
       "      <td>4.00</td>\n",
       "      <td>3.00</td>\n",
       "      <td>3.70</td>\n",
       "      <td>61893.43</td>\n",
       "      <td>14.21</td>\n",
       "      <td>85.26</td>\n",
       "      <td>0.00</td>\n",
       "    </tr>\n",
       "    <tr>\n",
       "      <th>max</th>\n",
       "      <td>124822.00</td>\n",
       "      <td>80.00</td>\n",
       "      <td>2.00</td>\n",
       "      <td>7.00</td>\n",
       "      <td>9.00</td>\n",
       "      <td>99.00</td>\n",
       "      <td>5.00</td>\n",
       "      <td>741259.19</td>\n",
       "      <td>27.91</td>\n",
       "      <td>167.46</td>\n",
       "      <td>1.00</td>\n",
       "    </tr>\n",
       "  </tbody>\n",
       "</table>\n",
       "</div>"
      ],
      "text/plain": [
       "\n",
       "             ID    Edad  Genero    Raza  Educacion  EstadoCivil  NivelPobreza  \\\n",
       "count   \u001b[1;36m4663.00\u001b[0m \u001b[1;36m4663.00\u001b[0m \u001b[1;36m4663.00\u001b[0m \u001b[1;36m4663.00\u001b[0m    \u001b[1;36m4583.00\u001b[0m      \u001b[1;36m4583.00\u001b[0m       \u001b[1;36m4663.00\u001b[0m   \n",
       "mean  \u001b[1;36m117193.22\u001b[0m   \u001b[1;36m45.23\u001b[0m    \u001b[1;36m1.52\u001b[0m    \u001b[1;36m3.52\u001b[0m       \u001b[1;36m3.26\u001b[0m         \u001b[1;36m1.89\u001b[0m          \u001b[1;36m2.52\u001b[0m   \n",
       "std     \u001b[1;36m4483.37\u001b[0m   \u001b[1;36m20.79\u001b[0m    \u001b[1;36m0.50\u001b[0m    \u001b[1;36m1.63\u001b[0m       \u001b[1;36m1.31\u001b[0m         \u001b[1;36m2.71\u001b[0m          \u001b[1;36m1.51\u001b[0m   \n",
       "min   \u001b[1;36m109264.00\u001b[0m   \u001b[1;36m12.00\u001b[0m    \u001b[1;36m1.00\u001b[0m    \u001b[1;36m1.00\u001b[0m       \u001b[1;36m1.00\u001b[0m         \u001b[1;36m1.00\u001b[0m          \u001b[1;36m0.00\u001b[0m   \n",
       "\u001b[1;36m25\u001b[0m%   \u001b[1;36m113354.00\u001b[0m   \u001b[1;36m26.00\u001b[0m    \u001b[1;36m1.00\u001b[0m    \u001b[1;36m3.00\u001b[0m       \u001b[1;36m2.00\u001b[0m         \u001b[1;36m1.00\u001b[0m          \u001b[1;36m1.28\u001b[0m   \n",
       "\u001b[1;36m50\u001b[0m%   \u001b[1;36m117282.00\u001b[0m   \u001b[1;36m46.00\u001b[0m    \u001b[1;36m2.00\u001b[0m    \u001b[1;36m3.00\u001b[0m       \u001b[1;36m3.00\u001b[0m         \u001b[1;36m2.00\u001b[0m          \u001b[1;36m2.41\u001b[0m   \n",
       "\u001b[1;36m75\u001b[0m%   \u001b[1;36m121047.50\u001b[0m   \u001b[1;36m62.00\u001b[0m    \u001b[1;36m2.00\u001b[0m    \u001b[1;36m4.00\u001b[0m       \u001b[1;36m4.00\u001b[0m         \u001b[1;36m3.00\u001b[0m          \u001b[1;36m3.70\u001b[0m   \n",
       "max   \u001b[1;36m124822.00\u001b[0m   \u001b[1;36m80.00\u001b[0m    \u001b[1;36m2.00\u001b[0m    \u001b[1;36m7.00\u001b[0m       \u001b[1;36m9.00\u001b[0m        \u001b[1;36m99.00\u001b[0m          \u001b[1;36m5.00\u001b[0m   \n",
       "\n",
       "       Peso de Submuestra en Ayunas  Insulina \u001b[1m(\u001b[0mμU/mL\u001b[1m)\u001b[0m  Insulina \u001b[1m(\u001b[0mpmol/L\u001b[1m)\u001b[0m  \\\n",
       "count                       \u001b[1;36m4663.00\u001b[0m           \u001b[1;36m4198.00\u001b[0m            \u001b[1;36m4198.00\u001b[0m   \n",
       "mean                       \u001b[1;36m54214.56\u001b[0m             \u001b[1;36m10.71\u001b[0m              \u001b[1;36m64.23\u001b[0m   \n",
       "std                        \u001b[1;36m69086.74\u001b[0m              \u001b[1;36m6.07\u001b[0m              \u001b[1;36m36.40\u001b[0m   \n",
       "min                            \u001b[1;36m0.00\u001b[0m              \u001b[1;36m0.71\u001b[0m               \u001b[1;36m4.26\u001b[0m   \n",
       "\u001b[1;36m25\u001b[0m%                        \u001b[1;36m17489.66\u001b[0m              \u001b[1;36m6.06\u001b[0m              \u001b[1;36m36.36\u001b[0m   \n",
       "\u001b[1;36m50\u001b[0m%                        \u001b[1;36m32808.29\u001b[0m              \u001b[1;36m9.35\u001b[0m              \u001b[1;36m56.10\u001b[0m   \n",
       "\u001b[1;36m75\u001b[0m%                        \u001b[1;36m61893.43\u001b[0m             \u001b[1;36m14.21\u001b[0m              \u001b[1;36m85.26\u001b[0m   \n",
       "max                       \u001b[1;36m741259.19\u001b[0m             \u001b[1;36m27.91\u001b[0m             \u001b[1;36m167.46\u001b[0m   \n",
       "\n",
       "       Código de Comentario de Insulina  \n",
       "count                           \u001b[1;36m4198.00\u001b[0m  \n",
       "mean                               \u001b[1;36m0.00\u001b[0m  \n",
       "std                                \u001b[1;36m0.04\u001b[0m  \n",
       "min                                \u001b[1;36m0.00\u001b[0m  \n",
       "\u001b[1;36m25\u001b[0m%                                \u001b[1;36m0.00\u001b[0m  \n",
       "\u001b[1;36m50\u001b[0m%                                \u001b[1;36m0.00\u001b[0m  \n",
       "\u001b[1;36m75\u001b[0m%                                \u001b[1;36m0.00\u001b[0m  \n",
       "max                                \u001b[1;36m1.00\u001b[0m  "
      ]
     },
     "execution_count": 175,
     "metadata": {},
     "output_type": "execute_result"
    }
   ],
   "source": [
    "insulina_limpio.describe()"
   ]
  },
  {
   "cell_type": "code",
   "execution_count": 177,
   "id": "43e49e7b-e51c-4c50-a605-b038f022d00c",
   "metadata": {
    "collapsed": true,
    "jupyter": {
     "outputs_hidden": true
    }
   },
   "outputs": [
    {
     "data": {
      "text/html": [
       "<pre style=\"white-space:pre;overflow-x:auto;line-height:normal;font-family:Menlo,'DejaVu Sans Mono',consolas,'Courier New',monospace\"></pre>\n"
      ],
      "text/plain": []
     },
     "metadata": {},
     "output_type": "display_data"
    },
    {
     "data": {
      "image/png": "[encoded data removed]",
      "text/plain": [
       "\u001b[1m<\u001b[0m\u001b[1;95mFigure\u001b[0m\u001b[39m size 64\u001b[0m\u001b[1;36m0x480\u001b[0m\u001b[39m with \u001b[0m\u001b[1;36m1\u001b[0m\u001b[39m Axes\u001b[0m\u001b[1m>\u001b[0m"
      ]
     },
     "metadata": {},
     "output_type": "display_data"
    }
   ],
   "source": [
    "plt.hist(insulina_limpio[\"Insulina (μU/mL)\"])\n",
    "plt.title(f'Histograma de {\"Insulina (μU/mL)\"}')\n",
    "plt.xlabel(\"Insulina (μU/mL)\")\n",
    "plt.ylabel('Frecuencia')\n",
    "plt.show()"
   ]
  },
  {
   "cell_type": "code",
   "execution_count": 178,
   "id": "8583e815-6fdc-4f87-b46a-a8cdc06c2e78",
   "metadata": {
    "collapsed": true,
    "jupyter": {
     "outputs_hidden": true
    },
    "scrolled": true
   },
   "outputs": [
    {
     "data": {
      "text/html": [
       "<pre style=\"white-space:pre;overflow-x:auto;line-height:normal;font-family:Menlo,'DejaVu Sans Mono',consolas,'Courier New',monospace\"></pre>\n"
      ],
      "text/plain": []
     },
     "metadata": {},
     "output_type": "display_data"
    },
    {
     "data": {
      "image/png": "[encoded data removed]",
      "text/plain": [
       "\u001b[1m<\u001b[0m\u001b[1;95mFigure\u001b[0m\u001b[39m size 64\u001b[0m\u001b[1;36m0x480\u001b[0m\u001b[39m with \u001b[0m\u001b[1;36m1\u001b[0m\u001b[39m Axes\u001b[0m\u001b[1m>\u001b[0m"
      ]
     },
     "metadata": {},
     "output_type": "display_data"
    },
    {
     "data": {
      "text/html": [
       "<pre style=\"white-space:pre;overflow-x:auto;line-height:normal;font-family:Menlo,'DejaVu Sans Mono',consolas,'Courier New',monospace\"></pre>\n"
      ],
      "text/plain": []
     },
     "metadata": {},
     "output_type": "display_data"
    },
    {
     "data": {
      "image/png": "[encoded data removed]",
      "text/plain": [
       "\u001b[1m<\u001b[0m\u001b[1;95mFigure\u001b[0m\u001b[39m size 64\u001b[0m\u001b[1;36m0x480\u001b[0m\u001b[39m with \u001b[0m\u001b[1;36m1\u001b[0m\u001b[39m Axes\u001b[0m\u001b[1m>\u001b[0m"
      ]
     },
     "metadata": {},
     "output_type": "display_data"
    },
    {
     "data": {
      "text/html": [
       "<pre style=\"white-space:pre;overflow-x:auto;line-height:normal;font-family:Menlo,'DejaVu Sans Mono',consolas,'Courier New',monospace\"></pre>\n"
      ],
      "text/plain": []
     },
     "metadata": {},
     "output_type": "display_data"
    },
    {
     "data": {
      "image/png": "[encoded data removed]",
      "text/plain": [
       "\u001b[1m<\u001b[0m\u001b[1;95mFigure\u001b[0m\u001b[39m size 64\u001b[0m\u001b[1;36m0x480\u001b[0m\u001b[39m with \u001b[0m\u001b[1;36m1\u001b[0m\u001b[39m Axes\u001b[0m\u001b[1m>\u001b[0m"
      ]
     },
     "metadata": {},
     "output_type": "display_data"
    }
   ],
   "source": [
    "for col in insulina_limpio.columns[7:-1]:\n",
    "  plt.hist(insulina_limpio[col])\n",
    "  plt.title(f'Histograma de {col}')\n",
    "  plt.xlabel(col)\n",
    "  plt.ylabel('Frecuencia')\n",
    "  plt.show()"
   ]
  },
  {
   "cell_type": "code",
   "execution_count": 193,
   "id": "57d91417-1246-407b-9667-6441f490c9f4",
   "metadata": {},
   "outputs": [],
   "source": [
    "escalado = scaler.fit_transform(insulina_limpio[[\"Insulina (μU/mL)\"]])\n",
    "minmaxesc = minmax.fit_transform(insulina_limpio[[\"Insulina (μU/mL)\"]])\n",
    "powerTrans = pt.fit_transform(insulina_limpio[[\"Insulina (μU/mL)\"]])"
   ]
  },
  {
   "cell_type": "code",
   "execution_count": 180,
   "id": "948e96f1-b336-4545-8f98-1ad407d87515",
   "metadata": {},
   "outputs": [],
   "source": [
    "insulina_escalado = insulina_limpio.copy()\n",
    "insulina_minmax = insulina_limpio.copy()\n",
    "insulina_power = insulina_limpio.copy()\n",
    "insulina_escalado[\"Insulina (μU/mL)\"]=escalado\n",
    "insulina_minmax[\"Insulina (μU/mL)\"]=minmaxesc\n",
    "insulina_power[\"Insulina (μU/mL)\"]=powerTrans"
   ]
  },
  {
   "cell_type": "code",
   "execution_count": 181,
   "id": "87c42ac5-f431-4281-bf33-c82ecb092dc1",
   "metadata": {
    "collapsed": true,
    "jupyter": {
     "outputs_hidden": true
    }
   },
   "outputs": [
    {
     "data": {
      "text/html": [
       "<pre style=\"white-space:pre;overflow-x:auto;line-height:normal;font-family:Menlo,'DejaVu Sans Mono',consolas,'Courier New',monospace\"></pre>\n"
      ],
      "text/plain": []
     },
     "metadata": {},
     "output_type": "display_data"
    },
    {
     "data": {
      "image/png": "[encoded data removed]",
      "text/plain": [
       "\u001b[1m<\u001b[0m\u001b[1;95mFigure\u001b[0m\u001b[39m size 64\u001b[0m\u001b[1;36m0x480\u001b[0m\u001b[39m with \u001b[0m\u001b[1;36m1\u001b[0m\u001b[39m Axes\u001b[0m\u001b[1m>\u001b[0m"
      ]
     },
     "metadata": {},
     "output_type": "display_data"
    },
    {
     "data": {
      "text/html": [
       "<pre style=\"white-space:pre;overflow-x:auto;line-height:normal;font-family:Menlo,'DejaVu Sans Mono',consolas,'Courier New',monospace\"></pre>\n"
      ],
      "text/plain": []
     },
     "metadata": {},
     "output_type": "display_data"
    },
    {
     "data": {
      "image/png": "[encoded data removed]",
      "text/plain": [
       "\u001b[1m<\u001b[0m\u001b[1;95mFigure\u001b[0m\u001b[39m size 64\u001b[0m\u001b[1;36m0x480\u001b[0m\u001b[39m with \u001b[0m\u001b[1;36m1\u001b[0m\u001b[39m Axes\u001b[0m\u001b[1m>\u001b[0m"
      ]
     },
     "metadata": {},
     "output_type": "display_data"
    },
    {
     "data": {
      "text/html": [
       "<pre style=\"white-space:pre;overflow-x:auto;line-height:normal;font-family:Menlo,'DejaVu Sans Mono',consolas,'Courier New',monospace\"></pre>\n"
      ],
      "text/plain": []
     },
     "metadata": {},
     "output_type": "display_data"
    },
    {
     "data": {
      "image/png": "[encoded data removed]",
      "text/plain": [
       "\u001b[1m<\u001b[0m\u001b[1;95mFigure\u001b[0m\u001b[39m size 64\u001b[0m\u001b[1;36m0x480\u001b[0m\u001b[39m with \u001b[0m\u001b[1;36m1\u001b[0m\u001b[39m Axes\u001b[0m\u001b[1m>\u001b[0m"
      ]
     },
     "metadata": {},
     "output_type": "display_data"
    }
   ],
   "source": [
    "for col in insulina_escalado.columns[7:-1]:\n",
    "  plt.hist(insulina_escalado[col])\n",
    "  plt.title(f'Histograma de {col}')\n",
    "  plt.xlabel(col)\n",
    "  plt.ylabel('Frecuencia')\n",
    "  plt.show()"
   ]
  },
  {
   "cell_type": "code",
   "execution_count": 182,
   "id": "09935b13-ab8f-4c35-a03b-6ae11ef6e8f9",
   "metadata": {
    "collapsed": true,
    "jupyter": {
     "outputs_hidden": true
    }
   },
   "outputs": [
    {
     "data": {
      "text/html": [
       "<pre style=\"white-space:pre;overflow-x:auto;line-height:normal;font-family:Menlo,'DejaVu Sans Mono',consolas,'Courier New',monospace\"></pre>\n"
      ],
      "text/plain": []
     },
     "metadata": {},
     "output_type": "display_data"
    },
    {
     "data": {
      "image/png": "[encoded data removed]",
      "text/plain": [
       "\u001b[1m<\u001b[0m\u001b[1;95mFigure\u001b[0m\u001b[39m size 64\u001b[0m\u001b[1;36m0x480\u001b[0m\u001b[39m with \u001b[0m\u001b[1;36m1\u001b[0m\u001b[39m Axes\u001b[0m\u001b[1m>\u001b[0m"
      ]
     },
     "metadata": {},
     "output_type": "display_data"
    },
    {
     "data": {
      "text/html": [
       "<pre style=\"white-space:pre;overflow-x:auto;line-height:normal;font-family:Menlo,'DejaVu Sans Mono',consolas,'Courier New',monospace\"></pre>\n"
      ],
      "text/plain": []
     },
     "metadata": {},
     "output_type": "display_data"
    },
    {
     "data": {
      "image/png": "[encoded data removed]",
      "text/plain": [
       "\u001b[1m<\u001b[0m\u001b[1;95mFigure\u001b[0m\u001b[39m size 64\u001b[0m\u001b[1;36m0x480\u001b[0m\u001b[39m with \u001b[0m\u001b[1;36m1\u001b[0m\u001b[39m Axes\u001b[0m\u001b[1m>\u001b[0m"
      ]
     },
     "metadata": {},
     "output_type": "display_data"
    },
    {
     "data": {
      "text/html": [
       "<pre style=\"white-space:pre;overflow-x:auto;line-height:normal;font-family:Menlo,'DejaVu Sans Mono',consolas,'Courier New',monospace\"></pre>\n"
      ],
      "text/plain": []
     },
     "metadata": {},
     "output_type": "display_data"
    },
    {
     "data": {
      "image/png": "[encoded data removed]",
      "text/plain": [
       "\u001b[1m<\u001b[0m\u001b[1;95mFigure\u001b[0m\u001b[39m size 64\u001b[0m\u001b[1;36m0x480\u001b[0m\u001b[39m with \u001b[0m\u001b[1;36m1\u001b[0m\u001b[39m Axes\u001b[0m\u001b[1m>\u001b[0m"
      ]
     },
     "metadata": {},
     "output_type": "display_data"
    }
   ],
   "source": [
    "for col in insulina_minmax.columns[7:-1]:\n",
    "  plt.hist(insulina_minmax[col])\n",
    "  plt.title(f'Histograma de {col}')\n",
    "  plt.xlabel(col)\n",
    "  plt.ylabel('Frecuencia')\n",
    "  plt.show()"
   ]
  },
  {
   "cell_type": "code",
   "execution_count": 183,
   "id": "e95c130b-e415-44d3-af68-3aad58ff96bb",
   "metadata": {
    "collapsed": true,
    "jupyter": {
     "outputs_hidden": true
    }
   },
   "outputs": [
    {
     "data": {
      "text/html": [
       "<pre style=\"white-space:pre;overflow-x:auto;line-height:normal;font-family:Menlo,'DejaVu Sans Mono',consolas,'Courier New',monospace\"></pre>\n"
      ],
      "text/plain": []
     },
     "metadata": {},
     "output_type": "display_data"
    },
    {
     "data": {
      "image/png": "[encoded data removed]",
      "text/plain": [
       "\u001b[1m<\u001b[0m\u001b[1;95mFigure\u001b[0m\u001b[39m size 64\u001b[0m\u001b[1;36m0x480\u001b[0m\u001b[39m with \u001b[0m\u001b[1;36m1\u001b[0m\u001b[39m Axes\u001b[0m\u001b[1m>\u001b[0m"
      ]
     },
     "metadata": {},
     "output_type": "display_data"
    },
    {
     "data": {
      "text/html": [
       "<pre style=\"white-space:pre;overflow-x:auto;line-height:normal;font-family:Menlo,'DejaVu Sans Mono',consolas,'Courier New',monospace\"></pre>\n"
      ],
      "text/plain": []
     },
     "metadata": {},
     "output_type": "display_data"
    },
    {
     "data": {
      "image/png": "[encoded data removed]",
      "text/plain": [
       "\u001b[1m<\u001b[0m\u001b[1;95mFigure\u001b[0m\u001b[39m size 64\u001b[0m\u001b[1;36m0x480\u001b[0m\u001b[39m with \u001b[0m\u001b[1;36m1\u001b[0m\u001b[39m Axes\u001b[0m\u001b[1m>\u001b[0m"
      ]
     },
     "metadata": {},
     "output_type": "display_data"
    },
    {
     "data": {
      "text/html": [
       "<pre style=\"white-space:pre;overflow-x:auto;line-height:normal;font-family:Menlo,'DejaVu Sans Mono',consolas,'Courier New',monospace\"></pre>\n"
      ],
      "text/plain": []
     },
     "metadata": {},
     "output_type": "display_data"
    },
    {
     "data": {
      "image/png": "[encoded data removed]",
      "text/plain": [
       "\u001b[1m<\u001b[0m\u001b[1;95mFigure\u001b[0m\u001b[39m size 64\u001b[0m\u001b[1;36m0x480\u001b[0m\u001b[39m with \u001b[0m\u001b[1;36m1\u001b[0m\u001b[39m Axes\u001b[0m\u001b[1m>\u001b[0m"
      ]
     },
     "metadata": {},
     "output_type": "display_data"
    }
   ],
   "source": [
    "for col in insulina_power.columns[7:-1]:\n",
    "  plt.hist(insulina_power[col])\n",
    "  plt.title(f'Histograma de {col}')\n",
    "  plt.xlabel(col)\n",
    "  plt.ylabel('Frecuencia')\n",
    "  plt.show()"
   ]
  },
  {
   "cell_type": "code",
   "execution_count": 184,
   "id": "b9c9bc63-7420-45a5-80f1-68a51f10911b",
   "metadata": {},
   "outputs": [
    {
     "name": "stdout",
     "output_type": "stream",
     "text": [
      " El IQR es 1.3434361027893953. El límite inferior es: -2.780914342681197, el superior es 2.5928300684763843\n",
      "61\n"
     ]
    }
   ],
   "source": [
    "Q1 = insulina_escalado[\"Insulina (μU/mL)\"].quantile(0.25)\n",
    "Q3 = insulina_escalado[\"Insulina (μU/mL)\"].quantile(0.75)\n",
    "IQR = Q3 - Q1\n",
    "\n",
    "# Calculating the bounds\n",
    "lower_bound = Q1 - 1.5 * IQR\n",
    "upper_bound = Q3 + 1.5 * IQR\n",
    "\n",
    "print(f\" El IQR es {IQR}. El límite inferior es: {lower_bound}, el superior es {upper_bound}\")\n",
    "\n",
    "# Identifying outliers\n",
    "outliers = insulina_escalado[(insulina_escalado[\"Insulina (μU/mL)\"] < lower_bound) | (insulina_escalado[\"Insulina (μU/mL)\"] > upper_bound)]\n",
    "\n",
    "# Removing outliers\n",
    "limpieza_insulina = insulina_escalado[~((insulina_escalado[\"Insulina (μU/mL)\"] < lower_bound) | (insulina_escalado[\"Insulina (μU/mL)\"] > upper_bound))]\n",
    "\n",
    "# Checking the number of outliers\n",
    "num_outliers = len(outliers)\n",
    "\n",
    "print(num_outliers)"
   ]
  },
  {
   "cell_type": "code",
   "execution_count": 185,
   "id": "c51e4674-b370-40a9-b7b8-d321bcdc9bb1",
   "metadata": {},
   "outputs": [],
   "source": [
    "limp_ins = limpieza_insulina.copy()\n",
    "limp_ins[\"Insulina (μU/mL)\"] = pt.fit_transform(limp_ins[[\"Insulina (μU/mL)\"]])"
   ]
  },
  {
   "cell_type": "code",
   "execution_count": 186,
   "id": "45114fbf-09f8-4381-8f9b-e4ac91fa69ad",
   "metadata": {
    "collapsed": true,
    "jupyter": {
     "outputs_hidden": true
    }
   },
   "outputs": [
    {
     "data": {
      "text/html": [
       "<pre style=\"white-space:pre;overflow-x:auto;line-height:normal;font-family:Menlo,'DejaVu Sans Mono',consolas,'Courier New',monospace\"></pre>\n"
      ],
      "text/plain": []
     },
     "metadata": {},
     "output_type": "display_data"
    },
    {
     "data": {
      "image/png": "[encoded data removed]",
      "text/plain": [
       "\u001b[1m<\u001b[0m\u001b[1;95mFigure\u001b[0m\u001b[39m size 64\u001b[0m\u001b[1;36m0x480\u001b[0m\u001b[39m with \u001b[0m\u001b[1;36m1\u001b[0m\u001b[39m Axes\u001b[0m\u001b[1m>\u001b[0m"
      ]
     },
     "metadata": {},
     "output_type": "display_data"
    }
   ],
   "source": [
    "plt.hist(limp_ins[\"Insulina (μU/mL)\"])\n",
    "plt.title(f'Histograma')\n",
    "plt.xlabel(\"Insulina (μU/mL)\")\n",
    "plt.ylabel('Frecuencia')\n",
    "plt.show()"
   ]
  },
  {
   "cell_type": "code",
   "execution_count": 153,
   "id": "4e940815-5c0a-486d-b517-568e1f0ddc27",
   "metadata": {},
   "outputs": [],
   "source": [
    "#insulina_nonna = consideracion_insulina.dropna()"
   ]
  },
  {
   "cell_type": "markdown",
   "id": "3a58f4b7-e51c-4cd5-923c-bd42978407c7",
   "metadata": {
    "jp-MarkdownHeadingCollapsed": true
   },
   "source": [
    "# Combinación de Dataset con Colesterol"
   ]
  },
  {
   "cell_type": "code",
   "execution_count": 154,
   "id": "361e7fd4-bde1-4056-bac6-2c14bacb0e9e",
   "metadata": {},
   "outputs": [],
   "source": [
    "colesterol = colesterol.rename(columns={\n",
    "    'SEQN': 'ID',\n",
    "    'LBXTC': 'Colesterol Total (mg/dL)',\n",
    "    'LBDTCSI': 'Colesterol Total (mmol/L)'\n",
    "})"
   ]
  },
  {
   "cell_type": "code",
   "execution_count": 155,
   "id": "e5c86be9-4f64-4647-96ff-9c6edbb37921",
   "metadata": {},
   "outputs": [],
   "source": [
    "consideracion_colesterol = pd.merge(consideracion, colesterol, on='ID', how='inner')"
   ]
  },
  {
   "cell_type": "code",
   "execution_count": 156,
   "id": "4801cac7-8878-442c-808b-42608f7b313d",
   "metadata": {},
   "outputs": [
    {
     "data": {
      "text/html": [
       "<pre style=\"white-space:pre;overflow-x:auto;line-height:normal;font-family:Menlo,'DejaVu Sans Mono',consolas,'Courier New',monospace\"></pre>\n"
      ],
      "text/plain": []
     },
     "metadata": {},
     "output_type": "display_data"
    },
    {
     "data": {
      "text/html": [
       "<div>\n",
       "<style scoped>\n",
       "    .dataframe tbody tr th:only-of-type {\n",
       "        vertical-align: middle;\n",
       "    }\n",
       "\n",
       "    .dataframe tbody tr th {\n",
       "        vertical-align: top;\n",
       "    }\n",
       "\n",
       "    .dataframe thead th {\n",
       "        text-align: right;\n",
       "    }\n",
       "</style>\n",
       "<table border=\"1\" class=\"dataframe\">\n",
       "  <thead>\n",
       "    <tr style=\"text-align: right;\">\n",
       "      <th></th>\n",
       "      <th>ID</th>\n",
       "      <th>Edad</th>\n",
       "      <th>Genero</th>\n",
       "      <th>Raza</th>\n",
       "      <th>Educacion</th>\n",
       "      <th>EstadoCivil</th>\n",
       "      <th>NivelPobreza</th>\n",
       "      <th>Colesterol Total (mg/dL)</th>\n",
       "      <th>Colesterol Total (mmol/L)</th>\n",
       "    </tr>\n",
       "  </thead>\n",
       "  <tbody>\n",
       "    <tr>\n",
       "      <th>0</th>\n",
       "      <td>109264.00</td>\n",
       "      <td>13.00</td>\n",
       "      <td>2.00</td>\n",
       "      <td>1.00</td>\n",
       "      <td>1.00</td>\n",
       "      <td>3.00</td>\n",
       "      <td>0.83</td>\n",
       "      <td>166.00</td>\n",
       "      <td>4.29</td>\n",
       "    </tr>\n",
       "    <tr>\n",
       "      <th>1</th>\n",
       "      <td>109266.00</td>\n",
       "      <td>29.00</td>\n",
       "      <td>2.00</td>\n",
       "      <td>6.00</td>\n",
       "      <td>5.00</td>\n",
       "      <td>3.00</td>\n",
       "      <td>5.00</td>\n",
       "      <td>195.00</td>\n",
       "      <td>5.04</td>\n",
       "    </tr>\n",
       "    <tr>\n",
       "      <th>2</th>\n",
       "      <td>109270.00</td>\n",
       "      <td>11.00</td>\n",
       "      <td>2.00</td>\n",
       "      <td>4.00</td>\n",
       "      <td>1.00</td>\n",
       "      <td>3.00</td>\n",
       "      <td>1.88</td>\n",
       "      <td>103.00</td>\n",
       "      <td>2.66</td>\n",
       "    </tr>\n",
       "    <tr>\n",
       "      <th>3</th>\n",
       "      <td>109271.00</td>\n",
       "      <td>49.00</td>\n",
       "      <td>1.00</td>\n",
       "      <td>3.00</td>\n",
       "      <td>2.00</td>\n",
       "      <td>3.00</td>\n",
       "      <td>2.41</td>\n",
       "      <td>147.00</td>\n",
       "      <td>3.80</td>\n",
       "    </tr>\n",
       "    <tr>\n",
       "      <th>4</th>\n",
       "      <td>109273.00</td>\n",
       "      <td>36.00</td>\n",
       "      <td>1.00</td>\n",
       "      <td>3.00</td>\n",
       "      <td>4.00</td>\n",
       "      <td>3.00</td>\n",
       "      <td>0.83</td>\n",
       "      <td>164.00</td>\n",
       "      <td>4.24</td>\n",
       "    </tr>\n",
       "  </tbody>\n",
       "</table>\n",
       "</div>"
      ],
      "text/plain": [
       "\n",
       "         ID  Edad  Genero  Raza  Educacion  EstadoCivil  NivelPobreza  \\\n",
       "\u001b[1;36m0\u001b[0m \u001b[1;36m109264.00\u001b[0m \u001b[1;36m13.00\u001b[0m    \u001b[1;36m2.00\u001b[0m  \u001b[1;36m1.00\u001b[0m       \u001b[1;36m1.00\u001b[0m         \u001b[1;36m3.00\u001b[0m          \u001b[1;36m0.83\u001b[0m   \n",
       "\u001b[1;36m1\u001b[0m \u001b[1;36m109266.00\u001b[0m \u001b[1;36m29.00\u001b[0m    \u001b[1;36m2.00\u001b[0m  \u001b[1;36m6.00\u001b[0m       \u001b[1;36m5.00\u001b[0m         \u001b[1;36m3.00\u001b[0m          \u001b[1;36m5.00\u001b[0m   \n",
       "\u001b[1;36m2\u001b[0m \u001b[1;36m109270.00\u001b[0m \u001b[1;36m11.00\u001b[0m    \u001b[1;36m2.00\u001b[0m  \u001b[1;36m4.00\u001b[0m       \u001b[1;36m1.00\u001b[0m         \u001b[1;36m3.00\u001b[0m          \u001b[1;36m1.88\u001b[0m   \n",
       "\u001b[1;36m3\u001b[0m \u001b[1;36m109271.00\u001b[0m \u001b[1;36m49.00\u001b[0m    \u001b[1;36m1.00\u001b[0m  \u001b[1;36m3.00\u001b[0m       \u001b[1;36m2.00\u001b[0m         \u001b[1;36m3.00\u001b[0m          \u001b[1;36m2.41\u001b[0m   \n",
       "\u001b[1;36m4\u001b[0m \u001b[1;36m109273.00\u001b[0m \u001b[1;36m36.00\u001b[0m    \u001b[1;36m1.00\u001b[0m  \u001b[1;36m3.00\u001b[0m       \u001b[1;36m4.00\u001b[0m         \u001b[1;36m3.00\u001b[0m          \u001b[1;36m0.83\u001b[0m   \n",
       "\n",
       "   Colesterol Total \u001b[1m(\u001b[0mmg/dL\u001b[1m)\u001b[0m  Colesterol Total \u001b[1m(\u001b[0mmmol/L\u001b[1m)\u001b[0m  \n",
       "\u001b[1;36m0\u001b[0m                    \u001b[1;36m166.00\u001b[0m                       \u001b[1;36m4.29\u001b[0m  \n",
       "\u001b[1;36m1\u001b[0m                    \u001b[1;36m195.00\u001b[0m                       \u001b[1;36m5.04\u001b[0m  \n",
       "\u001b[1;36m2\u001b[0m                    \u001b[1;36m103.00\u001b[0m                       \u001b[1;36m2.66\u001b[0m  \n",
       "\u001b[1;36m3\u001b[0m                    \u001b[1;36m147.00\u001b[0m                       \u001b[1;36m3.80\u001b[0m  \n",
       "\u001b[1;36m4\u001b[0m                    \u001b[1;36m164.00\u001b[0m                       \u001b[1;36m4.24\u001b[0m  "
      ]
     },
     "execution_count": 156,
     "metadata": {},
     "output_type": "execute_result"
    }
   ],
   "source": [
    "consideracion_colesterol.head()"
   ]
  },
  {
   "cell_type": "code",
   "execution_count": 157,
   "id": "e49b1367-91f3-4ca3-8144-eb0d9a0f07dc",
   "metadata": {},
   "outputs": [
    {
     "data": {
      "text/html": [
       "<pre style=\"white-space:pre;overflow-x:auto;line-height:normal;font-family:Menlo,'DejaVu Sans Mono',consolas,'Courier New',monospace\"></pre>\n"
      ],
      "text/plain": []
     },
     "metadata": {},
     "output_type": "display_data"
    },
    {
     "data": {
      "text/html": [
       "<div>\n",
       "<style scoped>\n",
       "    .dataframe tbody tr th:only-of-type {\n",
       "        vertical-align: middle;\n",
       "    }\n",
       "\n",
       "    .dataframe tbody tr th {\n",
       "        vertical-align: top;\n",
       "    }\n",
       "\n",
       "    .dataframe thead th {\n",
       "        text-align: right;\n",
       "    }\n",
       "</style>\n",
       "<table border=\"1\" class=\"dataframe\">\n",
       "  <thead>\n",
       "    <tr style=\"text-align: right;\">\n",
       "      <th></th>\n",
       "      <th>ID</th>\n",
       "      <th>Edad</th>\n",
       "      <th>Genero</th>\n",
       "      <th>Raza</th>\n",
       "      <th>Educacion</th>\n",
       "      <th>EstadoCivil</th>\n",
       "      <th>NivelPobreza</th>\n",
       "      <th>Colesterol Total (mg/dL)</th>\n",
       "      <th>Colesterol Total (mmol/L)</th>\n",
       "    </tr>\n",
       "  </thead>\n",
       "  <tbody>\n",
       "    <tr>\n",
       "      <th>count</th>\n",
       "      <td>12198.00</td>\n",
       "      <td>12198.00</td>\n",
       "      <td>12198.00</td>\n",
       "      <td>12198.00</td>\n",
       "      <td>11992.00</td>\n",
       "      <td>11992.00</td>\n",
       "      <td>12198.00</td>\n",
       "      <td>10828.00</td>\n",
       "      <td>10828.00</td>\n",
       "    </tr>\n",
       "    <tr>\n",
       "      <th>mean</th>\n",
       "      <td>117082.95</td>\n",
       "      <td>39.33</td>\n",
       "      <td>1.51</td>\n",
       "      <td>3.49</td>\n",
       "      <td>2.92</td>\n",
       "      <td>2.07</td>\n",
       "      <td>2.45</td>\n",
       "      <td>177.46</td>\n",
       "      <td>4.59</td>\n",
       "    </tr>\n",
       "    <tr>\n",
       "      <th>std</th>\n",
       "      <td>4498.67</td>\n",
       "      <td>23.20</td>\n",
       "      <td>0.50</td>\n",
       "      <td>1.62</td>\n",
       "      <td>1.45</td>\n",
       "      <td>2.28</td>\n",
       "      <td>1.51</td>\n",
       "      <td>40.36</td>\n",
       "      <td>1.04</td>\n",
       "    </tr>\n",
       "    <tr>\n",
       "      <th>min</th>\n",
       "      <td>109264.00</td>\n",
       "      <td>6.00</td>\n",
       "      <td>1.00</td>\n",
       "      <td>1.00</td>\n",
       "      <td>1.00</td>\n",
       "      <td>1.00</td>\n",
       "      <td>0.00</td>\n",
       "      <td>71.00</td>\n",
       "      <td>1.84</td>\n",
       "    </tr>\n",
       "    <tr>\n",
       "      <th>25%</th>\n",
       "      <td>113178.25</td>\n",
       "      <td>17.00</td>\n",
       "      <td>1.00</td>\n",
       "      <td>3.00</td>\n",
       "      <td>2.00</td>\n",
       "      <td>1.00</td>\n",
       "      <td>1.19</td>\n",
       "      <td>149.00</td>\n",
       "      <td>3.85</td>\n",
       "    </tr>\n",
       "    <tr>\n",
       "      <th>50%</th>\n",
       "      <td>117098.50</td>\n",
       "      <td>38.00</td>\n",
       "      <td>2.00</td>\n",
       "      <td>3.00</td>\n",
       "      <td>3.00</td>\n",
       "      <td>2.00</td>\n",
       "      <td>2.41</td>\n",
       "      <td>173.00</td>\n",
       "      <td>4.47</td>\n",
       "    </tr>\n",
       "    <tr>\n",
       "      <th>75%</th>\n",
       "      <td>120994.75</td>\n",
       "      <td>60.00</td>\n",
       "      <td>2.00</td>\n",
       "      <td>4.00</td>\n",
       "      <td>4.00</td>\n",
       "      <td>3.00</td>\n",
       "      <td>3.58</td>\n",
       "      <td>201.00</td>\n",
       "      <td>5.20</td>\n",
       "    </tr>\n",
       "    <tr>\n",
       "      <th>max</th>\n",
       "      <td>124822.00</td>\n",
       "      <td>80.00</td>\n",
       "      <td>2.00</td>\n",
       "      <td>7.00</td>\n",
       "      <td>9.00</td>\n",
       "      <td>99.00</td>\n",
       "      <td>5.00</td>\n",
       "      <td>446.00</td>\n",
       "      <td>11.53</td>\n",
       "    </tr>\n",
       "  </tbody>\n",
       "</table>\n",
       "</div>"
      ],
      "text/plain": [
       "\n",
       "             ID     Edad   Genero     Raza  Educacion  EstadoCivil  \\\n",
       "count  \u001b[1;36m12198.00\u001b[0m \u001b[1;36m12198.00\u001b[0m \u001b[1;36m12198.00\u001b[0m \u001b[1;36m12198.00\u001b[0m   \u001b[1;36m11992.00\u001b[0m     \u001b[1;36m11992.00\u001b[0m   \n",
       "mean  \u001b[1;36m117082.95\u001b[0m    \u001b[1;36m39.33\u001b[0m     \u001b[1;36m1.51\u001b[0m     \u001b[1;36m3.49\u001b[0m       \u001b[1;36m2.92\u001b[0m         \u001b[1;36m2.07\u001b[0m   \n",
       "std     \u001b[1;36m4498.67\u001b[0m    \u001b[1;36m23.20\u001b[0m     \u001b[1;36m0.50\u001b[0m     \u001b[1;36m1.62\u001b[0m       \u001b[1;36m1.45\u001b[0m         \u001b[1;36m2.28\u001b[0m   \n",
       "min   \u001b[1;36m109264.00\u001b[0m     \u001b[1;36m6.00\u001b[0m     \u001b[1;36m1.00\u001b[0m     \u001b[1;36m1.00\u001b[0m       \u001b[1;36m1.00\u001b[0m         \u001b[1;36m1.00\u001b[0m   \n",
       "\u001b[1;36m25\u001b[0m%   \u001b[1;36m113178.25\u001b[0m    \u001b[1;36m17.00\u001b[0m     \u001b[1;36m1.00\u001b[0m     \u001b[1;36m3.00\u001b[0m       \u001b[1;36m2.00\u001b[0m         \u001b[1;36m1.00\u001b[0m   \n",
       "\u001b[1;36m50\u001b[0m%   \u001b[1;36m117098.50\u001b[0m    \u001b[1;36m38.00\u001b[0m     \u001b[1;36m2.00\u001b[0m     \u001b[1;36m3.00\u001b[0m       \u001b[1;36m3.00\u001b[0m         \u001b[1;36m2.00\u001b[0m   \n",
       "\u001b[1;36m75\u001b[0m%   \u001b[1;36m120994.75\u001b[0m    \u001b[1;36m60.00\u001b[0m     \u001b[1;36m2.00\u001b[0m     \u001b[1;36m4.00\u001b[0m       \u001b[1;36m4.00\u001b[0m         \u001b[1;36m3.00\u001b[0m   \n",
       "max   \u001b[1;36m124822.00\u001b[0m    \u001b[1;36m80.00\u001b[0m     \u001b[1;36m2.00\u001b[0m     \u001b[1;36m7.00\u001b[0m       \u001b[1;36m9.00\u001b[0m        \u001b[1;36m99.00\u001b[0m   \n",
       "\n",
       "       NivelPobreza  Colesterol Total \u001b[1m(\u001b[0mmg/dL\u001b[1m)\u001b[0m  Colesterol Total \u001b[1m(\u001b[0mmmol/L\u001b[1m)\u001b[0m  \n",
       "count      \u001b[1;36m12198.00\u001b[0m                  \u001b[1;36m10828.00\u001b[0m                   \u001b[1;36m10828.00\u001b[0m  \n",
       "mean           \u001b[1;36m2.45\u001b[0m                    \u001b[1;36m177.46\u001b[0m                       \u001b[1;36m4.59\u001b[0m  \n",
       "std            \u001b[1;36m1.51\u001b[0m                     \u001b[1;36m40.36\u001b[0m                       \u001b[1;36m1.04\u001b[0m  \n",
       "min            \u001b[1;36m0.00\u001b[0m                     \u001b[1;36m71.00\u001b[0m                       \u001b[1;36m1.84\u001b[0m  \n",
       "\u001b[1;36m25\u001b[0m%            \u001b[1;36m1.19\u001b[0m                    \u001b[1;36m149.00\u001b[0m                       \u001b[1;36m3.85\u001b[0m  \n",
       "\u001b[1;36m50\u001b[0m%            \u001b[1;36m2.41\u001b[0m                    \u001b[1;36m173.00\u001b[0m                       \u001b[1;36m4.47\u001b[0m  \n",
       "\u001b[1;36m75\u001b[0m%            \u001b[1;36m3.58\u001b[0m                    \u001b[1;36m201.00\u001b[0m                       \u001b[1;36m5.20\u001b[0m  \n",
       "max            \u001b[1;36m5.00\u001b[0m                    \u001b[1;36m446.00\u001b[0m                      \u001b[1;36m11.53\u001b[0m  "
      ]
     },
     "execution_count": 157,
     "metadata": {},
     "output_type": "execute_result"
    }
   ],
   "source": [
    "consideracion_colesterol.describe()"
   ]
  },
  {
   "cell_type": "code",
   "execution_count": 158,
   "id": "7c1f6b8b-eff0-41e8-aba2-ad4d378aafc3",
   "metadata": {
    "collapsed": true,
    "jupyter": {
     "outputs_hidden": true
    }
   },
   "outputs": [
    {
     "data": {
      "text/html": [
       "<pre style=\"white-space:pre;overflow-x:auto;line-height:normal;font-family:Menlo,'DejaVu Sans Mono',consolas,'Courier New',monospace\"></pre>\n"
      ],
      "text/plain": []
     },
     "metadata": {},
     "output_type": "display_data"
    },
    {
     "data": {
      "image/png": "[encoded data removed]",
      "text/plain": [
       "\u001b[1m<\u001b[0m\u001b[1;95mFigure\u001b[0m\u001b[39m size 64\u001b[0m\u001b[1;36m0x480\u001b[0m\u001b[39m with \u001b[0m\u001b[1;36m1\u001b[0m\u001b[39m Axes\u001b[0m\u001b[1m>\u001b[0m"
      ]
     },
     "metadata": {},
     "output_type": "display_data"
    },
    {
     "data": {
      "text/html": [
       "<pre style=\"white-space:pre;overflow-x:auto;line-height:normal;font-family:Menlo,'DejaVu Sans Mono',consolas,'Courier New',monospace\"></pre>\n"
      ],
      "text/plain": []
     },
     "metadata": {},
     "output_type": "display_data"
    },
    {
     "data": {
      "image/png": "[encoded data removed]",
      "text/plain": [
       "\u001b[1m<\u001b[0m\u001b[1;95mFigure\u001b[0m\u001b[39m size 64\u001b[0m\u001b[1;36m0x480\u001b[0m\u001b[39m with \u001b[0m\u001b[1;36m1\u001b[0m\u001b[39m Axes\u001b[0m\u001b[1m>\u001b[0m"
      ]
     },
     "metadata": {},
     "output_type": "display_data"
    }
   ],
   "source": [
    "for col in consideracion_colesterol.columns[7:]:\n",
    "  plt.hist(consideracion_colesterol[col])\n",
    "  plt.title(f'Histograma de {col} pre IQR')\n",
    "  plt.xlabel(col)\n",
    "  plt.ylabel('Frecuencia')\n",
    "  plt.show()"
   ]
  },
  {
   "cell_type": "code",
   "execution_count": 159,
   "id": "ed18d668-d37e-4284-b439-ebed639e00a2",
   "metadata": {},
   "outputs": [
    {
     "name": "stdout",
     "output_type": "stream",
     "text": [
      " El IQR es 52.0. El límite inferior es: 71.0, el superior es 279.0\n",
      "177\n"
     ]
    }
   ],
   "source": [
    "Q1 = consideracion_colesterol[\"Colesterol Total (mg/dL)\"].quantile(0.25)\n",
    "Q3 = consideracion_colesterol[\"Colesterol Total (mg/dL)\"].quantile(0.75)\n",
    "IQR = Q3 - Q1\n",
    "\n",
    "# Calculating the bounds\n",
    "lower_bound = Q1 - 1.5 * IQR\n",
    "upper_bound = Q3 + 1.5 * IQR\n",
    "\n",
    "print(f\" El IQR es {IQR}. El límite inferior es: {lower_bound}, el superior es {upper_bound}\")\n",
    "\n",
    "# Identifying outliers\n",
    "outliers_colesterol = consideracion_colesterol[(consideracion_colesterol[\"Colesterol Total (mg/dL)\"] < lower_bound) | (consideracion_colesterol[\"Colesterol Total (mg/dL)\"] > upper_bound)]\n",
    "\n",
    "# Removing outliers\n",
    "consideracion_colesterol_limpio = consideracion_colesterol[~((consideracion_colesterol[\"Colesterol Total (mg/dL)\"] < lower_bound) | (consideracion_colesterol[\"Colesterol Total (mg/dL)\"] > upper_bound))]\n",
    "\n",
    "# Checking the number of outliers\n",
    "num_outliers = len(outliers_colesterol)\n",
    "\n",
    "print(num_outliers)"
   ]
  },
  {
   "cell_type": "code",
   "execution_count": 160,
   "id": "323cc7c3-b7e1-484c-8f1c-04244fa4e87d",
   "metadata": {
    "collapsed": true,
    "jupyter": {
     "outputs_hidden": true
    },
    "scrolled": true
   },
   "outputs": [
    {
     "data": {
      "text/html": [
       "<pre style=\"white-space:pre;overflow-x:auto;line-height:normal;font-family:Menlo,'DejaVu Sans Mono',consolas,'Courier New',monospace\"></pre>\n"
      ],
      "text/plain": []
     },
     "metadata": {},
     "output_type": "display_data"
    },
    {
     "data": {
      "image/png": "[encoded data removed]",
      "text/plain": [
       "\u001b[1m<\u001b[0m\u001b[1;95mFigure\u001b[0m\u001b[39m size 64\u001b[0m\u001b[1;36m0x480\u001b[0m\u001b[39m with \u001b[0m\u001b[1;36m1\u001b[0m\u001b[39m Axes\u001b[0m\u001b[1m>\u001b[0m"
      ]
     },
     "metadata": {},
     "output_type": "display_data"
    },
    {
     "data": {
      "text/html": [
       "<pre style=\"white-space:pre;overflow-x:auto;line-height:normal;font-family:Menlo,'DejaVu Sans Mono',consolas,'Courier New',monospace\"></pre>\n"
      ],
      "text/plain": []
     },
     "metadata": {},
     "output_type": "display_data"
    },
    {
     "data": {
      "image/png": "[encoded data removed]",
      "text/plain": [
       "\u001b[1m<\u001b[0m\u001b[1;95mFigure\u001b[0m\u001b[39m size 64\u001b[0m\u001b[1;36m0x480\u001b[0m\u001b[39m with \u001b[0m\u001b[1;36m1\u001b[0m\u001b[39m Axes\u001b[0m\u001b[1m>\u001b[0m"
      ]
     },
     "metadata": {},
     "output_type": "display_data"
    }
   ],
   "source": [
    "for col in consideracion_colesterol_limpio.columns[7:]:\n",
    "  plt.hist(consideracion_colesterol_limpio[col])\n",
    "  plt.title(f'Histograma de {col} post IQR')\n",
    "  plt.xlabel(col)\n",
    "  plt.ylabel('Frecuencia')\n",
    "  plt.show()"
   ]
  },
  {
   "cell_type": "markdown",
   "id": "52dad7f8-9d3d-4460-9ec4-43c8852b4f17",
   "metadata": {
    "jp-MarkdownHeadingCollapsed": true
   },
   "source": [
    "# Combinación de Dataset con Proteína C Spoiler: No pude lograr la distribución normal en la proteína :("
   ]
  },
  {
   "cell_type": "code",
   "execution_count": 161,
   "id": "187dc640-c3b2-4905-8057-ab14266aa87e",
   "metadata": {},
   "outputs": [],
   "source": [
    "proteinaC = proteinaC.rename(columns={\n",
    "    'SEQN': 'ID',\n",
    "    'LBXHSCRP': 'Proteína C Reactiva (mg/L)',\n",
    "    'LBDHRPLC': 'Código de Comentario de Proteína C Reactiva'\n",
    "})"
   ]
  },
  {
   "cell_type": "code",
   "execution_count": 162,
   "id": "559f6260-a9e1-4697-96ab-71c7d2432b61",
   "metadata": {},
   "outputs": [],
   "source": [
    "consideracion_proteinaC = pd.merge(consideracion, proteinaC, on='ID', how='inner')"
   ]
  },
  {
   "cell_type": "code",
   "execution_count": 250,
   "id": "e805bfb4-7c97-4607-80a9-bd73f1337fc1",
   "metadata": {},
   "outputs": [
    {
     "data": {
      "text/html": [
       "<pre style=\"white-space:pre;overflow-x:auto;line-height:normal;font-family:Menlo,'DejaVu Sans Mono',consolas,'Courier New',monospace\"></pre>\n"
      ],
      "text/plain": []
     },
     "metadata": {},
     "output_type": "display_data"
    },
    {
     "data": {
      "text/plain": [
       "\n",
       "ID                                                \u001b[1;36m0\u001b[0m\n",
       "Edad                                              \u001b[1;36m0\u001b[0m\n",
       "Genero                                            \u001b[1;36m0\u001b[0m\n",
       "Raza                                              \u001b[1;36m0\u001b[0m\n",
       "Educacion                                       \u001b[1;36m206\u001b[0m\n",
       "EstadoCivil                                     \u001b[1;36m206\u001b[0m\n",
       "NivelPobreza                                      \u001b[1;36m0\u001b[0m\n",
       "Proteína C Reactiva \u001b[1m(\u001b[0mmg/L\u001b[1m)\u001b[0m                     \u001b[1;36m2158\u001b[0m\n",
       "Código de Comentario de Proteína C Reactiva    \u001b[1;36m2158\u001b[0m\n",
       "dtype: int64"
      ]
     },
     "execution_count": 250,
     "metadata": {},
     "output_type": "execute_result"
    }
   ],
   "source": [
    "consideracion_proteinaC.isna().sum()"
   ]
  },
  {
   "cell_type": "code",
   "execution_count": 163,
   "id": "e781db2c-0996-4f7a-b013-bcaad1c0320c",
   "metadata": {},
   "outputs": [
    {
     "data": {
      "text/html": [
       "<pre style=\"white-space:pre;overflow-x:auto;line-height:normal;font-family:Menlo,'DejaVu Sans Mono',consolas,'Courier New',monospace\"></pre>\n"
      ],
      "text/plain": []
     },
     "metadata": {},
     "output_type": "display_data"
    },
    {
     "data": {
      "text/html": [
       "<div>\n",
       "<style scoped>\n",
       "    .dataframe tbody tr th:only-of-type {\n",
       "        vertical-align: middle;\n",
       "    }\n",
       "\n",
       "    .dataframe tbody tr th {\n",
       "        vertical-align: top;\n",
       "    }\n",
       "\n",
       "    .dataframe thead th {\n",
       "        text-align: right;\n",
       "    }\n",
       "</style>\n",
       "<table border=\"1\" class=\"dataframe\">\n",
       "  <thead>\n",
       "    <tr style=\"text-align: right;\">\n",
       "      <th></th>\n",
       "      <th>ID</th>\n",
       "      <th>Edad</th>\n",
       "      <th>Genero</th>\n",
       "      <th>Raza</th>\n",
       "      <th>Educacion</th>\n",
       "      <th>EstadoCivil</th>\n",
       "      <th>NivelPobreza</th>\n",
       "      <th>Proteína C Reactiva (mg/L)</th>\n",
       "      <th>Código de Comentario de Proteína C Reactiva</th>\n",
       "    </tr>\n",
       "  </thead>\n",
       "  <tbody>\n",
       "    <tr>\n",
       "      <th>count</th>\n",
       "      <td>13772.00</td>\n",
       "      <td>13772.00</td>\n",
       "      <td>13772.00</td>\n",
       "      <td>13772.00</td>\n",
       "      <td>13566.00</td>\n",
       "      <td>13566.00</td>\n",
       "      <td>13772.00</td>\n",
       "      <td>11614.00</td>\n",
       "      <td>11614.00</td>\n",
       "    </tr>\n",
       "    <tr>\n",
       "      <th>mean</th>\n",
       "      <td>117079.86</td>\n",
       "      <td>35.16</td>\n",
       "      <td>1.50</td>\n",
       "      <td>3.50</td>\n",
       "      <td>2.70</td>\n",
       "      <td>2.18</td>\n",
       "      <td>2.40</td>\n",
       "      <td>3.42</td>\n",
       "      <td>0.03</td>\n",
       "    </tr>\n",
       "    <tr>\n",
       "      <th>std</th>\n",
       "      <td>4498.55</td>\n",
       "      <td>24.73</td>\n",
       "      <td>0.50</td>\n",
       "      <td>1.63</td>\n",
       "      <td>1.50</td>\n",
       "      <td>2.17</td>\n",
       "      <td>1.52</td>\n",
       "      <td>7.79</td>\n",
       "      <td>0.18</td>\n",
       "    </tr>\n",
       "    <tr>\n",
       "      <th>min</th>\n",
       "      <td>109263.00</td>\n",
       "      <td>1.00</td>\n",
       "      <td>1.00</td>\n",
       "      <td>1.00</td>\n",
       "      <td>1.00</td>\n",
       "      <td>1.00</td>\n",
       "      <td>0.00</td>\n",
       "      <td>0.11</td>\n",
       "      <td>0.00</td>\n",
       "    </tr>\n",
       "    <tr>\n",
       "      <th>25%</th>\n",
       "      <td>113184.75</td>\n",
       "      <td>12.00</td>\n",
       "      <td>1.00</td>\n",
       "      <td>3.00</td>\n",
       "      <td>1.00</td>\n",
       "      <td>1.00</td>\n",
       "      <td>1.15</td>\n",
       "      <td>0.52</td>\n",
       "      <td>0.00</td>\n",
       "    </tr>\n",
       "    <tr>\n",
       "      <th>50%</th>\n",
       "      <td>117104.50</td>\n",
       "      <td>32.00</td>\n",
       "      <td>2.00</td>\n",
       "      <td>3.00</td>\n",
       "      <td>3.00</td>\n",
       "      <td>2.00</td>\n",
       "      <td>2.39</td>\n",
       "      <td>1.32</td>\n",
       "      <td>0.00</td>\n",
       "    </tr>\n",
       "    <tr>\n",
       "      <th>75%</th>\n",
       "      <td>120981.25</td>\n",
       "      <td>57.00</td>\n",
       "      <td>2.00</td>\n",
       "      <td>4.00</td>\n",
       "      <td>4.00</td>\n",
       "      <td>3.00</td>\n",
       "      <td>3.47</td>\n",
       "      <td>3.62</td>\n",
       "      <td>0.00</td>\n",
       "    </tr>\n",
       "    <tr>\n",
       "      <th>max</th>\n",
       "      <td>124822.00</td>\n",
       "      <td>80.00</td>\n",
       "      <td>2.00</td>\n",
       "      <td>7.00</td>\n",
       "      <td>9.00</td>\n",
       "      <td>99.00</td>\n",
       "      <td>5.00</td>\n",
       "      <td>246.86</td>\n",
       "      <td>1.00</td>\n",
       "    </tr>\n",
       "  </tbody>\n",
       "</table>\n",
       "</div>"
      ],
      "text/plain": [
       "\n",
       "             ID     Edad   Genero     Raza  Educacion  EstadoCivil  \\\n",
       "count  \u001b[1;36m13772.00\u001b[0m \u001b[1;36m13772.00\u001b[0m \u001b[1;36m13772.00\u001b[0m \u001b[1;36m13772.00\u001b[0m   \u001b[1;36m13566.00\u001b[0m     \u001b[1;36m13566.00\u001b[0m   \n",
       "mean  \u001b[1;36m117079.86\u001b[0m    \u001b[1;36m35.16\u001b[0m     \u001b[1;36m1.50\u001b[0m     \u001b[1;36m3.50\u001b[0m       \u001b[1;36m2.70\u001b[0m         \u001b[1;36m2.18\u001b[0m   \n",
       "std     \u001b[1;36m4498.55\u001b[0m    \u001b[1;36m24.73\u001b[0m     \u001b[1;36m0.50\u001b[0m     \u001b[1;36m1.63\u001b[0m       \u001b[1;36m1.50\u001b[0m         \u001b[1;36m2.17\u001b[0m   \n",
       "min   \u001b[1;36m109263.00\u001b[0m     \u001b[1;36m1.00\u001b[0m     \u001b[1;36m1.00\u001b[0m     \u001b[1;36m1.00\u001b[0m       \u001b[1;36m1.00\u001b[0m         \u001b[1;36m1.00\u001b[0m   \n",
       "\u001b[1;36m25\u001b[0m%   \u001b[1;36m113184.75\u001b[0m    \u001b[1;36m12.00\u001b[0m     \u001b[1;36m1.00\u001b[0m     \u001b[1;36m3.00\u001b[0m       \u001b[1;36m1.00\u001b[0m         \u001b[1;36m1.00\u001b[0m   \n",
       "\u001b[1;36m50\u001b[0m%   \u001b[1;36m117104.50\u001b[0m    \u001b[1;36m32.00\u001b[0m     \u001b[1;36m2.00\u001b[0m     \u001b[1;36m3.00\u001b[0m       \u001b[1;36m3.00\u001b[0m         \u001b[1;36m2.00\u001b[0m   \n",
       "\u001b[1;36m75\u001b[0m%   \u001b[1;36m120981.25\u001b[0m    \u001b[1;36m57.00\u001b[0m     \u001b[1;36m2.00\u001b[0m     \u001b[1;36m4.00\u001b[0m       \u001b[1;36m4.00\u001b[0m         \u001b[1;36m3.00\u001b[0m   \n",
       "max   \u001b[1;36m124822.00\u001b[0m    \u001b[1;36m80.00\u001b[0m     \u001b[1;36m2.00\u001b[0m     \u001b[1;36m7.00\u001b[0m       \u001b[1;36m9.00\u001b[0m        \u001b[1;36m99.00\u001b[0m   \n",
       "\n",
       "       NivelPobreza  Proteína C Reactiva \u001b[1m(\u001b[0mmg/L\u001b[1m)\u001b[0m  \\\n",
       "count      \u001b[1;36m13772.00\u001b[0m                    \u001b[1;36m11614.00\u001b[0m   \n",
       "mean           \u001b[1;36m2.40\u001b[0m                        \u001b[1;36m3.42\u001b[0m   \n",
       "std            \u001b[1;36m1.52\u001b[0m                        \u001b[1;36m7.79\u001b[0m   \n",
       "min            \u001b[1;36m0.00\u001b[0m                        \u001b[1;36m0.11\u001b[0m   \n",
       "\u001b[1;36m25\u001b[0m%            \u001b[1;36m1.15\u001b[0m                        \u001b[1;36m0.52\u001b[0m   \n",
       "\u001b[1;36m50\u001b[0m%            \u001b[1;36m2.39\u001b[0m                        \u001b[1;36m1.32\u001b[0m   \n",
       "\u001b[1;36m75\u001b[0m%            \u001b[1;36m3.47\u001b[0m                        \u001b[1;36m3.62\u001b[0m   \n",
       "max            \u001b[1;36m5.00\u001b[0m                      \u001b[1;36m246.86\u001b[0m   \n",
       "\n",
       "       Código de Comentario de Proteína C Reactiva  \n",
       "count                                     \u001b[1;36m11614.00\u001b[0m  \n",
       "mean                                          \u001b[1;36m0.03\u001b[0m  \n",
       "std                                           \u001b[1;36m0.18\u001b[0m  \n",
       "min                                           \u001b[1;36m0.00\u001b[0m  \n",
       "\u001b[1;36m25\u001b[0m%                                           \u001b[1;36m0.00\u001b[0m  \n",
       "\u001b[1;36m50\u001b[0m%                                           \u001b[1;36m0.00\u001b[0m  \n",
       "\u001b[1;36m75\u001b[0m%                                           \u001b[1;36m0.00\u001b[0m  \n",
       "max                                           \u001b[1;36m1.00\u001b[0m  "
      ]
     },
     "execution_count": 163,
     "metadata": {},
     "output_type": "execute_result"
    }
   ],
   "source": [
    "consideracion_proteinaC.describe()"
   ]
  },
  {
   "cell_type": "code",
   "execution_count": 238,
   "id": "7cbbeeae-2469-4e0f-9b64-fb18aa91855f",
   "metadata": {},
   "outputs": [
    {
     "name": "stdout",
     "output_type": "stream",
     "text": [
      " El IQR es 3.1. El límite inferior es: -1.03, el superior es 5.17\n",
      "2004\n"
     ]
    }
   ],
   "source": [
    "Q1 = consideracion_proteinaC[\"Proteína C Reactiva (mg/L)\"].quantile(0.25)\n",
    "Q3 = consideracion_proteinaC[\"Proteína C Reactiva (mg/L)\"].quantile(0.75)\n",
    "IQR = Q3 - Q1\n",
    "\n",
    "lower_bound = Q1 - 0.5 * IQR\n",
    "upper_bound = Q3 + 0.5 * IQR\n",
    "\n",
    "print(f\" El IQR es {IQR}. El límite inferior es: {lower_bound}, el superior es {upper_bound}\")\n",
    "\n",
    "outliers_proteinac = consideracion_proteinaC[(consideracion_proteinaC[\"Proteína C Reactiva (mg/L)\"] < lower_bound) | (consideracion_proteinaC[\"Proteína C Reactiva (mg/L)\"] > upper_bound)]\n",
    "\n",
    "proteinac_limpio = consideracion_proteinaC[~((consideracion_proteinaC[\"Proteína C Reactiva (mg/L)\"] < lower_bound) | (consideracion_proteinaC[\"Proteína C Reactiva (mg/L)\"] > upper_bound))]\n",
    "\n",
    "num_outliers = len(outliers_proteinac)\n",
    "\n",
    "print(num_outliers)"
   ]
  },
  {
   "cell_type": "code",
   "execution_count": 254,
   "id": "7fbd9759-ed55-41be-97d7-1487207c5909",
   "metadata": {},
   "outputs": [],
   "source": [
    "proteina_c = proteinac_limpio.copy()\n",
    "proteina_c[['Proteína C Reactiva (mg/L)']] = knn_imputer.fit_transform(proteina_c[['Proteína C Reactiva (mg/L)']])"
   ]
  },
  {
   "cell_type": "code",
   "execution_count": 255,
   "id": "2aab7e53-3815-440a-ad29-ff05349707d4",
   "metadata": {},
   "outputs": [
    {
     "data": {
      "text/html": [
       "<pre style=\"white-space:pre;overflow-x:auto;line-height:normal;font-family:Menlo,'DejaVu Sans Mono',consolas,'Courier New',monospace\"></pre>\n"
      ],
      "text/plain": []
     },
     "metadata": {},
     "output_type": "display_data"
    },
    {
     "data": {
      "text/html": [
       "<div>\n",
       "<style scoped>\n",
       "    .dataframe tbody tr th:only-of-type {\n",
       "        vertical-align: middle;\n",
       "    }\n",
       "\n",
       "    .dataframe tbody tr th {\n",
       "        vertical-align: top;\n",
       "    }\n",
       "\n",
       "    .dataframe thead th {\n",
       "        text-align: right;\n",
       "    }\n",
       "</style>\n",
       "<table border=\"1\" class=\"dataframe\">\n",
       "  <thead>\n",
       "    <tr style=\"text-align: right;\">\n",
       "      <th></th>\n",
       "      <th>ID</th>\n",
       "      <th>Edad</th>\n",
       "      <th>Genero</th>\n",
       "      <th>Raza</th>\n",
       "      <th>Educacion</th>\n",
       "      <th>EstadoCivil</th>\n",
       "      <th>NivelPobreza</th>\n",
       "      <th>Proteína C Reactiva (mg/L)</th>\n",
       "      <th>Código de Comentario de Proteína C Reactiva</th>\n",
       "    </tr>\n",
       "  </thead>\n",
       "  <tbody>\n",
       "    <tr>\n",
       "      <th>count</th>\n",
       "      <td>11768.00</td>\n",
       "      <td>11768.00</td>\n",
       "      <td>11768.00</td>\n",
       "      <td>11768.00</td>\n",
       "      <td>11593.00</td>\n",
       "      <td>11593.00</td>\n",
       "      <td>11768.00</td>\n",
       "      <td>11768.00</td>\n",
       "      <td>9610.00</td>\n",
       "    </tr>\n",
       "    <tr>\n",
       "      <th>mean</th>\n",
       "      <td>117065.57</td>\n",
       "      <td>33.38</td>\n",
       "      <td>1.49</td>\n",
       "      <td>3.52</td>\n",
       "      <td>2.61</td>\n",
       "      <td>2.22</td>\n",
       "      <td>2.42</td>\n",
       "      <td>1.45</td>\n",
       "      <td>0.04</td>\n",
       "    </tr>\n",
       "    <tr>\n",
       "      <th>std</th>\n",
       "      <td>4490.59</td>\n",
       "      <td>24.92</td>\n",
       "      <td>0.50</td>\n",
       "      <td>1.65</td>\n",
       "      <td>1.52</td>\n",
       "      <td>1.98</td>\n",
       "      <td>1.53</td>\n",
       "      <td>1.15</td>\n",
       "      <td>0.20</td>\n",
       "    </tr>\n",
       "    <tr>\n",
       "      <th>min</th>\n",
       "      <td>109263.00</td>\n",
       "      <td>1.00</td>\n",
       "      <td>1.00</td>\n",
       "      <td>1.00</td>\n",
       "      <td>1.00</td>\n",
       "      <td>1.00</td>\n",
       "      <td>0.00</td>\n",
       "      <td>0.11</td>\n",
       "      <td>0.00</td>\n",
       "    </tr>\n",
       "    <tr>\n",
       "      <th>25%</th>\n",
       "      <td>113191.50</td>\n",
       "      <td>11.00</td>\n",
       "      <td>1.00</td>\n",
       "      <td>3.00</td>\n",
       "      <td>1.00</td>\n",
       "      <td>1.00</td>\n",
       "      <td>1.16</td>\n",
       "      <td>0.53</td>\n",
       "      <td>0.00</td>\n",
       "    </tr>\n",
       "    <tr>\n",
       "      <th>50%</th>\n",
       "      <td>117090.50</td>\n",
       "      <td>29.00</td>\n",
       "      <td>1.00</td>\n",
       "      <td>3.00</td>\n",
       "      <td>2.00</td>\n",
       "      <td>3.00</td>\n",
       "      <td>2.41</td>\n",
       "      <td>1.36</td>\n",
       "      <td>0.00</td>\n",
       "    </tr>\n",
       "    <tr>\n",
       "      <th>75%</th>\n",
       "      <td>120945.25</td>\n",
       "      <td>56.00</td>\n",
       "      <td>2.00</td>\n",
       "      <td>4.00</td>\n",
       "      <td>4.00</td>\n",
       "      <td>3.00</td>\n",
       "      <td>3.56</td>\n",
       "      <td>1.79</td>\n",
       "      <td>0.00</td>\n",
       "    </tr>\n",
       "    <tr>\n",
       "      <th>max</th>\n",
       "      <td>124822.00</td>\n",
       "      <td>80.00</td>\n",
       "      <td>2.00</td>\n",
       "      <td>7.00</td>\n",
       "      <td>9.00</td>\n",
       "      <td>99.00</td>\n",
       "      <td>5.00</td>\n",
       "      <td>5.17</td>\n",
       "      <td>1.00</td>\n",
       "    </tr>\n",
       "  </tbody>\n",
       "</table>\n",
       "</div>"
      ],
      "text/plain": [
       "\n",
       "             ID     Edad   Genero     Raza  Educacion  EstadoCivil  \\\n",
       "count  \u001b[1;36m11768.00\u001b[0m \u001b[1;36m11768.00\u001b[0m \u001b[1;36m11768.00\u001b[0m \u001b[1;36m11768.00\u001b[0m   \u001b[1;36m11593.00\u001b[0m     \u001b[1;36m11593.00\u001b[0m   \n",
       "mean  \u001b[1;36m117065.57\u001b[0m    \u001b[1;36m33.38\u001b[0m     \u001b[1;36m1.49\u001b[0m     \u001b[1;36m3.52\u001b[0m       \u001b[1;36m2.61\u001b[0m         \u001b[1;36m2.22\u001b[0m   \n",
       "std     \u001b[1;36m4490.59\u001b[0m    \u001b[1;36m24.92\u001b[0m     \u001b[1;36m0.50\u001b[0m     \u001b[1;36m1.65\u001b[0m       \u001b[1;36m1.52\u001b[0m         \u001b[1;36m1.98\u001b[0m   \n",
       "min   \u001b[1;36m109263.00\u001b[0m     \u001b[1;36m1.00\u001b[0m     \u001b[1;36m1.00\u001b[0m     \u001b[1;36m1.00\u001b[0m       \u001b[1;36m1.00\u001b[0m         \u001b[1;36m1.00\u001b[0m   \n",
       "\u001b[1;36m25\u001b[0m%   \u001b[1;36m113191.50\u001b[0m    \u001b[1;36m11.00\u001b[0m     \u001b[1;36m1.00\u001b[0m     \u001b[1;36m3.00\u001b[0m       \u001b[1;36m1.00\u001b[0m         \u001b[1;36m1.00\u001b[0m   \n",
       "\u001b[1;36m50\u001b[0m%   \u001b[1;36m117090.50\u001b[0m    \u001b[1;36m29.00\u001b[0m     \u001b[1;36m1.00\u001b[0m     \u001b[1;36m3.00\u001b[0m       \u001b[1;36m2.00\u001b[0m         \u001b[1;36m3.00\u001b[0m   \n",
       "\u001b[1;36m75\u001b[0m%   \u001b[1;36m120945.25\u001b[0m    \u001b[1;36m56.00\u001b[0m     \u001b[1;36m2.00\u001b[0m     \u001b[1;36m4.00\u001b[0m       \u001b[1;36m4.00\u001b[0m         \u001b[1;36m3.00\u001b[0m   \n",
       "max   \u001b[1;36m124822.00\u001b[0m    \u001b[1;36m80.00\u001b[0m     \u001b[1;36m2.00\u001b[0m     \u001b[1;36m7.00\u001b[0m       \u001b[1;36m9.00\u001b[0m        \u001b[1;36m99.00\u001b[0m   \n",
       "\n",
       "       NivelPobreza  Proteína C Reactiva \u001b[1m(\u001b[0mmg/L\u001b[1m)\u001b[0m  \\\n",
       "count      \u001b[1;36m11768.00\u001b[0m                    \u001b[1;36m11768.00\u001b[0m   \n",
       "mean           \u001b[1;36m2.42\u001b[0m                        \u001b[1;36m1.45\u001b[0m   \n",
       "std            \u001b[1;36m1.53\u001b[0m                        \u001b[1;36m1.15\u001b[0m   \n",
       "min            \u001b[1;36m0.00\u001b[0m                        \u001b[1;36m0.11\u001b[0m   \n",
       "\u001b[1;36m25\u001b[0m%            \u001b[1;36m1.16\u001b[0m                        \u001b[1;36m0.53\u001b[0m   \n",
       "\u001b[1;36m50\u001b[0m%            \u001b[1;36m2.41\u001b[0m                        \u001b[1;36m1.36\u001b[0m   \n",
       "\u001b[1;36m75\u001b[0m%            \u001b[1;36m3.56\u001b[0m                        \u001b[1;36m1.79\u001b[0m   \n",
       "max            \u001b[1;36m5.00\u001b[0m                        \u001b[1;36m5.17\u001b[0m   \n",
       "\n",
       "       Código de Comentario de Proteína C Reactiva  \n",
       "count                                      \u001b[1;36m9610.00\u001b[0m  \n",
       "mean                                          \u001b[1;36m0.04\u001b[0m  \n",
       "std                                           \u001b[1;36m0.20\u001b[0m  \n",
       "min                                           \u001b[1;36m0.00\u001b[0m  \n",
       "\u001b[1;36m25\u001b[0m%                                           \u001b[1;36m0.00\u001b[0m  \n",
       "\u001b[1;36m50\u001b[0m%                                           \u001b[1;36m0.00\u001b[0m  \n",
       "\u001b[1;36m75\u001b[0m%                                           \u001b[1;36m0.00\u001b[0m  \n",
       "max                                           \u001b[1;36m1.00\u001b[0m  "
      ]
     },
     "execution_count": 255,
     "metadata": {},
     "output_type": "execute_result"
    }
   ],
   "source": [
    "proteina_c.describe()"
   ]
  },
  {
   "cell_type": "code",
   "execution_count": 264,
   "id": "bbc250fa-0934-4cc3-ac22-84e355efac13",
   "metadata": {},
   "outputs": [
    {
     "data": {
      "text/html": [
       "<pre style=\"white-space:pre;overflow-x:auto;line-height:normal;font-family:Menlo,'DejaVu Sans Mono',consolas,'Courier New',monospace\"></pre>\n"
      ],
      "text/plain": []
     },
     "metadata": {},
     "output_type": "display_data"
    },
    {
     "data": {
      "image/png": "[encoded data removed]",
      "text/plain": [
       "\u001b[1m<\u001b[0m\u001b[1;95mFigure\u001b[0m\u001b[39m size 64\u001b[0m\u001b[1;36m0x480\u001b[0m\u001b[39m with \u001b[0m\u001b[1;36m1\u001b[0m\u001b[39m Axes\u001b[0m\u001b[1m>\u001b[0m"
      ]
     },
     "metadata": {},
     "output_type": "display_data"
    }
   ],
   "source": [
    "plt.hist(pro[\"Proteína C Reactiva (mg/L)\"])\n",
    "plt.title(f'Histograma de {\"Proteína C Reactiva (mg/L)\"} Post IQR')\n",
    "plt.xlabel(\"Proteína C Reactiva (mg/L)\")\n",
    "plt.ylabel('Frecuencia')\n",
    "plt.show()"
   ]
  },
  {
   "cell_type": "code",
   "execution_count": 261,
   "id": "c10eb264-f97a-4397-a247-43831c1d4c45",
   "metadata": {},
   "outputs": [],
   "source": [
    "pro_c = proteina_c.copy()\n",
    "pro_c[\"Proteína C Reactiva (mg/L)\"] = minmax.fit_transform(pro_c[[\"Proteína C Reactiva (mg/L)\"]])"
   ]
  },
  {
   "cell_type": "code",
   "execution_count": 263,
   "id": "49cf9efa-f99d-4efa-83f2-58184539e91f",
   "metadata": {},
   "outputs": [],
   "source": [
    "pro = pro_c.copy()\n",
    "pro[\"Proteína C Reactiva (mg/L)\"] = pt.fit_transform(pro[[\"Proteína C Reactiva (mg/L)\"]])"
   ]
  },
  {
   "cell_type": "markdown",
   "id": "10d7f438-dc31-4c47-bf7c-ab17548c38f7",
   "metadata": {
    "jp-MarkdownHeadingCollapsed": true
   },
   "source": [
    "# Combinación de Dataset con Depresión"
   ]
  },
  {
   "cell_type": "code",
   "execution_count": 168,
   "id": "f4d0e111-f992-4ac4-8ae4-36129fe91185",
   "metadata": {},
   "outputs": [],
   "source": [
    "depresion = depresion.rename(columns={\n",
    "    'SEQN': 'ID',\n",
    "    'DPQ010': 'Poca Interés en Hacer Cosas',\n",
    "    'DPQ020': 'Sentirse Deprimido o Sin Esperanza',\n",
    "    'DPQ030': 'Problemas para Dormir',\n",
    "    'DPQ040': 'Cansancio o Poca Energía',\n",
    "    'DPQ050': 'Poco Apetito o Comer en Exceso',\n",
    "    'DPQ060': 'Sentirse Mal Acerca de Uno Mismo',\n",
    "    'DPQ070': 'Problemas de Concentración',\n",
    "    'DPQ080': 'Movimientos o Hablar Lento o Rápido',\n",
    "    'DPQ090': 'Pensamientos de Muerte o Autolesión',\n",
    "    'DPQ100': 'Dificultad que Estos Problemas Causan'\n",
    "})"
   ]
  },
  {
   "cell_type": "code",
   "execution_count": 169,
   "id": "ed96cc0e-888a-4d0d-b3fb-af7832dcb7b3",
   "metadata": {},
   "outputs": [],
   "source": [
    "consideracion_depresion = pd.merge(consideracion, depresion, on='ID', how='inner')"
   ]
  },
  {
   "cell_type": "code",
   "execution_count": 248,
   "id": "cc528467-9a23-410f-a5fb-7ea9a3ae720b",
   "metadata": {},
   "outputs": [
    {
     "data": {
      "text/html": [
       "<pre style=\"white-space:pre;overflow-x:auto;line-height:normal;font-family:Menlo,'DejaVu Sans Mono',consolas,'Courier New',monospace\"></pre>\n"
      ],
      "text/plain": []
     },
     "metadata": {},
     "output_type": "display_data"
    },
    {
     "data": {
      "text/html": [
       "<div>\n",
       "<style scoped>\n",
       "    .dataframe tbody tr th:only-of-type {\n",
       "        vertical-align: middle;\n",
       "    }\n",
       "\n",
       "    .dataframe tbody tr th {\n",
       "        vertical-align: top;\n",
       "    }\n",
       "\n",
       "    .dataframe thead th {\n",
       "        text-align: right;\n",
       "    }\n",
       "</style>\n",
       "<table border=\"1\" class=\"dataframe\">\n",
       "  <thead>\n",
       "    <tr style=\"text-align: right;\">\n",
       "      <th></th>\n",
       "      <th>ID</th>\n",
       "      <th>Edad</th>\n",
       "      <th>Genero</th>\n",
       "      <th>Raza</th>\n",
       "      <th>Educacion</th>\n",
       "      <th>EstadoCivil</th>\n",
       "      <th>NivelPobreza</th>\n",
       "      <th>Poca Interés en Hacer Cosas</th>\n",
       "      <th>Sentirse Deprimido o Sin Esperanza</th>\n",
       "      <th>Problemas para Dormir</th>\n",
       "      <th>Cansancio o Poca Energía</th>\n",
       "      <th>Poco Apetito o Comer en Exceso</th>\n",
       "      <th>Sentirse Mal Acerca de Uno Mismo</th>\n",
       "      <th>Problemas de Concentración</th>\n",
       "      <th>Movimientos o Hablar Lento o Rápido</th>\n",
       "      <th>Pensamientos de Muerte o Autolesión</th>\n",
       "      <th>Dificultad que Estos Problemas Causan</th>\n",
       "    </tr>\n",
       "  </thead>\n",
       "  <tbody>\n",
       "    <tr>\n",
       "      <th>0</th>\n",
       "      <td>109266.00</td>\n",
       "      <td>29.00</td>\n",
       "      <td>2.00</td>\n",
       "      <td>6.00</td>\n",
       "      <td>5.00</td>\n",
       "      <td>3.00</td>\n",
       "      <td>5.00</td>\n",
       "      <td>0.00</td>\n",
       "      <td>0.00</td>\n",
       "      <td>0.00</td>\n",
       "      <td>0.00</td>\n",
       "      <td>0.00</td>\n",
       "      <td>0.00</td>\n",
       "      <td>0.00</td>\n",
       "      <td>0.00</td>\n",
       "      <td>0.00</td>\n",
       "      <td>NaN</td>\n",
       "    </tr>\n",
       "    <tr>\n",
       "      <th>1</th>\n",
       "      <td>109271.00</td>\n",
       "      <td>49.00</td>\n",
       "      <td>1.00</td>\n",
       "      <td>3.00</td>\n",
       "      <td>2.00</td>\n",
       "      <td>3.00</td>\n",
       "      <td>2.41</td>\n",
       "      <td>2.00</td>\n",
       "      <td>1.00</td>\n",
       "      <td>0.00</td>\n",
       "      <td>0.00</td>\n",
       "      <td>0.00</td>\n",
       "      <td>0.00</td>\n",
       "      <td>2.00</td>\n",
       "      <td>0.00</td>\n",
       "      <td>0.00</td>\n",
       "      <td>0.00</td>\n",
       "    </tr>\n",
       "    <tr>\n",
       "      <th>2</th>\n",
       "      <td>109273.00</td>\n",
       "      <td>36.00</td>\n",
       "      <td>1.00</td>\n",
       "      <td>3.00</td>\n",
       "      <td>4.00</td>\n",
       "      <td>3.00</td>\n",
       "      <td>0.83</td>\n",
       "      <td>2.00</td>\n",
       "      <td>2.00</td>\n",
       "      <td>2.00</td>\n",
       "      <td>2.00</td>\n",
       "      <td>2.00</td>\n",
       "      <td>2.00</td>\n",
       "      <td>2.00</td>\n",
       "      <td>1.00</td>\n",
       "      <td>0.00</td>\n",
       "      <td>0.00</td>\n",
       "    </tr>\n",
       "    <tr>\n",
       "      <th>3</th>\n",
       "      <td>109274.00</td>\n",
       "      <td>68.00</td>\n",
       "      <td>1.00</td>\n",
       "      <td>7.00</td>\n",
       "      <td>4.00</td>\n",
       "      <td>3.00</td>\n",
       "      <td>1.20</td>\n",
       "      <td>0.00</td>\n",
       "      <td>0.00</td>\n",
       "      <td>0.00</td>\n",
       "      <td>0.00</td>\n",
       "      <td>0.00</td>\n",
       "      <td>0.00</td>\n",
       "      <td>0.00</td>\n",
       "      <td>0.00</td>\n",
       "      <td>0.00</td>\n",
       "      <td>NaN</td>\n",
       "    </tr>\n",
       "    <tr>\n",
       "      <th>4</th>\n",
       "      <td>109282.00</td>\n",
       "      <td>76.00</td>\n",
       "      <td>1.00</td>\n",
       "      <td>3.00</td>\n",
       "      <td>5.00</td>\n",
       "      <td>1.00</td>\n",
       "      <td>3.61</td>\n",
       "      <td>0.00</td>\n",
       "      <td>1.00</td>\n",
       "      <td>0.00</td>\n",
       "      <td>1.00</td>\n",
       "      <td>0.00</td>\n",
       "      <td>0.00</td>\n",
       "      <td>0.00</td>\n",
       "      <td>3.00</td>\n",
       "      <td>0.00</td>\n",
       "      <td>0.00</td>\n",
       "    </tr>\n",
       "    <tr>\n",
       "      <th>...</th>\n",
       "      <td>...</td>\n",
       "      <td>...</td>\n",
       "      <td>...</td>\n",
       "      <td>...</td>\n",
       "      <td>...</td>\n",
       "      <td>...</td>\n",
       "      <td>...</td>\n",
       "      <td>...</td>\n",
       "      <td>...</td>\n",
       "      <td>...</td>\n",
       "      <td>...</td>\n",
       "      <td>...</td>\n",
       "      <td>...</td>\n",
       "      <td>...</td>\n",
       "      <td>...</td>\n",
       "      <td>...</td>\n",
       "      <td>...</td>\n",
       "    </tr>\n",
       "    <tr>\n",
       "      <th>8960</th>\n",
       "      <td>124815.00</td>\n",
       "      <td>52.00</td>\n",
       "      <td>1.00</td>\n",
       "      <td>4.00</td>\n",
       "      <td>4.00</td>\n",
       "      <td>2.00</td>\n",
       "      <td>5.00</td>\n",
       "      <td>0.00</td>\n",
       "      <td>0.00</td>\n",
       "      <td>0.00</td>\n",
       "      <td>0.00</td>\n",
       "      <td>0.00</td>\n",
       "      <td>0.00</td>\n",
       "      <td>0.00</td>\n",
       "      <td>0.00</td>\n",
       "      <td>0.00</td>\n",
       "      <td>NaN</td>\n",
       "    </tr>\n",
       "    <tr>\n",
       "      <th>8961</th>\n",
       "      <td>124817.00</td>\n",
       "      <td>67.00</td>\n",
       "      <td>2.00</td>\n",
       "      <td>1.00</td>\n",
       "      <td>2.00</td>\n",
       "      <td>1.00</td>\n",
       "      <td>2.19</td>\n",
       "      <td>1.00</td>\n",
       "      <td>1.00</td>\n",
       "      <td>1.00</td>\n",
       "      <td>1.00</td>\n",
       "      <td>0.00</td>\n",
       "      <td>0.00</td>\n",
       "      <td>0.00</td>\n",
       "      <td>0.00</td>\n",
       "      <td>0.00</td>\n",
       "      <td>0.00</td>\n",
       "    </tr>\n",
       "    <tr>\n",
       "      <th>8962</th>\n",
       "      <td>124818.00</td>\n",
       "      <td>40.00</td>\n",
       "      <td>1.00</td>\n",
       "      <td>4.00</td>\n",
       "      <td>5.00</td>\n",
       "      <td>1.00</td>\n",
       "      <td>3.82</td>\n",
       "      <td>0.00</td>\n",
       "      <td>0.00</td>\n",
       "      <td>0.00</td>\n",
       "      <td>1.00</td>\n",
       "      <td>0.00</td>\n",
       "      <td>0.00</td>\n",
       "      <td>0.00</td>\n",
       "      <td>0.00</td>\n",
       "      <td>0.00</td>\n",
       "      <td>0.00</td>\n",
       "    </tr>\n",
       "    <tr>\n",
       "      <th>8963</th>\n",
       "      <td>124821.00</td>\n",
       "      <td>63.00</td>\n",
       "      <td>1.00</td>\n",
       "      <td>4.00</td>\n",
       "      <td>2.00</td>\n",
       "      <td>2.00</td>\n",
       "      <td>3.71</td>\n",
       "      <td>3.00</td>\n",
       "      <td>0.00</td>\n",
       "      <td>0.00</td>\n",
       "      <td>2.00</td>\n",
       "      <td>0.00</td>\n",
       "      <td>0.00</td>\n",
       "      <td>0.00</td>\n",
       "      <td>0.00</td>\n",
       "      <td>0.00</td>\n",
       "      <td>0.00</td>\n",
       "    </tr>\n",
       "    <tr>\n",
       "      <th>8964</th>\n",
       "      <td>124822.00</td>\n",
       "      <td>74.00</td>\n",
       "      <td>1.00</td>\n",
       "      <td>2.00</td>\n",
       "      <td>3.00</td>\n",
       "      <td>1.00</td>\n",
       "      <td>2.41</td>\n",
       "      <td>0.00</td>\n",
       "      <td>0.00</td>\n",
       "      <td>0.00</td>\n",
       "      <td>2.00</td>\n",
       "      <td>2.00</td>\n",
       "      <td>0.00</td>\n",
       "      <td>0.00</td>\n",
       "      <td>1.00</td>\n",
       "      <td>0.00</td>\n",
       "      <td>0.00</td>\n",
       "    </tr>\n",
       "  </tbody>\n",
       "</table>\n",
       "<p>8965 rows × 17 columns</p>\n",
       "</div>"
      ],
      "text/plain": [
       "\n",
       "            ID  Edad  Genero  Raza  Educacion  EstadoCivil  NivelPobreza  \\\n",
       "\u001b[1;36m0\u001b[0m    \u001b[1;36m109266.00\u001b[0m \u001b[1;36m29.00\u001b[0m    \u001b[1;36m2.00\u001b[0m  \u001b[1;36m6.00\u001b[0m       \u001b[1;36m5.00\u001b[0m         \u001b[1;36m3.00\u001b[0m          \u001b[1;36m5.00\u001b[0m   \n",
       "\u001b[1;36m1\u001b[0m    \u001b[1;36m109271.00\u001b[0m \u001b[1;36m49.00\u001b[0m    \u001b[1;36m1.00\u001b[0m  \u001b[1;36m3.00\u001b[0m       \u001b[1;36m2.00\u001b[0m         \u001b[1;36m3.00\u001b[0m          \u001b[1;36m2.41\u001b[0m   \n",
       "\u001b[1;36m2\u001b[0m    \u001b[1;36m109273.00\u001b[0m \u001b[1;36m36.00\u001b[0m    \u001b[1;36m1.00\u001b[0m  \u001b[1;36m3.00\u001b[0m       \u001b[1;36m4.00\u001b[0m         \u001b[1;36m3.00\u001b[0m          \u001b[1;36m0.83\u001b[0m   \n",
       "\u001b[1;36m3\u001b[0m    \u001b[1;36m109274.00\u001b[0m \u001b[1;36m68.00\u001b[0m    \u001b[1;36m1.00\u001b[0m  \u001b[1;36m7.00\u001b[0m       \u001b[1;36m4.00\u001b[0m         \u001b[1;36m3.00\u001b[0m          \u001b[1;36m1.20\u001b[0m   \n",
       "\u001b[1;36m4\u001b[0m    \u001b[1;36m109282.00\u001b[0m \u001b[1;36m76.00\u001b[0m    \u001b[1;36m1.00\u001b[0m  \u001b[1;36m3.00\u001b[0m       \u001b[1;36m5.00\u001b[0m         \u001b[1;36m1.00\u001b[0m          \u001b[1;36m3.61\u001b[0m   \n",
       "\u001b[33m...\u001b[0m        \u001b[33m...\u001b[0m   \u001b[33m...\u001b[0m     \u001b[33m...\u001b[0m   \u001b[33m...\u001b[0m        \u001b[33m...\u001b[0m          \u001b[33m...\u001b[0m           \u001b[33m...\u001b[0m   \n",
       "\u001b[1;36m8960\u001b[0m \u001b[1;36m124815.00\u001b[0m \u001b[1;36m52.00\u001b[0m    \u001b[1;36m1.00\u001b[0m  \u001b[1;36m4.00\u001b[0m       \u001b[1;36m4.00\u001b[0m         \u001b[1;36m2.00\u001b[0m          \u001b[1;36m5.00\u001b[0m   \n",
       "\u001b[1;36m8961\u001b[0m \u001b[1;36m124817.00\u001b[0m \u001b[1;36m67.00\u001b[0m    \u001b[1;36m2.00\u001b[0m  \u001b[1;36m1.00\u001b[0m       \u001b[1;36m2.00\u001b[0m         \u001b[1;36m1.00\u001b[0m          \u001b[1;36m2.19\u001b[0m   \n",
       "\u001b[1;36m8962\u001b[0m \u001b[1;36m124818.00\u001b[0m \u001b[1;36m40.00\u001b[0m    \u001b[1;36m1.00\u001b[0m  \u001b[1;36m4.00\u001b[0m       \u001b[1;36m5.00\u001b[0m         \u001b[1;36m1.00\u001b[0m          \u001b[1;36m3.82\u001b[0m   \n",
       "\u001b[1;36m8963\u001b[0m \u001b[1;36m124821.00\u001b[0m \u001b[1;36m63.00\u001b[0m    \u001b[1;36m1.00\u001b[0m  \u001b[1;36m4.00\u001b[0m       \u001b[1;36m2.00\u001b[0m         \u001b[1;36m2.00\u001b[0m          \u001b[1;36m3.71\u001b[0m   \n",
       "\u001b[1;36m8964\u001b[0m \u001b[1;36m124822.00\u001b[0m \u001b[1;36m74.00\u001b[0m    \u001b[1;36m1.00\u001b[0m  \u001b[1;36m2.00\u001b[0m       \u001b[1;36m3.00\u001b[0m         \u001b[1;36m1.00\u001b[0m          \u001b[1;36m2.41\u001b[0m   \n",
       "\n",
       "      Poca Interés en Hacer Cosas  Sentirse Deprimido o Sin Esperanza  \\\n",
       "\u001b[1;36m0\u001b[0m                            \u001b[1;36m0.00\u001b[0m                                \u001b[1;36m0.00\u001b[0m   \n",
       "\u001b[1;36m1\u001b[0m                            \u001b[1;36m2.00\u001b[0m                                \u001b[1;36m1.00\u001b[0m   \n",
       "\u001b[1;36m2\u001b[0m                            \u001b[1;36m2.00\u001b[0m                                \u001b[1;36m2.00\u001b[0m   \n",
       "\u001b[1;36m3\u001b[0m                            \u001b[1;36m0.00\u001b[0m                                \u001b[1;36m0.00\u001b[0m   \n",
       "\u001b[1;36m4\u001b[0m                            \u001b[1;36m0.00\u001b[0m                                \u001b[1;36m1.00\u001b[0m   \n",
       "\u001b[33m...\u001b[0m                           \u001b[33m...\u001b[0m                                 \u001b[33m...\u001b[0m   \n",
       "\u001b[1;36m8960\u001b[0m                         \u001b[1;36m0.00\u001b[0m                                \u001b[1;36m0.00\u001b[0m   \n",
       "\u001b[1;36m8961\u001b[0m                         \u001b[1;36m1.00\u001b[0m                                \u001b[1;36m1.00\u001b[0m   \n",
       "\u001b[1;36m8962\u001b[0m                         \u001b[1;36m0.00\u001b[0m                                \u001b[1;36m0.00\u001b[0m   \n",
       "\u001b[1;36m8963\u001b[0m                         \u001b[1;36m3.00\u001b[0m                                \u001b[1;36m0.00\u001b[0m   \n",
       "\u001b[1;36m8964\u001b[0m                         \u001b[1;36m0.00\u001b[0m                                \u001b[1;36m0.00\u001b[0m   \n",
       "\n",
       "      Problemas para Dormir  Cansancio o Poca Energía  \\\n",
       "\u001b[1;36m0\u001b[0m                      \u001b[1;36m0.00\u001b[0m                      \u001b[1;36m0.00\u001b[0m   \n",
       "\u001b[1;36m1\u001b[0m                      \u001b[1;36m0.00\u001b[0m                      \u001b[1;36m0.00\u001b[0m   \n",
       "\u001b[1;36m2\u001b[0m                      \u001b[1;36m2.00\u001b[0m                      \u001b[1;36m2.00\u001b[0m   \n",
       "\u001b[1;36m3\u001b[0m                      \u001b[1;36m0.00\u001b[0m                      \u001b[1;36m0.00\u001b[0m   \n",
       "\u001b[1;36m4\u001b[0m                      \u001b[1;36m0.00\u001b[0m                      \u001b[1;36m1.00\u001b[0m   \n",
       "\u001b[33m...\u001b[0m                     \u001b[33m...\u001b[0m                       \u001b[33m...\u001b[0m   \n",
       "\u001b[1;36m8960\u001b[0m                   \u001b[1;36m0.00\u001b[0m                      \u001b[1;36m0.00\u001b[0m   \n",
       "\u001b[1;36m8961\u001b[0m                   \u001b[1;36m1.00\u001b[0m                      \u001b[1;36m1.00\u001b[0m   \n",
       "\u001b[1;36m8962\u001b[0m                   \u001b[1;36m0.00\u001b[0m                      \u001b[1;36m1.00\u001b[0m   \n",
       "\u001b[1;36m8963\u001b[0m                   \u001b[1;36m0.00\u001b[0m                      \u001b[1;36m2.00\u001b[0m   \n",
       "\u001b[1;36m8964\u001b[0m                   \u001b[1;36m0.00\u001b[0m                      \u001b[1;36m2.00\u001b[0m   \n",
       "\n",
       "      Poco Apetito o Comer en Exceso  Sentirse Mal Acerca de Uno Mismo  \\\n",
       "\u001b[1;36m0\u001b[0m                               \u001b[1;36m0.00\u001b[0m                              \u001b[1;36m0.00\u001b[0m   \n",
       "\u001b[1;36m1\u001b[0m                               \u001b[1;36m0.00\u001b[0m                              \u001b[1;36m0.00\u001b[0m   \n",
       "\u001b[1;36m2\u001b[0m                               \u001b[1;36m2.00\u001b[0m                              \u001b[1;36m2.00\u001b[0m   \n",
       "\u001b[1;36m3\u001b[0m                               \u001b[1;36m0.00\u001b[0m                              \u001b[1;36m0.00\u001b[0m   \n",
       "\u001b[1;36m4\u001b[0m                               \u001b[1;36m0.00\u001b[0m                              \u001b[1;36m0.00\u001b[0m   \n",
       "\u001b[33m...\u001b[0m                              \u001b[33m...\u001b[0m                               \u001b[33m...\u001b[0m   \n",
       "\u001b[1;36m8960\u001b[0m                            \u001b[1;36m0.00\u001b[0m                              \u001b[1;36m0.00\u001b[0m   \n",
       "\u001b[1;36m8961\u001b[0m                            \u001b[1;36m0.00\u001b[0m                              \u001b[1;36m0.00\u001b[0m   \n",
       "\u001b[1;36m8962\u001b[0m                            \u001b[1;36m0.00\u001b[0m                              \u001b[1;36m0.00\u001b[0m   \n",
       "\u001b[1;36m8963\u001b[0m                            \u001b[1;36m0.00\u001b[0m                              \u001b[1;36m0.00\u001b[0m   \n",
       "\u001b[1;36m8964\u001b[0m                            \u001b[1;36m2.00\u001b[0m                              \u001b[1;36m0.00\u001b[0m   \n",
       "\n",
       "      Problemas de Concentración  Movimientos o Hablar Lento o Rápido  \\\n",
       "\u001b[1;36m0\u001b[0m                           \u001b[1;36m0.00\u001b[0m                                 \u001b[1;36m0.00\u001b[0m   \n",
       "\u001b[1;36m1\u001b[0m                           \u001b[1;36m2.00\u001b[0m                                 \u001b[1;36m0.00\u001b[0m   \n",
       "\u001b[1;36m2\u001b[0m                           \u001b[1;36m2.00\u001b[0m                                 \u001b[1;36m1.00\u001b[0m   \n",
       "\u001b[1;36m3\u001b[0m                           \u001b[1;36m0.00\u001b[0m                                 \u001b[1;36m0.00\u001b[0m   \n",
       "\u001b[1;36m4\u001b[0m                           \u001b[1;36m0.00\u001b[0m                                 \u001b[1;36m3.00\u001b[0m   \n",
       "\u001b[33m...\u001b[0m                          \u001b[33m...\u001b[0m                                  \u001b[33m...\u001b[0m   \n",
       "\u001b[1;36m8960\u001b[0m                        \u001b[1;36m0.00\u001b[0m                                 \u001b[1;36m0.00\u001b[0m   \n",
       "\u001b[1;36m8961\u001b[0m                        \u001b[1;36m0.00\u001b[0m                                 \u001b[1;36m0.00\u001b[0m   \n",
       "\u001b[1;36m8962\u001b[0m                        \u001b[1;36m0.00\u001b[0m                                 \u001b[1;36m0.00\u001b[0m   \n",
       "\u001b[1;36m8963\u001b[0m                        \u001b[1;36m0.00\u001b[0m                                 \u001b[1;36m0.00\u001b[0m   \n",
       "\u001b[1;36m8964\u001b[0m                        \u001b[1;36m0.00\u001b[0m                                 \u001b[1;36m1.00\u001b[0m   \n",
       "\n",
       "      Pensamientos de Muerte o Autolesión  \\\n",
       "\u001b[1;36m0\u001b[0m                                    \u001b[1;36m0.00\u001b[0m   \n",
       "\u001b[1;36m1\u001b[0m                                    \u001b[1;36m0.00\u001b[0m   \n",
       "\u001b[1;36m2\u001b[0m                                    \u001b[1;36m0.00\u001b[0m   \n",
       "\u001b[1;36m3\u001b[0m                                    \u001b[1;36m0.00\u001b[0m   \n",
       "\u001b[1;36m4\u001b[0m                                    \u001b[1;36m0.00\u001b[0m   \n",
       "\u001b[33m...\u001b[0m                                   \u001b[33m...\u001b[0m   \n",
       "\u001b[1;36m8960\u001b[0m                                 \u001b[1;36m0.00\u001b[0m   \n",
       "\u001b[1;36m8961\u001b[0m                                 \u001b[1;36m0.00\u001b[0m   \n",
       "\u001b[1;36m8962\u001b[0m                                 \u001b[1;36m0.00\u001b[0m   \n",
       "\u001b[1;36m8963\u001b[0m                                 \u001b[1;36m0.00\u001b[0m   \n",
       "\u001b[1;36m8964\u001b[0m                                 \u001b[1;36m0.00\u001b[0m   \n",
       "\n",
       "      Dificultad que Estos Problemas Causan  \n",
       "\u001b[1;36m0\u001b[0m                                       NaN  \n",
       "\u001b[1;36m1\u001b[0m                                      \u001b[1;36m0.00\u001b[0m  \n",
       "\u001b[1;36m2\u001b[0m                                      \u001b[1;36m0.00\u001b[0m  \n",
       "\u001b[1;36m3\u001b[0m                                       NaN  \n",
       "\u001b[1;36m4\u001b[0m                                      \u001b[1;36m0.00\u001b[0m  \n",
       "\u001b[33m...\u001b[0m                                     \u001b[33m...\u001b[0m  \n",
       "\u001b[1;36m8960\u001b[0m                                    NaN  \n",
       "\u001b[1;36m8961\u001b[0m                                   \u001b[1;36m0.00\u001b[0m  \n",
       "\u001b[1;36m8962\u001b[0m                                   \u001b[1;36m0.00\u001b[0m  \n",
       "\u001b[1;36m8963\u001b[0m                                   \u001b[1;36m0.00\u001b[0m  \n",
       "\u001b[1;36m8964\u001b[0m                                   \u001b[1;36m0.00\u001b[0m  \n",
       "\n",
       "\u001b[1m[\u001b[0m\u001b[1;36m8965\u001b[0m rows x \u001b[1;36m17\u001b[0m columns\u001b[1m]\u001b[0m"
      ]
     },
     "execution_count": 248,
     "metadata": {},
     "output_type": "execute_result"
    }
   ],
   "source": [
    "consideracion_depresion"
   ]
  },
  {
   "cell_type": "code",
   "execution_count": 249,
   "id": "5542a1b3-9617-4be6-86d6-ba8d8da32af0",
   "metadata": {},
   "outputs": [
    {
     "data": {
      "text/html": [
       "<pre style=\"white-space:pre;overflow-x:auto;line-height:normal;font-family:Menlo,'DejaVu Sans Mono',consolas,'Courier New',monospace\"></pre>\n"
      ],
      "text/plain": []
     },
     "metadata": {},
     "output_type": "display_data"
    },
    {
     "data": {
      "text/html": [
       "<div>\n",
       "<style scoped>\n",
       "    .dataframe tbody tr th:only-of-type {\n",
       "        vertical-align: middle;\n",
       "    }\n",
       "\n",
       "    .dataframe tbody tr th {\n",
       "        vertical-align: top;\n",
       "    }\n",
       "\n",
       "    .dataframe thead th {\n",
       "        text-align: right;\n",
       "    }\n",
       "</style>\n",
       "<table border=\"1\" class=\"dataframe\">\n",
       "  <thead>\n",
       "    <tr style=\"text-align: right;\">\n",
       "      <th></th>\n",
       "      <th>ID</th>\n",
       "      <th>Edad</th>\n",
       "      <th>Genero</th>\n",
       "      <th>Raza</th>\n",
       "      <th>Educacion</th>\n",
       "      <th>EstadoCivil</th>\n",
       "      <th>NivelPobreza</th>\n",
       "      <th>Poca Interés en Hacer Cosas</th>\n",
       "      <th>Sentirse Deprimido o Sin Esperanza</th>\n",
       "      <th>Problemas para Dormir</th>\n",
       "      <th>Cansancio o Poca Energía</th>\n",
       "      <th>Poco Apetito o Comer en Exceso</th>\n",
       "      <th>Sentirse Mal Acerca de Uno Mismo</th>\n",
       "      <th>Problemas de Concentración</th>\n",
       "      <th>Movimientos o Hablar Lento o Rápido</th>\n",
       "      <th>Pensamientos de Muerte o Autolesión</th>\n",
       "      <th>Dificultad que Estos Problemas Causan</th>\n",
       "    </tr>\n",
       "  </thead>\n",
       "  <tbody>\n",
       "    <tr>\n",
       "      <th>count</th>\n",
       "      <td>8965.00</td>\n",
       "      <td>8965.00</td>\n",
       "      <td>8965.00</td>\n",
       "      <td>8965.00</td>\n",
       "      <td>8759.00</td>\n",
       "      <td>8759.00</td>\n",
       "      <td>8965.00</td>\n",
       "      <td>8308.00</td>\n",
       "      <td>8306.00</td>\n",
       "      <td>8306.00</td>\n",
       "      <td>8305.00</td>\n",
       "      <td>8305.00</td>\n",
       "      <td>8304.00</td>\n",
       "      <td>8304.00</td>\n",
       "      <td>8304.00</td>\n",
       "      <td>8302.00</td>\n",
       "      <td>5540.00</td>\n",
       "    </tr>\n",
       "    <tr>\n",
       "      <th>mean</th>\n",
       "      <td>117107.85</td>\n",
       "      <td>49.47</td>\n",
       "      <td>1.51</td>\n",
       "      <td>3.48</td>\n",
       "      <td>3.52</td>\n",
       "      <td>1.73</td>\n",
       "      <td>2.54</td>\n",
       "      <td>0.40</td>\n",
       "      <td>0.37</td>\n",
       "      <td>0.66</td>\n",
       "      <td>0.76</td>\n",
       "      <td>0.41</td>\n",
       "      <td>0.26</td>\n",
       "      <td>0.28</td>\n",
       "      <td>0.17</td>\n",
       "      <td>0.06</td>\n",
       "      <td>0.33</td>\n",
       "    </tr>\n",
       "    <tr>\n",
       "      <th>std</th>\n",
       "      <td>4501.05</td>\n",
       "      <td>18.46</td>\n",
       "      <td>0.50</td>\n",
       "      <td>1.57</td>\n",
       "      <td>1.22</td>\n",
       "      <td>2.59</td>\n",
       "      <td>1.51</td>\n",
       "      <td>0.80</td>\n",
       "      <td>0.76</td>\n",
       "      <td>0.99</td>\n",
       "      <td>0.96</td>\n",
       "      <td>0.82</td>\n",
       "      <td>0.68</td>\n",
       "      <td>0.71</td>\n",
       "      <td>0.59</td>\n",
       "      <td>0.37</td>\n",
       "      <td>0.66</td>\n",
       "    </tr>\n",
       "    <tr>\n",
       "      <th>min</th>\n",
       "      <td>109266.00</td>\n",
       "      <td>18.00</td>\n",
       "      <td>1.00</td>\n",
       "      <td>1.00</td>\n",
       "      <td>1.00</td>\n",
       "      <td>1.00</td>\n",
       "      <td>0.00</td>\n",
       "      <td>0.00</td>\n",
       "      <td>0.00</td>\n",
       "      <td>0.00</td>\n",
       "      <td>0.00</td>\n",
       "      <td>0.00</td>\n",
       "      <td>0.00</td>\n",
       "      <td>0.00</td>\n",
       "      <td>0.00</td>\n",
       "      <td>0.00</td>\n",
       "      <td>0.00</td>\n",
       "    </tr>\n",
       "    <tr>\n",
       "      <th>25%</th>\n",
       "      <td>113211.00</td>\n",
       "      <td>33.00</td>\n",
       "      <td>1.00</td>\n",
       "      <td>3.00</td>\n",
       "      <td>3.00</td>\n",
       "      <td>1.00</td>\n",
       "      <td>1.29</td>\n",
       "      <td>0.00</td>\n",
       "      <td>0.00</td>\n",
       "      <td>0.00</td>\n",
       "      <td>0.00</td>\n",
       "      <td>0.00</td>\n",
       "      <td>0.00</td>\n",
       "      <td>0.00</td>\n",
       "      <td>0.00</td>\n",
       "      <td>0.00</td>\n",
       "      <td>0.00</td>\n",
       "    </tr>\n",
       "    <tr>\n",
       "      <th>50%</th>\n",
       "      <td>117091.00</td>\n",
       "      <td>50.00</td>\n",
       "      <td>2.00</td>\n",
       "      <td>3.00</td>\n",
       "      <td>4.00</td>\n",
       "      <td>1.00</td>\n",
       "      <td>2.41</td>\n",
       "      <td>0.00</td>\n",
       "      <td>0.00</td>\n",
       "      <td>0.00</td>\n",
       "      <td>0.00</td>\n",
       "      <td>0.00</td>\n",
       "      <td>0.00</td>\n",
       "      <td>0.00</td>\n",
       "      <td>0.00</td>\n",
       "      <td>0.00</td>\n",
       "      <td>0.00</td>\n",
       "    </tr>\n",
       "    <tr>\n",
       "      <th>75%</th>\n",
       "      <td>121022.00</td>\n",
       "      <td>64.00</td>\n",
       "      <td>2.00</td>\n",
       "      <td>4.00</td>\n",
       "      <td>4.00</td>\n",
       "      <td>2.00</td>\n",
       "      <td>3.75</td>\n",
       "      <td>1.00</td>\n",
       "      <td>1.00</td>\n",
       "      <td>1.00</td>\n",
       "      <td>1.00</td>\n",
       "      <td>1.00</td>\n",
       "      <td>0.00</td>\n",
       "      <td>0.00</td>\n",
       "      <td>0.00</td>\n",
       "      <td>0.00</td>\n",
       "      <td>1.00</td>\n",
       "    </tr>\n",
       "    <tr>\n",
       "      <th>max</th>\n",
       "      <td>124822.00</td>\n",
       "      <td>80.00</td>\n",
       "      <td>2.00</td>\n",
       "      <td>7.00</td>\n",
       "      <td>9.00</td>\n",
       "      <td>99.00</td>\n",
       "      <td>5.00</td>\n",
       "      <td>9.00</td>\n",
       "      <td>9.00</td>\n",
       "      <td>9.00</td>\n",
       "      <td>9.00</td>\n",
       "      <td>9.00</td>\n",
       "      <td>9.00</td>\n",
       "      <td>9.00</td>\n",
       "      <td>9.00</td>\n",
       "      <td>9.00</td>\n",
       "      <td>9.00</td>\n",
       "    </tr>\n",
       "  </tbody>\n",
       "</table>\n",
       "</div>"
      ],
      "text/plain": [
       "\n",
       "             ID    Edad  Genero    Raza  Educacion  EstadoCivil  NivelPobreza  \\\n",
       "count   \u001b[1;36m8965.00\u001b[0m \u001b[1;36m8965.00\u001b[0m \u001b[1;36m8965.00\u001b[0m \u001b[1;36m8965.00\u001b[0m    \u001b[1;36m8759.00\u001b[0m      \u001b[1;36m8759.00\u001b[0m       \u001b[1;36m8965.00\u001b[0m   \n",
       "mean  \u001b[1;36m117107.85\u001b[0m   \u001b[1;36m49.47\u001b[0m    \u001b[1;36m1.51\u001b[0m    \u001b[1;36m3.48\u001b[0m       \u001b[1;36m3.52\u001b[0m         \u001b[1;36m1.73\u001b[0m          \u001b[1;36m2.54\u001b[0m   \n",
       "std     \u001b[1;36m4501.05\u001b[0m   \u001b[1;36m18.46\u001b[0m    \u001b[1;36m0.50\u001b[0m    \u001b[1;36m1.57\u001b[0m       \u001b[1;36m1.22\u001b[0m         \u001b[1;36m2.59\u001b[0m          \u001b[1;36m1.51\u001b[0m   \n",
       "min   \u001b[1;36m109266.00\u001b[0m   \u001b[1;36m18.00\u001b[0m    \u001b[1;36m1.00\u001b[0m    \u001b[1;36m1.00\u001b[0m       \u001b[1;36m1.00\u001b[0m         \u001b[1;36m1.00\u001b[0m          \u001b[1;36m0.00\u001b[0m   \n",
       "\u001b[1;36m25\u001b[0m%   \u001b[1;36m113211.00\u001b[0m   \u001b[1;36m33.00\u001b[0m    \u001b[1;36m1.00\u001b[0m    \u001b[1;36m3.00\u001b[0m       \u001b[1;36m3.00\u001b[0m         \u001b[1;36m1.00\u001b[0m          \u001b[1;36m1.29\u001b[0m   \n",
       "\u001b[1;36m50\u001b[0m%   \u001b[1;36m117091.00\u001b[0m   \u001b[1;36m50.00\u001b[0m    \u001b[1;36m2.00\u001b[0m    \u001b[1;36m3.00\u001b[0m       \u001b[1;36m4.00\u001b[0m         \u001b[1;36m1.00\u001b[0m          \u001b[1;36m2.41\u001b[0m   \n",
       "\u001b[1;36m75\u001b[0m%   \u001b[1;36m121022.00\u001b[0m   \u001b[1;36m64.00\u001b[0m    \u001b[1;36m2.00\u001b[0m    \u001b[1;36m4.00\u001b[0m       \u001b[1;36m4.00\u001b[0m         \u001b[1;36m2.00\u001b[0m          \u001b[1;36m3.75\u001b[0m   \n",
       "max   \u001b[1;36m124822.00\u001b[0m   \u001b[1;36m80.00\u001b[0m    \u001b[1;36m2.00\u001b[0m    \u001b[1;36m7.00\u001b[0m       \u001b[1;36m9.00\u001b[0m        \u001b[1;36m99.00\u001b[0m          \u001b[1;36m5.00\u001b[0m   \n",
       "\n",
       "       Poca Interés en Hacer Cosas  Sentirse Deprimido o Sin Esperanza  \\\n",
       "count                      \u001b[1;36m8308.00\u001b[0m                             \u001b[1;36m8306.00\u001b[0m   \n",
       "mean                          \u001b[1;36m0.40\u001b[0m                                \u001b[1;36m0.37\u001b[0m   \n",
       "std                           \u001b[1;36m0.80\u001b[0m                                \u001b[1;36m0.76\u001b[0m   \n",
       "min                           \u001b[1;36m0.00\u001b[0m                                \u001b[1;36m0.00\u001b[0m   \n",
       "\u001b[1;36m25\u001b[0m%                           \u001b[1;36m0.00\u001b[0m                                \u001b[1;36m0.00\u001b[0m   \n",
       "\u001b[1;36m50\u001b[0m%                           \u001b[1;36m0.00\u001b[0m                                \u001b[1;36m0.00\u001b[0m   \n",
       "\u001b[1;36m75\u001b[0m%                           \u001b[1;36m1.00\u001b[0m                                \u001b[1;36m1.00\u001b[0m   \n",
       "max                           \u001b[1;36m9.00\u001b[0m                                \u001b[1;36m9.00\u001b[0m   \n",
       "\n",
       "       Problemas para Dormir  Cansancio o Poca Energía  \\\n",
       "count                \u001b[1;36m8306.00\u001b[0m                   \u001b[1;36m8305.00\u001b[0m   \n",
       "mean                    \u001b[1;36m0.66\u001b[0m                      \u001b[1;36m0.76\u001b[0m   \n",
       "std                     \u001b[1;36m0.99\u001b[0m                      \u001b[1;36m0.96\u001b[0m   \n",
       "min                     \u001b[1;36m0.00\u001b[0m                      \u001b[1;36m0.00\u001b[0m   \n",
       "\u001b[1;36m25\u001b[0m%                     \u001b[1;36m0.00\u001b[0m                      \u001b[1;36m0.00\u001b[0m   \n",
       "\u001b[1;36m50\u001b[0m%                     \u001b[1;36m0.00\u001b[0m                      \u001b[1;36m0.00\u001b[0m   \n",
       "\u001b[1;36m75\u001b[0m%                     \u001b[1;36m1.00\u001b[0m                      \u001b[1;36m1.00\u001b[0m   \n",
       "max                     \u001b[1;36m9.00\u001b[0m                      \u001b[1;36m9.00\u001b[0m   \n",
       "\n",
       "       Poco Apetito o Comer en Exceso  Sentirse Mal Acerca de Uno Mismo  \\\n",
       "count                         \u001b[1;36m8305.00\u001b[0m                           \u001b[1;36m8304.00\u001b[0m   \n",
       "mean                             \u001b[1;36m0.41\u001b[0m                              \u001b[1;36m0.26\u001b[0m   \n",
       "std                              \u001b[1;36m0.82\u001b[0m                              \u001b[1;36m0.68\u001b[0m   \n",
       "min                              \u001b[1;36m0.00\u001b[0m                              \u001b[1;36m0.00\u001b[0m   \n",
       "\u001b[1;36m25\u001b[0m%                              \u001b[1;36m0.00\u001b[0m                              \u001b[1;36m0.00\u001b[0m   \n",
       "\u001b[1;36m50\u001b[0m%                              \u001b[1;36m0.00\u001b[0m                              \u001b[1;36m0.00\u001b[0m   \n",
       "\u001b[1;36m75\u001b[0m%                              \u001b[1;36m1.00\u001b[0m                              \u001b[1;36m0.00\u001b[0m   \n",
       "max                              \u001b[1;36m9.00\u001b[0m                              \u001b[1;36m9.00\u001b[0m   \n",
       "\n",
       "       Problemas de Concentración  Movimientos o Hablar Lento o Rápido  \\\n",
       "count                     \u001b[1;36m8304.00\u001b[0m                              \u001b[1;36m8304.00\u001b[0m   \n",
       "mean                         \u001b[1;36m0.28\u001b[0m                                 \u001b[1;36m0.17\u001b[0m   \n",
       "std                          \u001b[1;36m0.71\u001b[0m                                 \u001b[1;36m0.59\u001b[0m   \n",
       "min                          \u001b[1;36m0.00\u001b[0m                                 \u001b[1;36m0.00\u001b[0m   \n",
       "\u001b[1;36m25\u001b[0m%                          \u001b[1;36m0.00\u001b[0m                                 \u001b[1;36m0.00\u001b[0m   \n",
       "\u001b[1;36m50\u001b[0m%                          \u001b[1;36m0.00\u001b[0m                                 \u001b[1;36m0.00\u001b[0m   \n",
       "\u001b[1;36m75\u001b[0m%                          \u001b[1;36m0.00\u001b[0m                                 \u001b[1;36m0.00\u001b[0m   \n",
       "max                          \u001b[1;36m9.00\u001b[0m                                 \u001b[1;36m9.00\u001b[0m   \n",
       "\n",
       "       Pensamientos de Muerte o Autolesión  \\\n",
       "count                              \u001b[1;36m8302.00\u001b[0m   \n",
       "mean                                  \u001b[1;36m0.06\u001b[0m   \n",
       "std                                   \u001b[1;36m0.37\u001b[0m   \n",
       "min                                   \u001b[1;36m0.00\u001b[0m   \n",
       "\u001b[1;36m25\u001b[0m%                                   \u001b[1;36m0.00\u001b[0m   \n",
       "\u001b[1;36m50\u001b[0m%                                   \u001b[1;36m0.00\u001b[0m   \n",
       "\u001b[1;36m75\u001b[0m%                                   \u001b[1;36m0.00\u001b[0m   \n",
       "max                                   \u001b[1;36m9.00\u001b[0m   \n",
       "\n",
       "       Dificultad que Estos Problemas Causan  \n",
       "count                                \u001b[1;36m5540.00\u001b[0m  \n",
       "mean                                    \u001b[1;36m0.33\u001b[0m  \n",
       "std                                     \u001b[1;36m0.66\u001b[0m  \n",
       "min                                     \u001b[1;36m0.00\u001b[0m  \n",
       "\u001b[1;36m25\u001b[0m%                                     \u001b[1;36m0.00\u001b[0m  \n",
       "\u001b[1;36m50\u001b[0m%                                     \u001b[1;36m0.00\u001b[0m  \n",
       "\u001b[1;36m75\u001b[0m%                                     \u001b[1;36m1.00\u001b[0m  \n",
       "max                                     \u001b[1;36m9.00\u001b[0m  "
      ]
     },
     "execution_count": 249,
     "metadata": {},
     "output_type": "execute_result"
    }
   ],
   "source": [
    "consideracion_depresion.describe()"
   ]
  }
 ],
 "metadata": {
  "kernelspec": {
   "display_name": "Kedro (nhanes)",
   "language": "python",
   "name": "kedro_nhanes"
  },
  "language_info": {
   "codemirror_mode": {
    "name": "ipython",
    "version": 3
   },
   "file_extension": ".py",
   "mimetype": "text/x-python",
   "name": "python",
   "nbconvert_exporter": "python",
   "pygments_lexer": "ipython3",
   "version": "3.11.5"
  }
 },
 "nbformat": 4,
 "nbformat_minor": 5
}
