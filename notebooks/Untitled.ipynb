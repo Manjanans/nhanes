{
 "cells": [
  {
   "cell_type": "code",
   "execution_count": 24,
   "id": "feeb19f7-2068-46b8-a40c-5280f1120564",
   "metadata": {},
   "outputs": [
    {
     "name": "stdout",
     "output_type": "stream",
     "text": [
      "The kedro.ipython extension is already loaded. To reload it, use:\n",
      "  %reload_ext kedro.ipython\n"
     ]
    }
   ],
   "source": [
    "%load_ext kedro.ipython\n",
    "import pandas as pd"
   ]
  },
  {
   "cell_type": "code",
   "execution_count": 25,
   "id": "2151dfe7-8c2b-4e4b-926c-98df356e09cb",
   "metadata": {},
   "outputs": [
    {
     "data": {
      "text/html": [
       "<pre style=\"white-space:pre;overflow-x:auto;line-height:normal;font-family:Menlo,'DejaVu Sans Mono',consolas,'Courier New',monospace\"><span style=\"color: #7fbfbf; text-decoration-color: #7fbfbf\">[09/03/24 12:15:09] </span><span style=\"color: #000080; text-decoration-color: #000080\">INFO    </span> Loading data from <span style=\"color: #ff8700; text-decoration-color: #ff8700\">demografia</span> <span style=\"font-weight: bold\">(</span>ParquetDataset<span style=\"font-weight: bold\">)</span><span style=\"color: #808000; text-decoration-color: #808000\">...</span>                   <a href=\"file://C:\\Users\\crist\\OneDrive\\Desktop\\kedro-main\\.venv\\Lib\\site-packages\\kedro\\io\\data_catalog.py\" target=\"_blank\"><span style=\"color: #7f7f7f; text-decoration-color: #7f7f7f\">data_catalog.py</span></a><span style=\"color: #7f7f7f; text-decoration-color: #7f7f7f\">:</span><a href=\"file://C:\\Users\\crist\\OneDrive\\Desktop\\kedro-main\\.venv\\Lib\\site-packages\\kedro\\io\\data_catalog.py#539\" target=\"_blank\"><span style=\"color: #7f7f7f; text-decoration-color: #7f7f7f\">539</span></a>\n",
       "</pre>\n"
      ],
      "text/plain": [
       "\u001b[2;36m[09/03/24 12:15:09]\u001b[0m\u001b[2;36m \u001b[0m\u001b[34mINFO    \u001b[0m Loading data from \u001b[38;5;208mdemografia\u001b[0m \u001b[1m(\u001b[0mParquetDataset\u001b[1m)\u001b[0m\u001b[33m...\u001b[0m                   \u001b]8;id=560111;file://C:\\Users\\crist\\OneDrive\\Desktop\\kedro-main\\.venv\\Lib\\site-packages\\kedro\\io\\data_catalog.py\u001b\\\u001b[2mdata_catalog.py\u001b[0m\u001b]8;;\u001b\\\u001b[2m:\u001b[0m\u001b]8;id=111377;file://C:\\Users\\crist\\OneDrive\\Desktop\\kedro-main\\.venv\\Lib\\site-packages\\kedro\\io\\data_catalog.py#539\u001b\\\u001b[2m539\u001b[0m\u001b]8;;\u001b\\\n"
      ]
     },
     "metadata": {},
     "output_type": "display_data"
    },
    {
     "data": {
      "text/html": [
       "<pre style=\"white-space:pre;overflow-x:auto;line-height:normal;font-family:Menlo,'DejaVu Sans Mono',consolas,'Courier New',monospace\"><span style=\"color: #7fbfbf; text-decoration-color: #7fbfbf\">                    </span><span style=\"color: #000080; text-decoration-color: #000080\">INFO    </span> Loading data from <span style=\"color: #ff8700; text-decoration-color: #ff8700\">insulina</span> <span style=\"font-weight: bold\">(</span>ParquetDataset<span style=\"font-weight: bold\">)</span><span style=\"color: #808000; text-decoration-color: #808000\">...</span>                     <a href=\"file://C:\\Users\\crist\\OneDrive\\Desktop\\kedro-main\\.venv\\Lib\\site-packages\\kedro\\io\\data_catalog.py\" target=\"_blank\"><span style=\"color: #7f7f7f; text-decoration-color: #7f7f7f\">data_catalog.py</span></a><span style=\"color: #7f7f7f; text-decoration-color: #7f7f7f\">:</span><a href=\"file://C:\\Users\\crist\\OneDrive\\Desktop\\kedro-main\\.venv\\Lib\\site-packages\\kedro\\io\\data_catalog.py#539\" target=\"_blank\"><span style=\"color: #7f7f7f; text-decoration-color: #7f7f7f\">539</span></a>\n",
       "</pre>\n"
      ],
      "text/plain": [
       "\u001b[2;36m                   \u001b[0m\u001b[2;36m \u001b[0m\u001b[34mINFO    \u001b[0m Loading data from \u001b[38;5;208minsulina\u001b[0m \u001b[1m(\u001b[0mParquetDataset\u001b[1m)\u001b[0m\u001b[33m...\u001b[0m                     \u001b]8;id=962691;file://C:\\Users\\crist\\OneDrive\\Desktop\\kedro-main\\.venv\\Lib\\site-packages\\kedro\\io\\data_catalog.py\u001b\\\u001b[2mdata_catalog.py\u001b[0m\u001b]8;;\u001b\\\u001b[2m:\u001b[0m\u001b]8;id=793539;file://C:\\Users\\crist\\OneDrive\\Desktop\\kedro-main\\.venv\\Lib\\site-packages\\kedro\\io\\data_catalog.py#539\u001b\\\u001b[2m539\u001b[0m\u001b]8;;\u001b\\\n"
      ]
     },
     "metadata": {},
     "output_type": "display_data"
    },
    {
     "data": {
      "text/html": [
       "<pre style=\"white-space:pre;overflow-x:auto;line-height:normal;font-family:Menlo,'DejaVu Sans Mono',consolas,'Courier New',monospace\"><span style=\"color: #7fbfbf; text-decoration-color: #7fbfbf\">                    </span><span style=\"color: #000080; text-decoration-color: #000080\">INFO    </span> Loading data from <span style=\"color: #ff8700; text-decoration-color: #ff8700\">colesterol</span> <span style=\"font-weight: bold\">(</span>ParquetDataset<span style=\"font-weight: bold\">)</span><span style=\"color: #808000; text-decoration-color: #808000\">...</span>                   <a href=\"file://C:\\Users\\crist\\OneDrive\\Desktop\\kedro-main\\.venv\\Lib\\site-packages\\kedro\\io\\data_catalog.py\" target=\"_blank\"><span style=\"color: #7f7f7f; text-decoration-color: #7f7f7f\">data_catalog.py</span></a><span style=\"color: #7f7f7f; text-decoration-color: #7f7f7f\">:</span><a href=\"file://C:\\Users\\crist\\OneDrive\\Desktop\\kedro-main\\.venv\\Lib\\site-packages\\kedro\\io\\data_catalog.py#539\" target=\"_blank\"><span style=\"color: #7f7f7f; text-decoration-color: #7f7f7f\">539</span></a>\n",
       "</pre>\n"
      ],
      "text/plain": [
       "\u001b[2;36m                   \u001b[0m\u001b[2;36m \u001b[0m\u001b[34mINFO    \u001b[0m Loading data from \u001b[38;5;208mcolesterol\u001b[0m \u001b[1m(\u001b[0mParquetDataset\u001b[1m)\u001b[0m\u001b[33m...\u001b[0m                   \u001b]8;id=755646;file://C:\\Users\\crist\\OneDrive\\Desktop\\kedro-main\\.venv\\Lib\\site-packages\\kedro\\io\\data_catalog.py\u001b\\\u001b[2mdata_catalog.py\u001b[0m\u001b]8;;\u001b\\\u001b[2m:\u001b[0m\u001b]8;id=230929;file://C:\\Users\\crist\\OneDrive\\Desktop\\kedro-main\\.venv\\Lib\\site-packages\\kedro\\io\\data_catalog.py#539\u001b\\\u001b[2m539\u001b[0m\u001b]8;;\u001b\\\n"
      ]
     },
     "metadata": {},
     "output_type": "display_data"
    },
    {
     "data": {
      "text/html": [
       "<pre style=\"white-space:pre;overflow-x:auto;line-height:normal;font-family:Menlo,'DejaVu Sans Mono',consolas,'Courier New',monospace\"><span style=\"color: #7fbfbf; text-decoration-color: #7fbfbf\">                    </span><span style=\"color: #000080; text-decoration-color: #000080\">INFO    </span> Loading data from <span style=\"color: #ff8700; text-decoration-color: #ff8700\">depresion</span> <span style=\"font-weight: bold\">(</span>ParquetDataset<span style=\"font-weight: bold\">)</span><span style=\"color: #808000; text-decoration-color: #808000\">...</span>                    <a href=\"file://C:\\Users\\crist\\OneDrive\\Desktop\\kedro-main\\.venv\\Lib\\site-packages\\kedro\\io\\data_catalog.py\" target=\"_blank\"><span style=\"color: #7f7f7f; text-decoration-color: #7f7f7f\">data_catalog.py</span></a><span style=\"color: #7f7f7f; text-decoration-color: #7f7f7f\">:</span><a href=\"file://C:\\Users\\crist\\OneDrive\\Desktop\\kedro-main\\.venv\\Lib\\site-packages\\kedro\\io\\data_catalog.py#539\" target=\"_blank\"><span style=\"color: #7f7f7f; text-decoration-color: #7f7f7f\">539</span></a>\n",
       "</pre>\n"
      ],
      "text/plain": [
       "\u001b[2;36m                   \u001b[0m\u001b[2;36m \u001b[0m\u001b[34mINFO    \u001b[0m Loading data from \u001b[38;5;208mdepresion\u001b[0m \u001b[1m(\u001b[0mParquetDataset\u001b[1m)\u001b[0m\u001b[33m...\u001b[0m                    \u001b]8;id=453739;file://C:\\Users\\crist\\OneDrive\\Desktop\\kedro-main\\.venv\\Lib\\site-packages\\kedro\\io\\data_catalog.py\u001b\\\u001b[2mdata_catalog.py\u001b[0m\u001b]8;;\u001b\\\u001b[2m:\u001b[0m\u001b]8;id=507509;file://C:\\Users\\crist\\OneDrive\\Desktop\\kedro-main\\.venv\\Lib\\site-packages\\kedro\\io\\data_catalog.py#539\u001b\\\u001b[2m539\u001b[0m\u001b]8;;\u001b\\\n"
      ]
     },
     "metadata": {},
     "output_type": "display_data"
    },
    {
     "data": {
      "text/html": [
       "<pre style=\"white-space:pre;overflow-x:auto;line-height:normal;font-family:Menlo,'DejaVu Sans Mono',consolas,'Courier New',monospace\"><span style=\"color: #7fbfbf; text-decoration-color: #7fbfbf\">                    </span><span style=\"color: #000080; text-decoration-color: #000080\">INFO    </span> Loading data from <span style=\"color: #ff8700; text-decoration-color: #ff8700\">proteinaC</span> <span style=\"font-weight: bold\">(</span>ParquetDataset<span style=\"font-weight: bold\">)</span><span style=\"color: #808000; text-decoration-color: #808000\">...</span>                    <a href=\"file://C:\\Users\\crist\\OneDrive\\Desktop\\kedro-main\\.venv\\Lib\\site-packages\\kedro\\io\\data_catalog.py\" target=\"_blank\"><span style=\"color: #7f7f7f; text-decoration-color: #7f7f7f\">data_catalog.py</span></a><span style=\"color: #7f7f7f; text-decoration-color: #7f7f7f\">:</span><a href=\"file://C:\\Users\\crist\\OneDrive\\Desktop\\kedro-main\\.venv\\Lib\\site-packages\\kedro\\io\\data_catalog.py#539\" target=\"_blank\"><span style=\"color: #7f7f7f; text-decoration-color: #7f7f7f\">539</span></a>\n",
       "</pre>\n"
      ],
      "text/plain": [
       "\u001b[2;36m                   \u001b[0m\u001b[2;36m \u001b[0m\u001b[34mINFO    \u001b[0m Loading data from \u001b[38;5;208mproteinaC\u001b[0m \u001b[1m(\u001b[0mParquetDataset\u001b[1m)\u001b[0m\u001b[33m...\u001b[0m                    \u001b]8;id=178926;file://C:\\Users\\crist\\OneDrive\\Desktop\\kedro-main\\.venv\\Lib\\site-packages\\kedro\\io\\data_catalog.py\u001b\\\u001b[2mdata_catalog.py\u001b[0m\u001b]8;;\u001b\\\u001b[2m:\u001b[0m\u001b]8;id=51585;file://C:\\Users\\crist\\OneDrive\\Desktop\\kedro-main\\.venv\\Lib\\site-packages\\kedro\\io\\data_catalog.py#539\u001b\\\u001b[2m539\u001b[0m\u001b]8;;\u001b\\\n"
      ]
     },
     "metadata": {},
     "output_type": "display_data"
    }
   ],
   "source": [
    "demografia = catalog.load(\"demografia\")\n",
    "insulina = catalog.load(\"insulina\")\n",
    "colesterol = catalog.load(\"colesterol\")\n",
    "depresion = catalog.load(\"depresion\")\n",
    "proteinaC = catalog.load(\"proteinaC\")"
   ]
  },
  {
   "cell_type": "code",
   "execution_count": 26,
   "id": "84726537-5fb6-4fd2-bae5-ff0e8eb31676",
   "metadata": {
    "scrolled": true
   },
   "outputs": [
    {
     "name": "stdout",
     "output_type": "stream",
     "text": [
      "------------ Columna SEQN ------------\n",
      " count    15560.00\n",
      "mean    117042.50\n",
      "std       4491.93\n",
      "min     109263.00\n",
      "25%     113152.75\n",
      "50%     117042.50\n",
      "75%     120932.25\n",
      "max     124822.00\n",
      "Name: SEQN, dtype: float64\n",
      " ------------------------------------ \n",
      "\n",
      "------------ Columna SDDSRVYR ------------\n",
      " count   15560.00\n",
      "mean       66.00\n",
      "std         0.00\n",
      "min        66.00\n",
      "25%        66.00\n",
      "50%        66.00\n",
      "75%        66.00\n",
      "max        66.00\n",
      "Name: SDDSRVYR, dtype: float64\n",
      " ------------------------------------ \n",
      "\n",
      "------------ Columna RIDSTATR ------------\n",
      " count   15560.00\n",
      "mean        1.92\n",
      "std         0.27\n",
      "min         1.00\n",
      "25%         2.00\n",
      "50%         2.00\n",
      "75%         2.00\n",
      "max         2.00\n",
      "Name: RIDSTATR, dtype: float64\n",
      " ------------------------------------ \n",
      "\n",
      "------------ Columna RIAGENDR ------------\n",
      " count   15560.00\n",
      "mean        1.50\n",
      "std         0.50\n",
      "min         1.00\n",
      "25%         1.00\n",
      "50%         2.00\n",
      "75%         2.00\n",
      "max         2.00\n",
      "Name: RIAGENDR, dtype: float64\n",
      " ------------------------------------ \n",
      "\n",
      "------------ Columna RIDAGEYR ------------\n",
      " count   15560.00\n",
      "mean       33.74\n",
      "std        25.32\n",
      "min         0.00\n",
      "25%        10.00\n",
      "50%        30.00\n",
      "75%        56.00\n",
      "max        80.00\n",
      "Name: RIDAGEYR, dtype: float64\n",
      " ------------------------------------ \n",
      "\n",
      "------------ Columna RIDAGEMN ------------\n",
      " count   987.00\n",
      "mean     10.52\n",
      "std       7.08\n",
      "min       0.00\n",
      "25%       4.00\n",
      "50%      10.00\n",
      "75%      17.00\n",
      "max      24.00\n",
      "Name: RIDAGEMN, dtype: float64\n",
      " ------------------------------------ \n",
      "\n",
      "------------ Columna RIDRETH1 ------------\n",
      " count   15560.00\n",
      "mean        3.25\n",
      "std         1.22\n",
      "min         1.00\n",
      "25%         3.00\n",
      "50%         3.00\n",
      "75%         4.00\n",
      "max         5.00\n",
      "Name: RIDRETH1, dtype: float64\n",
      " ------------------------------------ \n",
      "\n",
      "------------ Columna RIDRETH3 ------------\n",
      " count   15560.00\n",
      "mean        3.49\n",
      "std         1.62\n",
      "min         1.00\n",
      "25%         3.00\n",
      "50%         3.00\n",
      "75%         4.00\n",
      "max         7.00\n",
      "Name: RIDRETH3, dtype: float64\n",
      " ------------------------------------ \n",
      "\n",
      "------------ Columna RIDEXMON ------------\n",
      " count   14300.00\n",
      "mean        1.47\n",
      "std         0.50\n",
      "min         1.00\n",
      "25%         1.00\n",
      "50%         1.00\n",
      "75%         2.00\n",
      "max         2.00\n",
      "Name: RIDEXMON, dtype: float64\n",
      " ------------------------------------ \n",
      "\n",
      "------------ Columna DMDBORN4 ------------\n",
      " count   15560.00\n",
      "mean        1.23\n",
      "std         1.73\n",
      "min         1.00\n",
      "25%         1.00\n",
      "50%         1.00\n",
      "75%         1.00\n",
      "max        99.00\n",
      "Name: DMDBORN4, dtype: float64\n",
      " ------------------------------------ \n",
      "\n",
      "------------ Columna DMDYRUSZ ------------\n",
      " count   3028.00\n",
      "mean       6.70\n",
      "std       18.53\n",
      "min        1.00\n",
      "25%        2.00\n",
      "50%        3.00\n",
      "75%        4.00\n",
      "max       99.00\n",
      "Name: DMDYRUSZ, dtype: float64\n",
      " ------------------------------------ \n",
      "\n",
      "------------ Columna DMDEDUC2 ------------\n",
      " count   9232.00\n",
      "mean       3.55\n",
      "std        1.21\n",
      "min        1.00\n",
      "25%        3.00\n",
      "50%        4.00\n",
      "75%        4.00\n",
      "max        9.00\n",
      "Name: DMDEDUC2, dtype: float64\n",
      " ------------------------------------ \n",
      "\n",
      "------------ Columna DMDMARTZ ------------\n",
      " count   9232.00\n",
      "mean       1.71\n",
      "std        2.76\n",
      "min        1.00\n",
      "25%        1.00\n",
      "50%        1.00\n",
      "75%        2.00\n",
      "max       99.00\n",
      "Name: DMDMARTZ, dtype: float64\n",
      " ------------------------------------ \n",
      "\n",
      "------------ Columna RIDEXPRG ------------\n",
      " count   1874.00\n",
      "mean       2.05\n",
      "std        0.38\n",
      "min        1.00\n",
      "25%        2.00\n",
      "50%        2.00\n",
      "75%        2.00\n",
      "max        3.00\n",
      "Name: RIDEXPRG, dtype: float64\n",
      " ------------------------------------ \n",
      "\n",
      "------------ Columna SIALANG ------------\n",
      " count   15560.00\n",
      "mean        1.10\n",
      "std         0.30\n",
      "min         1.00\n",
      "25%         1.00\n",
      "50%         1.00\n",
      "75%         1.00\n",
      "max         2.00\n",
      "Name: SIALANG, dtype: float64\n",
      " ------------------------------------ \n",
      "\n",
      "------------ Columna SIAPROXY ------------\n",
      " count   15560.00\n",
      "mean        1.65\n",
      "std         0.48\n",
      "min         1.00\n",
      "25%         1.00\n",
      "50%         2.00\n",
      "75%         2.00\n",
      "max         2.00\n",
      "Name: SIAPROXY, dtype: float64\n",
      " ------------------------------------ \n",
      "\n",
      "------------ Columna SIAINTRP ------------\n",
      " count   15560.00\n",
      "mean        1.97\n",
      "std         0.16\n",
      "min         1.00\n",
      "25%         2.00\n",
      "50%         2.00\n",
      "75%         2.00\n",
      "max         2.00\n",
      "Name: SIAINTRP, dtype: float64\n",
      " ------------------------------------ \n",
      "\n",
      "------------ Columna FIALANG ------------\n",
      " count   14481.00\n",
      "mean        1.09\n",
      "std         0.29\n",
      "min         1.00\n",
      "25%         1.00\n",
      "50%         1.00\n",
      "75%         1.00\n",
      "max         2.00\n",
      "Name: FIALANG, dtype: float64\n",
      " ------------------------------------ \n",
      "\n",
      "------------ Columna FIAPROXY ------------\n",
      " count   14481.00\n",
      "mean        2.00\n",
      "std         0.04\n",
      "min         1.00\n",
      "25%         2.00\n",
      "50%         2.00\n",
      "75%         2.00\n",
      "max         2.00\n",
      "Name: FIAPROXY, dtype: float64\n",
      " ------------------------------------ \n",
      "\n",
      "------------ Columna FIAINTRP ------------\n",
      " count   14481.00\n",
      "mean        1.98\n",
      "std         0.15\n",
      "min         1.00\n",
      "25%         2.00\n",
      "50%         2.00\n",
      "75%         2.00\n",
      "max         2.00\n",
      "Name: FIAINTRP, dtype: float64\n",
      " ------------------------------------ \n",
      "\n",
      "------------ Columna MIALANG ------------\n",
      " count   11000.00\n",
      "mean        1.07\n",
      "std         0.25\n",
      "min         1.00\n",
      "25%         1.00\n",
      "50%         1.00\n",
      "75%         1.00\n",
      "max         2.00\n",
      "Name: MIALANG, dtype: float64\n",
      " ------------------------------------ \n",
      "\n",
      "------------ Columna MIAPROXY ------------\n",
      " count   11000.00\n",
      "mean        1.99\n",
      "std         0.09\n",
      "min         1.00\n",
      "25%         2.00\n",
      "50%         2.00\n",
      "75%         2.00\n",
      "max         2.00\n",
      "Name: MIAPROXY, dtype: float64\n",
      " ------------------------------------ \n",
      "\n",
      "------------ Columna MIAINTRP ------------\n",
      " count   11000.00\n",
      "mean        1.98\n",
      "std         0.15\n",
      "min         1.00\n",
      "25%         2.00\n",
      "50%         2.00\n",
      "75%         2.00\n",
      "max         2.00\n",
      "Name: MIAINTRP, dtype: float64\n",
      " ------------------------------------ \n",
      "\n",
      "------------ Columna AIALANGA ------------\n",
      " count   8224.00\n",
      "mean       1.12\n",
      "std        0.36\n",
      "min        1.00\n",
      "25%        1.00\n",
      "50%        1.00\n",
      "75%        1.00\n",
      "max        3.00\n",
      "Name: AIALANGA, dtype: float64\n",
      " ------------------------------------ \n",
      "\n",
      "------------ Columna WTINTPRP ------------\n",
      " count    15560.00\n",
      "mean     20714.92\n",
      "std      25323.92\n",
      "min       1017.78\n",
      "25%       7435.54\n",
      "50%      12712.56\n",
      "75%      22761.14\n",
      "max     338363.60\n",
      "Name: WTINTPRP, dtype: float64\n",
      " ------------------------------------ \n",
      "\n",
      "------------ Columna WTMECPRP ------------\n",
      " count    15560.00\n",
      "mean     20714.92\n",
      "std      27114.91\n",
      "min          0.00\n",
      "25%       6762.82\n",
      "50%      12639.58\n",
      "75%      23308.39\n",
      "max     367555.74\n",
      "Name: WTMECPRP, dtype: float64\n",
      " ------------------------------------ \n",
      "\n",
      "------------ Columna SDMVPSU ------------\n",
      " count   15560.00\n",
      "mean        1.54\n",
      "std         0.54\n",
      "min         1.00\n",
      "25%         1.00\n",
      "50%         2.00\n",
      "75%         2.00\n",
      "max         3.00\n",
      "Name: SDMVPSU, dtype: float64\n",
      " ------------------------------------ \n",
      "\n",
      "------------ Columna SDMVSTRA ------------\n",
      " count   15560.00\n",
      "mean      160.27\n",
      "std         6.97\n",
      "min       149.00\n",
      "25%       155.00\n",
      "50%       160.00\n",
      "75%       166.00\n",
      "max       172.00\n",
      "Name: SDMVSTRA, dtype: float64\n",
      " ------------------------------------ \n",
      "\n",
      "------------ Columna INDFMPIR ------------\n",
      " count   13359.00\n",
      "mean        2.41\n",
      "std         1.63\n",
      "min         0.00\n",
      "25%         1.02\n",
      "50%         1.96\n",
      "75%         3.88\n",
      "max         5.00\n",
      "Name: INDFMPIR, dtype: float64\n",
      " ------------------------------------ \n",
      "\n"
     ]
    }
   ],
   "source": [
    "for columna in demografia.columns:\n",
    "    print(f\"------------ Columna {columna} ------------\\n {demografia[columna].describe()}\\n ------------------------------------ \\n\")"
   ]
  },
  {
   "cell_type": "code",
   "execution_count": 27,
   "id": "602e4df5-7c0d-44bc-b995-3098427c703d",
   "metadata": {
    "scrolled": true
   },
   "outputs": [
    {
     "name": "stdout",
     "output_type": "stream",
     "text": [
      "------------ Columna SEQN ------------\n",
      " count     5090.00\n",
      "mean    117177.33\n",
      "std       4487.34\n",
      "min     109264.00\n",
      "25%     113303.50\n",
      "50%     117265.50\n",
      "75%     121046.50\n",
      "max     124822.00\n",
      "Name: SEQN, dtype: float64\n",
      " ------------------------------------ \n",
      "\n",
      "------------ Columna WTSAFPRP ------------\n",
      " count     5090.00\n",
      "mean     53883.96\n",
      "std      68538.13\n",
      "min          0.00\n",
      "25%      17305.97\n",
      "50%      32845.10\n",
      "75%      62135.88\n",
      "max     741259.19\n",
      "Name: WTSAFPRP, dtype: float64\n",
      " ------------------------------------ \n",
      "\n",
      "------------ Columna LBXIN ------------\n",
      " count   4625.00\n",
      "mean      14.98\n",
      "std       22.85\n",
      "min        0.71\n",
      "25%        6.31\n",
      "50%       10.18\n",
      "75%       16.61\n",
      "max      512.50\n",
      "Name: LBXIN, dtype: float64\n",
      " ------------------------------------ \n",
      "\n",
      "------------ Columna LBDINSI ------------\n",
      " count   4625.00\n",
      "mean      89.85\n",
      "std      137.07\n",
      "min        4.26\n",
      "25%       37.86\n",
      "50%       61.08\n",
      "75%       99.66\n",
      "max     3075.00\n",
      "Name: LBDINSI, dtype: float64\n",
      " ------------------------------------ \n",
      "\n",
      "------------ Columna LBDINLC ------------\n",
      " count   4625.00\n",
      "mean       0.00\n",
      "std        0.04\n",
      "min        0.00\n",
      "25%        0.00\n",
      "50%        0.00\n",
      "75%        0.00\n",
      "max        1.00\n",
      "Name: LBDINLC, dtype: float64\n",
      " ------------------------------------ \n",
      "\n"
     ]
    }
   ],
   "source": [
    "for columna in insulina.columns:\n",
    "    print(f\"------------ Columna {columna} ------------\\n {insulina[columna].describe()}\\n ------------------------------------ \\n\")"
   ]
  },
  {
   "cell_type": "code",
   "execution_count": 28,
   "id": "4198079a-589a-4327-81f5-7c1f24999431",
   "metadata": {},
   "outputs": [
    {
     "name": "stdout",
     "output_type": "stream",
     "text": [
      "------------ Columna SEQN ------------\n",
      " count    12198.00\n",
      "mean    117082.95\n",
      "std       4498.67\n",
      "min     109264.00\n",
      "25%     113178.25\n",
      "50%     117098.50\n",
      "75%     120994.75\n",
      "max     124822.00\n",
      "Name: SEQN, dtype: float64\n",
      " ------------------------------------ \n",
      "\n",
      "------------ Columna LBXTC ------------\n",
      " count   10828.00\n",
      "mean      177.46\n",
      "std        40.36\n",
      "min        71.00\n",
      "25%       149.00\n",
      "50%       173.00\n",
      "75%       201.00\n",
      "max       446.00\n",
      "Name: LBXTC, dtype: float64\n",
      " ------------------------------------ \n",
      "\n",
      "------------ Columna LBDTCSI ------------\n",
      " count   10828.00\n",
      "mean        4.59\n",
      "std         1.04\n",
      "min         1.84\n",
      "25%         3.85\n",
      "50%         4.47\n",
      "75%         5.20\n",
      "max        11.53\n",
      "Name: LBDTCSI, dtype: float64\n",
      " ------------------------------------ \n",
      "\n"
     ]
    }
   ],
   "source": [
    "for columna in colesterol.columns:\n",
    "    print(f\"------------ Columna {columna} ------------\\n {colesterol[columna].describe()}\\n ------------------------------------ \\n\")"
   ]
  },
  {
   "cell_type": "code",
   "execution_count": 29,
   "id": "a2ff8c60-c0dd-455f-8565-52f9907f6dc4",
   "metadata": {},
   "outputs": [
    {
     "name": "stdout",
     "output_type": "stream",
     "text": [
      "------------ Columna SEQN ------------\n",
      " count     8965.00\n",
      "mean    117107.85\n",
      "std       4501.05\n",
      "min     109266.00\n",
      "25%     113211.00\n",
      "50%     117091.00\n",
      "75%     121022.00\n",
      "max     124822.00\n",
      "Name: SEQN, dtype: float64\n",
      " ------------------------------------ \n",
      "\n",
      "------------ Columna DPQ010 ------------\n",
      " count   8308.00\n",
      "mean       0.40\n",
      "std        0.80\n",
      "min        0.00\n",
      "25%        0.00\n",
      "50%        0.00\n",
      "75%        1.00\n",
      "max        9.00\n",
      "Name: DPQ010, dtype: float64\n",
      " ------------------------------------ \n",
      "\n",
      "------------ Columna DPQ020 ------------\n",
      " count   8306.00\n",
      "mean       0.37\n",
      "std        0.76\n",
      "min        0.00\n",
      "25%        0.00\n",
      "50%        0.00\n",
      "75%        1.00\n",
      "max        9.00\n",
      "Name: DPQ020, dtype: float64\n",
      " ------------------------------------ \n",
      "\n",
      "------------ Columna DPQ030 ------------\n",
      " count   8306.00\n",
      "mean       0.66\n",
      "std        0.99\n",
      "min        0.00\n",
      "25%        0.00\n",
      "50%        0.00\n",
      "75%        1.00\n",
      "max        9.00\n",
      "Name: DPQ030, dtype: float64\n",
      " ------------------------------------ \n",
      "\n",
      "------------ Columna DPQ040 ------------\n",
      " count   8305.00\n",
      "mean       0.76\n",
      "std        0.96\n",
      "min        0.00\n",
      "25%        0.00\n",
      "50%        0.00\n",
      "75%        1.00\n",
      "max        9.00\n",
      "Name: DPQ040, dtype: float64\n",
      " ------------------------------------ \n",
      "\n",
      "------------ Columna DPQ050 ------------\n",
      " count   8305.00\n",
      "mean       0.41\n",
      "std        0.82\n",
      "min        0.00\n",
      "25%        0.00\n",
      "50%        0.00\n",
      "75%        1.00\n",
      "max        9.00\n",
      "Name: DPQ050, dtype: float64\n",
      " ------------------------------------ \n",
      "\n",
      "------------ Columna DPQ060 ------------\n",
      " count   8304.00\n",
      "mean       0.26\n",
      "std        0.68\n",
      "min        0.00\n",
      "25%        0.00\n",
      "50%        0.00\n",
      "75%        0.00\n",
      "max        9.00\n",
      "Name: DPQ060, dtype: float64\n",
      " ------------------------------------ \n",
      "\n",
      "------------ Columna DPQ070 ------------\n",
      " count   8304.00\n",
      "mean       0.28\n",
      "std        0.71\n",
      "min        0.00\n",
      "25%        0.00\n",
      "50%        0.00\n",
      "75%        0.00\n",
      "max        9.00\n",
      "Name: DPQ070, dtype: float64\n",
      " ------------------------------------ \n",
      "\n",
      "------------ Columna DPQ080 ------------\n",
      " count   8304.00\n",
      "mean       0.17\n",
      "std        0.59\n",
      "min        0.00\n",
      "25%        0.00\n",
      "50%        0.00\n",
      "75%        0.00\n",
      "max        9.00\n",
      "Name: DPQ080, dtype: float64\n",
      " ------------------------------------ \n",
      "\n",
      "------------ Columna DPQ090 ------------\n",
      " count   8302.00\n",
      "mean       0.06\n",
      "std        0.37\n",
      "min        0.00\n",
      "25%        0.00\n",
      "50%        0.00\n",
      "75%        0.00\n",
      "max        9.00\n",
      "Name: DPQ090, dtype: float64\n",
      " ------------------------------------ \n",
      "\n",
      "------------ Columna DPQ100 ------------\n",
      " count   5540.00\n",
      "mean       0.33\n",
      "std        0.66\n",
      "min        0.00\n",
      "25%        0.00\n",
      "50%        0.00\n",
      "75%        1.00\n",
      "max        9.00\n",
      "Name: DPQ100, dtype: float64\n",
      " ------------------------------------ \n",
      "\n"
     ]
    }
   ],
   "source": [
    "for columna in depresion.columns:\n",
    "    print(f\"------------ Columna {columna} ------------\\n {depresion[columna].describe()}\\n ------------------------------------ \\n\")"
   ]
  },
  {
   "cell_type": "code",
   "execution_count": 30,
   "id": "24aede02-ad8f-4d52-827b-58a578c5a45e",
   "metadata": {},
   "outputs": [
    {
     "name": "stdout",
     "output_type": "stream",
     "text": [
      "------------ Columna SEQN ------------\n",
      " count    13772.00\n",
      "mean    117079.86\n",
      "std       4498.55\n",
      "min     109263.00\n",
      "25%     113184.75\n",
      "50%     117104.50\n",
      "75%     120981.25\n",
      "max     124822.00\n",
      "Name: SEQN, dtype: float64\n",
      " ------------------------------------ \n",
      "\n",
      "------------ Columna LBXHSCRP ------------\n",
      " count   11614.00\n",
      "mean        3.42\n",
      "std         7.79\n",
      "min         0.11\n",
      "25%         0.52\n",
      "50%         1.32\n",
      "75%         3.62\n",
      "max       246.86\n",
      "Name: LBXHSCRP, dtype: float64\n",
      " ------------------------------------ \n",
      "\n",
      "------------ Columna LBDHRPLC ------------\n",
      " count   11614.00\n",
      "mean        0.03\n",
      "std         0.18\n",
      "min         0.00\n",
      "25%         0.00\n",
      "50%         0.00\n",
      "75%         0.00\n",
      "max         1.00\n",
      "Name: LBDHRPLC, dtype: float64\n",
      " ------------------------------------ \n",
      "\n"
     ]
    }
   ],
   "source": [
    "for columna in proteinaC.columns:\n",
    "    print(f\"------------ Columna {columna} ------------\\n {proteinaC[columna].describe()}\\n ------------------------------------ \\n\")"
   ]
  },
  {
   "cell_type": "code",
   "execution_count": 31,
   "id": "b5f42494-317a-4ba8-8452-8568491b20a1",
   "metadata": {},
   "outputs": [
    {
     "data": {
      "text/html": [
       "<pre style=\"white-space:pre;overflow-x:auto;line-height:normal;font-family:Menlo,'DejaVu Sans Mono',consolas,'Courier New',monospace\"></pre>\n"
      ],
      "text/plain": []
     },
     "metadata": {},
     "output_type": "display_data"
    },
    {
     "data": {
      "text/plain": [
       "\n",
       "\u001b[1;35mIndex\u001b[0m\u001b[1m(\u001b[0m\u001b[1m[\u001b[0m\u001b[32m'SEQN'\u001b[0m, \u001b[32m'SDDSRVYR'\u001b[0m, \u001b[32m'RIDSTATR'\u001b[0m, \u001b[32m'RIAGENDR'\u001b[0m, \u001b[32m'RIDAGEYR'\u001b[0m, \u001b[32m'RIDAGEMN'\u001b[0m,\n",
       "       \u001b[32m'RIDRETH1'\u001b[0m, \u001b[32m'RIDRETH3'\u001b[0m, \u001b[32m'RIDEXMON'\u001b[0m, \u001b[32m'DMDBORN4'\u001b[0m, \u001b[32m'DMDYRUSZ'\u001b[0m, \u001b[32m'DMDEDUC2'\u001b[0m,\n",
       "       \u001b[32m'DMDMARTZ'\u001b[0m, \u001b[32m'RIDEXPRG'\u001b[0m, \u001b[32m'SIALANG'\u001b[0m, \u001b[32m'SIAPROXY'\u001b[0m, \u001b[32m'SIAINTRP'\u001b[0m, \u001b[32m'FIALANG'\u001b[0m,\n",
       "       \u001b[32m'FIAPROXY'\u001b[0m, \u001b[32m'FIAINTRP'\u001b[0m, \u001b[32m'MIALANG'\u001b[0m, \u001b[32m'MIAPROXY'\u001b[0m, \u001b[32m'MIAINTRP'\u001b[0m, \u001b[32m'AIALANGA'\u001b[0m,\n",
       "       \u001b[32m'WTINTPRP'\u001b[0m, \u001b[32m'WTMECPRP'\u001b[0m, \u001b[32m'SDMVPSU'\u001b[0m, \u001b[32m'SDMVSTRA'\u001b[0m, \u001b[32m'INDFMPIR'\u001b[0m\u001b[1m]\u001b[0m,\n",
       "      \u001b[33mdtype\u001b[0m=\u001b[32m'object'\u001b[0m\u001b[1m)\u001b[0m"
      ]
     },
     "execution_count": 31,
     "metadata": {},
     "output_type": "execute_result"
    }
   ],
   "source": [
    "demografia.columns"
   ]
  },
  {
   "cell_type": "code",
   "execution_count": 70,
   "id": "d46dd7ee-9f19-45ae-8460-723342c20094",
   "metadata": {},
   "outputs": [],
   "source": [
    "consideracion = pd.DataFrame()\n",
    "consideracion[\"ID\"] = demografia[\"SEQN\"]\n",
    "consideracion[\"Edad\"] = demografia[\"RIDAGEYR\"]\n",
    "consideracion[\"Genero\"] = demografia[\"RIAGENDR\"] #1 = hombre; 2= mujer\n",
    "consideracion[\"Raza\"] = demografia[\"RIDRETH3\"] # 1 = mexico; 2 = otro hispano; 3 = Blanco; 4= negro; 6= asiatico; 7 = otro\n",
    "consideracion[\"Educacion\"] = demografia[\"DMDEDUC2\"] #ver nhanes\n",
    "consideracion[\"EstadoCivil\"] = demografia[\"DMDMARTZ\"]\n",
    "consideracion[\"NivelPobreza\"] = demografia[\"INDFMPIR\"]"
   ]
  },
  {
   "cell_type": "code",
   "execution_count": 33,
   "id": "106c5e5d-05c4-4f0a-9a16-48552b1ff7d0",
   "metadata": {},
   "outputs": [
    {
     "data": {
      "text/html": [
       "<pre style=\"white-space:pre;overflow-x:auto;line-height:normal;font-family:Menlo,'DejaVu Sans Mono',consolas,'Courier New',monospace\"></pre>\n"
      ],
      "text/plain": []
     },
     "metadata": {},
     "output_type": "display_data"
    },
    {
     "data": {
      "text/html": [
       "<div>\n",
       "<style scoped>\n",
       "    .dataframe tbody tr th:only-of-type {\n",
       "        vertical-align: middle;\n",
       "    }\n",
       "\n",
       "    .dataframe tbody tr th {\n",
       "        vertical-align: top;\n",
       "    }\n",
       "\n",
       "    .dataframe thead th {\n",
       "        text-align: right;\n",
       "    }\n",
       "</style>\n",
       "<table border=\"1\" class=\"dataframe\">\n",
       "  <thead>\n",
       "    <tr style=\"text-align: right;\">\n",
       "      <th></th>\n",
       "      <th>ID</th>\n",
       "      <th>Edad</th>\n",
       "      <th>Genero</th>\n",
       "      <th>Raza</th>\n",
       "      <th>Educacion</th>\n",
       "      <th>EstadoCivil</th>\n",
       "      <th>NivelPobreza</th>\n",
       "    </tr>\n",
       "  </thead>\n",
       "  <tbody>\n",
       "    <tr>\n",
       "      <th>1</th>\n",
       "      <td>109264.00</td>\n",
       "      <td>13.00</td>\n",
       "      <td>2.00</td>\n",
       "      <td>1.00</td>\n",
       "      <td>NaN</td>\n",
       "      <td>NaN</td>\n",
       "      <td>0.83</td>\n",
       "    </tr>\n",
       "    <tr>\n",
       "      <th>6</th>\n",
       "      <td>109269.00</td>\n",
       "      <td>2.00</td>\n",
       "      <td>1.00</td>\n",
       "      <td>2.00</td>\n",
       "      <td>NaN</td>\n",
       "      <td>NaN</td>\n",
       "      <td>0.96</td>\n",
       "    </tr>\n",
       "    <tr>\n",
       "      <th>9</th>\n",
       "      <td>109272.00</td>\n",
       "      <td>0.00</td>\n",
       "      <td>1.00</td>\n",
       "      <td>1.00</td>\n",
       "      <td>NaN</td>\n",
       "      <td>NaN</td>\n",
       "      <td>0.73</td>\n",
       "    </tr>\n",
       "    <tr>\n",
       "      <th>10</th>\n",
       "      <td>109273.00</td>\n",
       "      <td>36.00</td>\n",
       "      <td>1.00</td>\n",
       "      <td>3.00</td>\n",
       "      <td>4.00</td>\n",
       "      <td>3.00</td>\n",
       "      <td>0.83</td>\n",
       "    </tr>\n",
       "    <tr>\n",
       "      <th>13</th>\n",
       "      <td>109276.00</td>\n",
       "      <td>0.00</td>\n",
       "      <td>1.00</td>\n",
       "      <td>4.00</td>\n",
       "      <td>NaN</td>\n",
       "      <td>NaN</td>\n",
       "      <td>0.00</td>\n",
       "    </tr>\n",
       "    <tr>\n",
       "      <th>...</th>\n",
       "      <td>...</td>\n",
       "      <td>...</td>\n",
       "      <td>...</td>\n",
       "      <td>...</td>\n",
       "      <td>...</td>\n",
       "      <td>...</td>\n",
       "      <td>...</td>\n",
       "    </tr>\n",
       "    <tr>\n",
       "      <th>15524</th>\n",
       "      <td>124787.00</td>\n",
       "      <td>19.00</td>\n",
       "      <td>2.00</td>\n",
       "      <td>4.00</td>\n",
       "      <td>NaN</td>\n",
       "      <td>NaN</td>\n",
       "      <td>0.80</td>\n",
       "    </tr>\n",
       "    <tr>\n",
       "      <th>15529</th>\n",
       "      <td>124792.00</td>\n",
       "      <td>32.00</td>\n",
       "      <td>1.00</td>\n",
       "      <td>2.00</td>\n",
       "      <td>5.00</td>\n",
       "      <td>3.00</td>\n",
       "      <td>0.00</td>\n",
       "    </tr>\n",
       "    <tr>\n",
       "      <th>15535</th>\n",
       "      <td>124798.00</td>\n",
       "      <td>55.00</td>\n",
       "      <td>1.00</td>\n",
       "      <td>2.00</td>\n",
       "      <td>1.00</td>\n",
       "      <td>3.00</td>\n",
       "      <td>0.80</td>\n",
       "    </tr>\n",
       "    <tr>\n",
       "      <th>15543</th>\n",
       "      <td>124806.00</td>\n",
       "      <td>4.00</td>\n",
       "      <td>2.00</td>\n",
       "      <td>4.00</td>\n",
       "      <td>NaN</td>\n",
       "      <td>NaN</td>\n",
       "      <td>0.38</td>\n",
       "    </tr>\n",
       "    <tr>\n",
       "      <th>15556</th>\n",
       "      <td>124819.00</td>\n",
       "      <td>2.00</td>\n",
       "      <td>1.00</td>\n",
       "      <td>4.00</td>\n",
       "      <td>NaN</td>\n",
       "      <td>NaN</td>\n",
       "      <td>0.07</td>\n",
       "    </tr>\n",
       "  </tbody>\n",
       "</table>\n",
       "<p>3226 rows × 7 columns</p>\n",
       "</div>"
      ],
      "text/plain": [
       "\n",
       "             ID  Edad  Genero  Raza  Educacion  EstadoCivil  NivelPobreza\n",
       "\u001b[1;36m1\u001b[0m     \u001b[1;36m109264.00\u001b[0m \u001b[1;36m13.00\u001b[0m    \u001b[1;36m2.00\u001b[0m  \u001b[1;36m1.00\u001b[0m        NaN          NaN          \u001b[1;36m0.83\u001b[0m\n",
       "\u001b[1;36m6\u001b[0m     \u001b[1;36m109269.00\u001b[0m  \u001b[1;36m2.00\u001b[0m    \u001b[1;36m1.00\u001b[0m  \u001b[1;36m2.00\u001b[0m        NaN          NaN          \u001b[1;36m0.96\u001b[0m\n",
       "\u001b[1;36m9\u001b[0m     \u001b[1;36m109272.00\u001b[0m  \u001b[1;36m0.00\u001b[0m    \u001b[1;36m1.00\u001b[0m  \u001b[1;36m1.00\u001b[0m        NaN          NaN          \u001b[1;36m0.73\u001b[0m\n",
       "\u001b[1;36m10\u001b[0m    \u001b[1;36m109273.00\u001b[0m \u001b[1;36m36.00\u001b[0m    \u001b[1;36m1.00\u001b[0m  \u001b[1;36m3.00\u001b[0m       \u001b[1;36m4.00\u001b[0m         \u001b[1;36m3.00\u001b[0m          \u001b[1;36m0.83\u001b[0m\n",
       "\u001b[1;36m13\u001b[0m    \u001b[1;36m109276.00\u001b[0m  \u001b[1;36m0.00\u001b[0m    \u001b[1;36m1.00\u001b[0m  \u001b[1;36m4.00\u001b[0m        NaN          NaN          \u001b[1;36m0.00\u001b[0m\n",
       "\u001b[33m...\u001b[0m         \u001b[33m...\u001b[0m   \u001b[33m...\u001b[0m     \u001b[33m...\u001b[0m   \u001b[33m...\u001b[0m        \u001b[33m...\u001b[0m          \u001b[33m...\u001b[0m           \u001b[33m...\u001b[0m\n",
       "\u001b[1;36m15524\u001b[0m \u001b[1;36m124787.00\u001b[0m \u001b[1;36m19.00\u001b[0m    \u001b[1;36m2.00\u001b[0m  \u001b[1;36m4.00\u001b[0m        NaN          NaN          \u001b[1;36m0.80\u001b[0m\n",
       "\u001b[1;36m15529\u001b[0m \u001b[1;36m124792.00\u001b[0m \u001b[1;36m32.00\u001b[0m    \u001b[1;36m1.00\u001b[0m  \u001b[1;36m2.00\u001b[0m       \u001b[1;36m5.00\u001b[0m         \u001b[1;36m3.00\u001b[0m          \u001b[1;36m0.00\u001b[0m\n",
       "\u001b[1;36m15535\u001b[0m \u001b[1;36m124798.00\u001b[0m \u001b[1;36m55.00\u001b[0m    \u001b[1;36m1.00\u001b[0m  \u001b[1;36m2.00\u001b[0m       \u001b[1;36m1.00\u001b[0m         \u001b[1;36m3.00\u001b[0m          \u001b[1;36m0.80\u001b[0m\n",
       "\u001b[1;36m15543\u001b[0m \u001b[1;36m124806.00\u001b[0m  \u001b[1;36m4.00\u001b[0m    \u001b[1;36m2.00\u001b[0m  \u001b[1;36m4.00\u001b[0m        NaN          NaN          \u001b[1;36m0.38\u001b[0m\n",
       "\u001b[1;36m15556\u001b[0m \u001b[1;36m124819.00\u001b[0m  \u001b[1;36m2.00\u001b[0m    \u001b[1;36m1.00\u001b[0m  \u001b[1;36m4.00\u001b[0m        NaN          NaN          \u001b[1;36m0.07\u001b[0m\n",
       "\n",
       "\u001b[1m[\u001b[0m\u001b[1;36m3226\u001b[0m rows x \u001b[1;36m7\u001b[0m columns\u001b[1m]\u001b[0m"
      ]
     },
     "execution_count": 33,
     "metadata": {},
     "output_type": "execute_result"
    }
   ],
   "source": [
    "pd.options.display.float_format = '{:.2f}'.format\n",
    "consideracion[consideracion[\"NivelPobreza\"]<1]"
   ]
  },
  {
   "cell_type": "code",
   "execution_count": 34,
   "id": "6ee8d02e-4fdf-407e-924e-c1d32730561e",
   "metadata": {},
   "outputs": [
    {
     "name": "stdout",
     "output_type": "stream",
     "text": [
      "Columna ID tiene 0 NaN\n",
      "Columna Edad tiene 0 NaN\n",
      "Columna Genero tiene 0 NaN\n",
      "Columna Raza tiene 0 NaN\n",
      "Columna Educacion tiene 6328 NaN\n",
      "Columna EstadoCivil tiene 6328 NaN\n",
      "Columna NivelPobreza tiene 2201 NaN\n"
     ]
    }
   ],
   "source": [
    "for columna in consideracion.columns:\n",
    "    print(f\"Columna {columna} tiene {consideracion[columna].isna().sum()} NaN\")"
   ]
  },
  {
   "cell_type": "code",
   "execution_count": 71,
   "id": "15b75cc0-7c46-4f64-8a90-4a8810269170",
   "metadata": {},
   "outputs": [],
   "source": [
    "consideracion.loc[consideracion[\"Edad\"] <= 13, \"Educacion\"] = consideracion.loc[consideracion[\"Edad\"] <= 13, \"Educacion\"].fillna(1)\n",
    "consideracion.loc[consideracion[\"Edad\"] <= 18, \"Educacion\"] = consideracion.loc[consideracion[\"Edad\"] <= 18, \"Educacion\"].fillna(2)\n",
    "consideracion.loc[consideracion[\"Edad\"] <= 18, \"EstadoCivil\"] = consideracion.loc[consideracion[\"Edad\"] <= 18, \"EstadoCivil\"].fillna(3)"
   ]
  },
  {
   "cell_type": "code",
   "execution_count": 72,
   "id": "5e0fa9be-94d3-4530-a596-d95657444bc1",
   "metadata": {},
   "outputs": [
    {
     "data": {
      "text/html": [
       "<pre style=\"white-space:pre;overflow-x:auto;line-height:normal;font-family:Menlo,'DejaVu Sans Mono',consolas,'Courier New',monospace\"></pre>\n"
      ],
      "text/plain": []
     },
     "metadata": {},
     "output_type": "display_data"
    },
    {
     "data": {
      "text/plain": [
       "\n",
       "ID              \u001b[1;36m15560\u001b[0m\n",
       "Edad            \u001b[1;36m15560\u001b[0m\n",
       "Genero          \u001b[1;36m15560\u001b[0m\n",
       "Raza            \u001b[1;36m15560\u001b[0m\n",
       "Educacion       \u001b[1;36m15333\u001b[0m\n",
       "EstadoCivil     \u001b[1;36m15333\u001b[0m\n",
       "NivelPobreza    \u001b[1;36m13359\u001b[0m\n",
       "dtype: int64"
      ]
     },
     "execution_count": 72,
     "metadata": {},
     "output_type": "execute_result"
    }
   ],
   "source": [
    "consideracion.count()"
   ]
  },
  {
   "cell_type": "code",
   "execution_count": 64,
   "id": "29d69149-0960-4468-a233-ea546818452f",
   "metadata": {},
   "outputs": [
    {
     "data": {
      "text/html": [
       "<pre style=\"white-space:pre;overflow-x:auto;line-height:normal;font-family:Menlo,'DejaVu Sans Mono',consolas,'Courier New',monospace\"></pre>\n"
      ],
      "text/plain": []
     },
     "metadata": {},
     "output_type": "display_data"
    },
    {
     "data": {
      "text/plain": [
       "\n",
       "ID                 \u001b[1;36m0\u001b[0m\n",
       "Edad               \u001b[1;36m0\u001b[0m\n",
       "Genero             \u001b[1;36m0\u001b[0m\n",
       "Raza               \u001b[1;36m0\u001b[0m\n",
       "Educacion        \u001b[1;36m227\u001b[0m\n",
       "EstadoCivil      \u001b[1;36m227\u001b[0m\n",
       "NivelPobreza    \u001b[1;36m2201\u001b[0m\n",
       "dtype: int64"
      ]
     },
     "execution_count": 64,
     "metadata": {},
     "output_type": "execute_result"
    }
   ],
   "source": [
    "consideracion.isna().sum()"
   ]
  },
  {
   "cell_type": "code",
   "execution_count": 68,
   "id": "3cb0ca4e-076d-4585-9d33-6cf6a20938f6",
   "metadata": {},
   "outputs": [],
   "source": [
    "#consideracion = consideracion.dropna()"
   ]
  },
  {
   "cell_type": "code",
   "execution_count": 36,
   "id": "a9e50a48-cf44-4fb3-93b2-c28da508c997",
   "metadata": {},
   "outputs": [
    {
     "data": {
      "text/html": [
       "<pre style=\"white-space:pre;overflow-x:auto;line-height:normal;font-family:Menlo,'DejaVu Sans Mono',consolas,'Courier New',monospace\"><span style=\"color: #800000; text-decoration-color: #800000\">╭─────────────────────────────── </span><span style=\"color: #800000; text-decoration-color: #800000; font-weight: bold\">Traceback </span><span style=\"color: #bf7f7f; text-decoration-color: #bf7f7f; font-weight: bold\">(most recent call last)</span><span style=\"color: #800000; text-decoration-color: #800000\"> ────────────────────────────────╮</span>\n",
       "<span style=\"color: #800000; text-decoration-color: #800000\">│</span> <span style=\"color: #808000; text-decoration-color: #808000\">C:\\Users\\crist\\OneDrive\\Desktop\\kedro-main\\.venv\\Lib\\site-packages\\pandas\\core\\indexes\\base.py</span>:<span style=\"color: #0000ff; text-decoration-color: #0000ff\">3</span> <span style=\"color: #800000; text-decoration-color: #800000\">│</span>\n",
       "<span style=\"color: #800000; text-decoration-color: #800000\">│</span> <span style=\"color: #0000ff; text-decoration-color: #0000ff\">805</span> in <span style=\"color: #00ff00; text-decoration-color: #00ff00\">get_loc</span>                                                                                   <span style=\"color: #800000; text-decoration-color: #800000\">│</span>\n",
       "<span style=\"color: #800000; text-decoration-color: #800000\">│</span>                                                                                                  <span style=\"color: #800000; text-decoration-color: #800000\">│</span>\n",
       "<span style=\"color: #800000; text-decoration-color: #800000\">│</span>   <span style=\"color: #7f7f7f; text-decoration-color: #7f7f7f\">3802 </span><span style=\"color: #bfbf7f; text-decoration-color: #bfbf7f\">│   │   </span><span style=\"color: #808000; text-decoration-color: #808000\">\"\"\"</span>                                                                               <span style=\"color: #800000; text-decoration-color: #800000\">│</span>\n",
       "<span style=\"color: #800000; text-decoration-color: #800000\">│</span>   <span style=\"color: #7f7f7f; text-decoration-color: #7f7f7f\">3803 </span><span style=\"color: #7f7f7f; text-decoration-color: #7f7f7f\">│   │   </span>casted_key = <span style=\"color: #00ffff; text-decoration-color: #00ffff\">self</span>._maybe_cast_indexer(key)                                        <span style=\"color: #800000; text-decoration-color: #800000\">│</span>\n",
       "<span style=\"color: #800000; text-decoration-color: #800000\">│</span>   <span style=\"color: #7f7f7f; text-decoration-color: #7f7f7f\">3804 </span><span style=\"color: #7f7f7f; text-decoration-color: #7f7f7f\">│   │   </span><span style=\"color: #0000ff; text-decoration-color: #0000ff\">try</span>:                                                                              <span style=\"color: #800000; text-decoration-color: #800000\">│</span>\n",
       "<span style=\"color: #800000; text-decoration-color: #800000\">│</span> <span style=\"color: #800000; text-decoration-color: #800000\">❱ </span>3805 <span style=\"color: #7f7f7f; text-decoration-color: #7f7f7f\">│   │   │   </span><span style=\"color: #0000ff; text-decoration-color: #0000ff\">return</span> <span style=\"color: #00ffff; text-decoration-color: #00ffff\">self</span>._engine.get_loc(casted_key)                                       <span style=\"color: #800000; text-decoration-color: #800000\">│</span>\n",
       "<span style=\"color: #800000; text-decoration-color: #800000\">│</span>   <span style=\"color: #7f7f7f; text-decoration-color: #7f7f7f\">3806 </span><span style=\"color: #7f7f7f; text-decoration-color: #7f7f7f\">│   │   </span><span style=\"color: #0000ff; text-decoration-color: #0000ff\">except</span> <span style=\"color: #00ffff; text-decoration-color: #00ffff\">KeyError</span> <span style=\"color: #0000ff; text-decoration-color: #0000ff\">as</span> err:                                                           <span style=\"color: #800000; text-decoration-color: #800000\">│</span>\n",
       "<span style=\"color: #800000; text-decoration-color: #800000\">│</span>   <span style=\"color: #7f7f7f; text-decoration-color: #7f7f7f\">3807 </span><span style=\"color: #7f7f7f; text-decoration-color: #7f7f7f\">│   │   │   </span><span style=\"color: #0000ff; text-decoration-color: #0000ff\">if</span> <span style=\"color: #00ffff; text-decoration-color: #00ffff\">isinstance</span>(casted_key, <span style=\"color: #00ffff; text-decoration-color: #00ffff\">slice</span>) <span style=\"color: #ff00ff; text-decoration-color: #ff00ff\">or</span> (                                         <span style=\"color: #800000; text-decoration-color: #800000\">│</span>\n",
       "<span style=\"color: #800000; text-decoration-color: #800000\">│</span>   <span style=\"color: #7f7f7f; text-decoration-color: #7f7f7f\">3808 </span><span style=\"color: #7f7f7f; text-decoration-color: #7f7f7f\">│   │   │   │   </span><span style=\"color: #00ffff; text-decoration-color: #00ffff\">isinstance</span>(casted_key, abc.Iterable)                                      <span style=\"color: #800000; text-decoration-color: #800000\">│</span>\n",
       "<span style=\"color: #800000; text-decoration-color: #800000\">│</span>                                                                                                  <span style=\"color: #800000; text-decoration-color: #800000\">│</span>\n",
       "<span style=\"color: #800000; text-decoration-color: #800000\">│</span> in <span style=\"color: #00ff00; text-decoration-color: #00ff00\">pandas._libs.index.IndexEngine.get_loc</span>:<span style=\"color: #0000ff; text-decoration-color: #0000ff\">167</span>                                                    <span style=\"color: #800000; text-decoration-color: #800000\">│</span>\n",
       "<span style=\"color: #800000; text-decoration-color: #800000\">│</span>                                                                                                  <span style=\"color: #800000; text-decoration-color: #800000\">│</span>\n",
       "<span style=\"color: #800000; text-decoration-color: #800000\">│</span> in <span style=\"color: #00ff00; text-decoration-color: #00ff00\">pandas._libs.index.IndexEngine.get_loc</span>:<span style=\"color: #0000ff; text-decoration-color: #0000ff\">175</span>                                                    <span style=\"color: #800000; text-decoration-color: #800000\">│</span>\n",
       "<span style=\"color: #800000; text-decoration-color: #800000\">│</span>                                                                                                  <span style=\"color: #800000; text-decoration-color: #800000\">│</span>\n",
       "<span style=\"color: #800000; text-decoration-color: #800000\">│</span> in <span style=\"color: #00ff00; text-decoration-color: #00ff00\">pandas._libs.index.Int64Engine._check_type</span>:<span style=\"color: #0000ff; text-decoration-color: #0000ff\">70</span>                                                 <span style=\"color: #800000; text-decoration-color: #800000\">│</span>\n",
       "<span style=\"color: #800000; text-decoration-color: #800000\">╰──────────────────────────────────────────────────────────────────────────────────────────────────╯</span>\n",
       "<span style=\"color: #ff0000; text-decoration-color: #ff0000; font-weight: bold\">KeyError: </span><span style=\"color: #008000; text-decoration-color: #008000\">'Educacion'</span>\n",
       "\n",
       "<span style=\"font-style: italic\">The above exception was the direct cause of the following exception:</span>\n",
       "\n",
       "<span style=\"color: #800000; text-decoration-color: #800000\">╭─────────────────────────────── </span><span style=\"color: #800000; text-decoration-color: #800000; font-weight: bold\">Traceback </span><span style=\"color: #bf7f7f; text-decoration-color: #bf7f7f; font-weight: bold\">(most recent call last)</span><span style=\"color: #800000; text-decoration-color: #800000\"> ────────────────────────────────╮</span>\n",
       "<span style=\"color: #800000; text-decoration-color: #800000\">│</span> in <span style=\"color: #00ff00; text-decoration-color: #00ff00\">&lt;module&gt;</span>:<span style=\"color: #0000ff; text-decoration-color: #0000ff\">1</span>                                                                                    <span style=\"color: #800000; text-decoration-color: #800000\">│</span>\n",
       "<span style=\"color: #800000; text-decoration-color: #800000\">│</span>                                                                                                  <span style=\"color: #800000; text-decoration-color: #800000\">│</span>\n",
       "<span style=\"color: #800000; text-decoration-color: #800000\">│</span> <span style=\"color: #800000; text-decoration-color: #800000\">❱ </span>1 consideracion[<span style=\"color: #808000; text-decoration-color: #808000\">\"Educacion\"</span>].isna().sum()                                                      <span style=\"color: #800000; text-decoration-color: #800000\">│</span>\n",
       "<span style=\"color: #800000; text-decoration-color: #800000\">│</span>   <span style=\"color: #7f7f7f; text-decoration-color: #7f7f7f\">2 </span>                                                                                             <span style=\"color: #800000; text-decoration-color: #800000\">│</span>\n",
       "<span style=\"color: #800000; text-decoration-color: #800000\">│</span>                                                                                                  <span style=\"color: #800000; text-decoration-color: #800000\">│</span>\n",
       "<span style=\"color: #800000; text-decoration-color: #800000\">│</span> <span style=\"color: #808000; text-decoration-color: #808000\">C:\\Users\\crist\\OneDrive\\Desktop\\kedro-main\\.venv\\Lib\\site-packages\\pandas\\core\\series.py</span>:<span style=\"color: #0000ff; text-decoration-color: #0000ff\">1121</span> in <span style=\"color: #800000; text-decoration-color: #800000\">│</span>\n",
       "<span style=\"color: #800000; text-decoration-color: #800000\">│</span> <span style=\"color: #00ff00; text-decoration-color: #00ff00\">__getitem__</span>                                                                                      <span style=\"color: #800000; text-decoration-color: #800000\">│</span>\n",
       "<span style=\"color: #800000; text-decoration-color: #800000\">│</span>                                                                                                  <span style=\"color: #800000; text-decoration-color: #800000\">│</span>\n",
       "<span style=\"color: #800000; text-decoration-color: #800000\">│</span>   <span style=\"color: #7f7f7f; text-decoration-color: #7f7f7f\">1118 </span><span style=\"color: #7f7f7f; text-decoration-color: #7f7f7f\">│   │   │   </span><span style=\"color: #0000ff; text-decoration-color: #0000ff\">return</span> <span style=\"color: #00ffff; text-decoration-color: #00ffff\">self</span>._values[key]                                                      <span style=\"color: #800000; text-decoration-color: #800000\">│</span>\n",
       "<span style=\"color: #800000; text-decoration-color: #800000\">│</span>   <span style=\"color: #7f7f7f; text-decoration-color: #7f7f7f\">1119 </span><span style=\"color: #7f7f7f; text-decoration-color: #7f7f7f\">│   │   </span>                                                                                  <span style=\"color: #800000; text-decoration-color: #800000\">│</span>\n",
       "<span style=\"color: #800000; text-decoration-color: #800000\">│</span>   <span style=\"color: #7f7f7f; text-decoration-color: #7f7f7f\">1120 </span><span style=\"color: #7f7f7f; text-decoration-color: #7f7f7f\">│   │   </span><span style=\"color: #0000ff; text-decoration-color: #0000ff\">elif</span> key_is_scalar:                                                               <span style=\"color: #800000; text-decoration-color: #800000\">│</span>\n",
       "<span style=\"color: #800000; text-decoration-color: #800000\">│</span> <span style=\"color: #800000; text-decoration-color: #800000\">❱ </span>1121 <span style=\"color: #7f7f7f; text-decoration-color: #7f7f7f\">│   │   │   </span><span style=\"color: #0000ff; text-decoration-color: #0000ff\">return</span> <span style=\"color: #00ffff; text-decoration-color: #00ffff\">self</span>._get_value(key)                                                   <span style=\"color: #800000; text-decoration-color: #800000\">│</span>\n",
       "<span style=\"color: #800000; text-decoration-color: #800000\">│</span>   <span style=\"color: #7f7f7f; text-decoration-color: #7f7f7f\">1122 </span><span style=\"color: #7f7f7f; text-decoration-color: #7f7f7f\">│   │   </span>                                                                                  <span style=\"color: #800000; text-decoration-color: #800000\">│</span>\n",
       "<span style=\"color: #800000; text-decoration-color: #800000\">│</span>   <span style=\"color: #7f7f7f; text-decoration-color: #7f7f7f\">1123 </span><span style=\"color: #7f7f7f; text-decoration-color: #7f7f7f\">│   │   </span><span style=\"color: #7f7f7f; text-decoration-color: #7f7f7f\"># Convert generator to list before going through hashable part</span>                    <span style=\"color: #800000; text-decoration-color: #800000\">│</span>\n",
       "<span style=\"color: #800000; text-decoration-color: #800000\">│</span>   <span style=\"color: #7f7f7f; text-decoration-color: #7f7f7f\">1124 </span><span style=\"color: #7f7f7f; text-decoration-color: #7f7f7f\">│   │   </span><span style=\"color: #7f7f7f; text-decoration-color: #7f7f7f\"># (We will iterate through the generator there to check for slices)</span>               <span style=\"color: #800000; text-decoration-color: #800000\">│</span>\n",
       "<span style=\"color: #800000; text-decoration-color: #800000\">│</span>                                                                                                  <span style=\"color: #800000; text-decoration-color: #800000\">│</span>\n",
       "<span style=\"color: #800000; text-decoration-color: #800000\">│</span> <span style=\"color: #808000; text-decoration-color: #808000\">C:\\Users\\crist\\OneDrive\\Desktop\\kedro-main\\.venv\\Lib\\site-packages\\pandas\\core\\series.py</span>:<span style=\"color: #0000ff; text-decoration-color: #0000ff\">1237</span> in <span style=\"color: #800000; text-decoration-color: #800000\">│</span>\n",
       "<span style=\"color: #800000; text-decoration-color: #800000\">│</span> <span style=\"color: #00ff00; text-decoration-color: #00ff00\">_get_value</span>                                                                                       <span style=\"color: #800000; text-decoration-color: #800000\">│</span>\n",
       "<span style=\"color: #800000; text-decoration-color: #800000\">│</span>                                                                                                  <span style=\"color: #800000; text-decoration-color: #800000\">│</span>\n",
       "<span style=\"color: #800000; text-decoration-color: #800000\">│</span>   <span style=\"color: #7f7f7f; text-decoration-color: #7f7f7f\">1234 </span><span style=\"color: #7f7f7f; text-decoration-color: #7f7f7f\">│   │   │   </span><span style=\"color: #0000ff; text-decoration-color: #0000ff\">return</span> <span style=\"color: #00ffff; text-decoration-color: #00ffff\">self</span>._values[label]                                                    <span style=\"color: #800000; text-decoration-color: #800000\">│</span>\n",
       "<span style=\"color: #800000; text-decoration-color: #800000\">│</span>   <span style=\"color: #7f7f7f; text-decoration-color: #7f7f7f\">1235 </span><span style=\"color: #7f7f7f; text-decoration-color: #7f7f7f\">│   │   </span>                                                                                  <span style=\"color: #800000; text-decoration-color: #800000\">│</span>\n",
       "<span style=\"color: #800000; text-decoration-color: #800000\">│</span>   <span style=\"color: #7f7f7f; text-decoration-color: #7f7f7f\">1236 </span><span style=\"color: #7f7f7f; text-decoration-color: #7f7f7f\">│   │   </span><span style=\"color: #7f7f7f; text-decoration-color: #7f7f7f\"># Similar to Index.get_value, but we do not fall back to positional</span>               <span style=\"color: #800000; text-decoration-color: #800000\">│</span>\n",
       "<span style=\"color: #800000; text-decoration-color: #800000\">│</span> <span style=\"color: #800000; text-decoration-color: #800000\">❱ </span>1237 <span style=\"color: #7f7f7f; text-decoration-color: #7f7f7f\">│   │   </span>loc = <span style=\"color: #00ffff; text-decoration-color: #00ffff\">self</span>.index.get_loc(label)                                                   <span style=\"color: #800000; text-decoration-color: #800000\">│</span>\n",
       "<span style=\"color: #800000; text-decoration-color: #800000\">│</span>   <span style=\"color: #7f7f7f; text-decoration-color: #7f7f7f\">1238 </span><span style=\"color: #7f7f7f; text-decoration-color: #7f7f7f\">│   │   </span>                                                                                  <span style=\"color: #800000; text-decoration-color: #800000\">│</span>\n",
       "<span style=\"color: #800000; text-decoration-color: #800000\">│</span>   <span style=\"color: #7f7f7f; text-decoration-color: #7f7f7f\">1239 </span><span style=\"color: #7f7f7f; text-decoration-color: #7f7f7f\">│   │   </span><span style=\"color: #0000ff; text-decoration-color: #0000ff\">if</span> is_integer(loc):                                                               <span style=\"color: #800000; text-decoration-color: #800000\">│</span>\n",
       "<span style=\"color: #800000; text-decoration-color: #800000\">│</span>   <span style=\"color: #7f7f7f; text-decoration-color: #7f7f7f\">1240 </span><span style=\"color: #7f7f7f; text-decoration-color: #7f7f7f\">│   │   │   </span><span style=\"color: #0000ff; text-decoration-color: #0000ff\">return</span> <span style=\"color: #00ffff; text-decoration-color: #00ffff\">self</span>._values[loc]                                                      <span style=\"color: #800000; text-decoration-color: #800000\">│</span>\n",
       "<span style=\"color: #800000; text-decoration-color: #800000\">│</span>                                                                                                  <span style=\"color: #800000; text-decoration-color: #800000\">│</span>\n",
       "<span style=\"color: #800000; text-decoration-color: #800000\">│</span> <span style=\"color: #808000; text-decoration-color: #808000\">C:\\Users\\crist\\OneDrive\\Desktop\\kedro-main\\.venv\\Lib\\site-packages\\pandas\\core\\indexes\\base.py</span>:<span style=\"color: #0000ff; text-decoration-color: #0000ff\">3</span> <span style=\"color: #800000; text-decoration-color: #800000\">│</span>\n",
       "<span style=\"color: #800000; text-decoration-color: #800000\">│</span> <span style=\"color: #0000ff; text-decoration-color: #0000ff\">812</span> in <span style=\"color: #00ff00; text-decoration-color: #00ff00\">get_loc</span>                                                                                   <span style=\"color: #800000; text-decoration-color: #800000\">│</span>\n",
       "<span style=\"color: #800000; text-decoration-color: #800000\">│</span>                                                                                                  <span style=\"color: #800000; text-decoration-color: #800000\">│</span>\n",
       "<span style=\"color: #800000; text-decoration-color: #800000\">│</span>   <span style=\"color: #7f7f7f; text-decoration-color: #7f7f7f\">3809 </span><span style=\"color: #7f7f7f; text-decoration-color: #7f7f7f\">│   │   │   │   </span><span style=\"color: #ff00ff; text-decoration-color: #ff00ff\">and</span> <span style=\"color: #00ffff; text-decoration-color: #00ffff\">any</span>(<span style=\"color: #00ffff; text-decoration-color: #00ffff\">isinstance</span>(x, <span style=\"color: #00ffff; text-decoration-color: #00ffff\">slice</span>) <span style=\"color: #0000ff; text-decoration-color: #0000ff\">for</span> x <span style=\"color: #ff00ff; text-decoration-color: #ff00ff\">in</span> casted_key)                         <span style=\"color: #800000; text-decoration-color: #800000\">│</span>\n",
       "<span style=\"color: #800000; text-decoration-color: #800000\">│</span>   <span style=\"color: #7f7f7f; text-decoration-color: #7f7f7f\">3810 </span><span style=\"color: #7f7f7f; text-decoration-color: #7f7f7f\">│   │   │   </span>):                                                                            <span style=\"color: #800000; text-decoration-color: #800000\">│</span>\n",
       "<span style=\"color: #800000; text-decoration-color: #800000\">│</span>   <span style=\"color: #7f7f7f; text-decoration-color: #7f7f7f\">3811 </span><span style=\"color: #7f7f7f; text-decoration-color: #7f7f7f\">│   │   │   │   </span><span style=\"color: #0000ff; text-decoration-color: #0000ff\">raise</span> InvalidIndexError(key)                                              <span style=\"color: #800000; text-decoration-color: #800000\">│</span>\n",
       "<span style=\"color: #800000; text-decoration-color: #800000\">│</span> <span style=\"color: #800000; text-decoration-color: #800000\">❱ </span>3812 <span style=\"color: #7f7f7f; text-decoration-color: #7f7f7f\">│   │   │   </span><span style=\"color: #0000ff; text-decoration-color: #0000ff\">raise</span> <span style=\"color: #00ffff; text-decoration-color: #00ffff\">KeyError</span>(key) <span style=\"color: #0000ff; text-decoration-color: #0000ff\">from</span> <span style=\"color: #00ffff; text-decoration-color: #00ffff; text-decoration: underline\">err</span>                                                  <span style=\"color: #800000; text-decoration-color: #800000\">│</span>\n",
       "<span style=\"color: #800000; text-decoration-color: #800000\">│</span>   <span style=\"color: #7f7f7f; text-decoration-color: #7f7f7f\">3813 </span><span style=\"color: #7f7f7f; text-decoration-color: #7f7f7f\">│   │   </span><span style=\"color: #0000ff; text-decoration-color: #0000ff\">except</span> <span style=\"color: #00ffff; text-decoration-color: #00ffff\">TypeError</span>:                                                                 <span style=\"color: #800000; text-decoration-color: #800000\">│</span>\n",
       "<span style=\"color: #800000; text-decoration-color: #800000\">│</span>   <span style=\"color: #7f7f7f; text-decoration-color: #7f7f7f\">3814 </span><span style=\"color: #7f7f7f; text-decoration-color: #7f7f7f\">│   │   │   </span><span style=\"color: #7f7f7f; text-decoration-color: #7f7f7f\"># If we have a listlike key, _check_indexing_error will raise</span>                 <span style=\"color: #800000; text-decoration-color: #800000\">│</span>\n",
       "<span style=\"color: #800000; text-decoration-color: #800000\">│</span>   <span style=\"color: #7f7f7f; text-decoration-color: #7f7f7f\">3815 </span><span style=\"color: #7f7f7f; text-decoration-color: #7f7f7f\">│   │   │   </span><span style=\"color: #7f7f7f; text-decoration-color: #7f7f7f\">#  InvalidIndexError. Otherwise we fall through and re-raise</span>                  <span style=\"color: #800000; text-decoration-color: #800000\">│</span>\n",
       "<span style=\"color: #800000; text-decoration-color: #800000\">╰──────────────────────────────────────────────────────────────────────────────────────────────────╯</span>\n",
       "<span style=\"color: #ff0000; text-decoration-color: #ff0000; font-weight: bold\">KeyError: </span><span style=\"color: #008000; text-decoration-color: #008000\">'Educacion'</span>\n",
       "</pre>\n"
      ],
      "text/plain": [
       "\u001b[31m╭─\u001b[0m\u001b[31m──────────────────────────────\u001b[0m\u001b[31m \u001b[0m\u001b[1;31mTraceback \u001b[0m\u001b[1;2;31m(most recent call last)\u001b[0m\u001b[31m \u001b[0m\u001b[31m───────────────────────────────\u001b[0m\u001b[31m─╮\u001b[0m\n",
       "\u001b[31m│\u001b[0m \u001b[33mC:\\Users\\crist\\OneDrive\\Desktop\\kedro-main\\.venv\\Lib\\site-packages\\pandas\\core\\indexes\\base.py\u001b[0m:\u001b[94m3\u001b[0m \u001b[31m│\u001b[0m\n",
       "\u001b[31m│\u001b[0m \u001b[94m805\u001b[0m in \u001b[92mget_loc\u001b[0m                                                                                   \u001b[31m│\u001b[0m\n",
       "\u001b[31m│\u001b[0m                                                                                                  \u001b[31m│\u001b[0m\n",
       "\u001b[31m│\u001b[0m   \u001b[2m3802 \u001b[0m\u001b[2;33m│   │   \u001b[0m\u001b[33m\"\"\"\u001b[0m                                                                               \u001b[31m│\u001b[0m\n",
       "\u001b[31m│\u001b[0m   \u001b[2m3803 \u001b[0m\u001b[2m│   │   \u001b[0mcasted_key = \u001b[96mself\u001b[0m._maybe_cast_indexer(key)                                        \u001b[31m│\u001b[0m\n",
       "\u001b[31m│\u001b[0m   \u001b[2m3804 \u001b[0m\u001b[2m│   │   \u001b[0m\u001b[94mtry\u001b[0m:                                                                              \u001b[31m│\u001b[0m\n",
       "\u001b[31m│\u001b[0m \u001b[31m❱ \u001b[0m3805 \u001b[2m│   │   │   \u001b[0m\u001b[94mreturn\u001b[0m \u001b[96mself\u001b[0m._engine.get_loc(casted_key)                                       \u001b[31m│\u001b[0m\n",
       "\u001b[31m│\u001b[0m   \u001b[2m3806 \u001b[0m\u001b[2m│   │   \u001b[0m\u001b[94mexcept\u001b[0m \u001b[96mKeyError\u001b[0m \u001b[94mas\u001b[0m err:                                                           \u001b[31m│\u001b[0m\n",
       "\u001b[31m│\u001b[0m   \u001b[2m3807 \u001b[0m\u001b[2m│   │   │   \u001b[0m\u001b[94mif\u001b[0m \u001b[96misinstance\u001b[0m(casted_key, \u001b[96mslice\u001b[0m) \u001b[95mor\u001b[0m (                                         \u001b[31m│\u001b[0m\n",
       "\u001b[31m│\u001b[0m   \u001b[2m3808 \u001b[0m\u001b[2m│   │   │   │   \u001b[0m\u001b[96misinstance\u001b[0m(casted_key, abc.Iterable)                                      \u001b[31m│\u001b[0m\n",
       "\u001b[31m│\u001b[0m                                                                                                  \u001b[31m│\u001b[0m\n",
       "\u001b[31m│\u001b[0m in \u001b[92mpandas._libs.index.IndexEngine.get_loc\u001b[0m:\u001b[94m167\u001b[0m                                                    \u001b[31m│\u001b[0m\n",
       "\u001b[31m│\u001b[0m                                                                                                  \u001b[31m│\u001b[0m\n",
       "\u001b[31m│\u001b[0m in \u001b[92mpandas._libs.index.IndexEngine.get_loc\u001b[0m:\u001b[94m175\u001b[0m                                                    \u001b[31m│\u001b[0m\n",
       "\u001b[31m│\u001b[0m                                                                                                  \u001b[31m│\u001b[0m\n",
       "\u001b[31m│\u001b[0m in \u001b[92mpandas._libs.index.Int64Engine._check_type\u001b[0m:\u001b[94m70\u001b[0m                                                 \u001b[31m│\u001b[0m\n",
       "\u001b[31m╰──────────────────────────────────────────────────────────────────────────────────────────────────╯\u001b[0m\n",
       "\u001b[1;91mKeyError: \u001b[0m\u001b[32m'Educacion'\u001b[0m\n",
       "\n",
       "\u001b[3mThe above exception was the direct cause of the following exception:\u001b[0m\n",
       "\n",
       "\u001b[31m╭─\u001b[0m\u001b[31m──────────────────────────────\u001b[0m\u001b[31m \u001b[0m\u001b[1;31mTraceback \u001b[0m\u001b[1;2;31m(most recent call last)\u001b[0m\u001b[31m \u001b[0m\u001b[31m───────────────────────────────\u001b[0m\u001b[31m─╮\u001b[0m\n",
       "\u001b[31m│\u001b[0m in \u001b[92m<module>\u001b[0m:\u001b[94m1\u001b[0m                                                                                    \u001b[31m│\u001b[0m\n",
       "\u001b[31m│\u001b[0m                                                                                                  \u001b[31m│\u001b[0m\n",
       "\u001b[31m│\u001b[0m \u001b[31m❱ \u001b[0m1 consideracion[\u001b[33m\"\u001b[0m\u001b[33mEducacion\u001b[0m\u001b[33m\"\u001b[0m].isna().sum()                                                      \u001b[31m│\u001b[0m\n",
       "\u001b[31m│\u001b[0m   \u001b[2m2 \u001b[0m                                                                                             \u001b[31m│\u001b[0m\n",
       "\u001b[31m│\u001b[0m                                                                                                  \u001b[31m│\u001b[0m\n",
       "\u001b[31m│\u001b[0m \u001b[33mC:\\Users\\crist\\OneDrive\\Desktop\\kedro-main\\.venv\\Lib\\site-packages\\pandas\\core\\series.py\u001b[0m:\u001b[94m1121\u001b[0m in \u001b[31m│\u001b[0m\n",
       "\u001b[31m│\u001b[0m \u001b[92m__getitem__\u001b[0m                                                                                      \u001b[31m│\u001b[0m\n",
       "\u001b[31m│\u001b[0m                                                                                                  \u001b[31m│\u001b[0m\n",
       "\u001b[31m│\u001b[0m   \u001b[2m1118 \u001b[0m\u001b[2m│   │   │   \u001b[0m\u001b[94mreturn\u001b[0m \u001b[96mself\u001b[0m._values[key]                                                      \u001b[31m│\u001b[0m\n",
       "\u001b[31m│\u001b[0m   \u001b[2m1119 \u001b[0m\u001b[2m│   │   \u001b[0m                                                                                  \u001b[31m│\u001b[0m\n",
       "\u001b[31m│\u001b[0m   \u001b[2m1120 \u001b[0m\u001b[2m│   │   \u001b[0m\u001b[94melif\u001b[0m key_is_scalar:                                                               \u001b[31m│\u001b[0m\n",
       "\u001b[31m│\u001b[0m \u001b[31m❱ \u001b[0m1121 \u001b[2m│   │   │   \u001b[0m\u001b[94mreturn\u001b[0m \u001b[96mself\u001b[0m._get_value(key)                                                   \u001b[31m│\u001b[0m\n",
       "\u001b[31m│\u001b[0m   \u001b[2m1122 \u001b[0m\u001b[2m│   │   \u001b[0m                                                                                  \u001b[31m│\u001b[0m\n",
       "\u001b[31m│\u001b[0m   \u001b[2m1123 \u001b[0m\u001b[2m│   │   \u001b[0m\u001b[2m# Convert generator to list before going through hashable part\u001b[0m                    \u001b[31m│\u001b[0m\n",
       "\u001b[31m│\u001b[0m   \u001b[2m1124 \u001b[0m\u001b[2m│   │   \u001b[0m\u001b[2m# (We will iterate through the generator there to check for slices)\u001b[0m               \u001b[31m│\u001b[0m\n",
       "\u001b[31m│\u001b[0m                                                                                                  \u001b[31m│\u001b[0m\n",
       "\u001b[31m│\u001b[0m \u001b[33mC:\\Users\\crist\\OneDrive\\Desktop\\kedro-main\\.venv\\Lib\\site-packages\\pandas\\core\\series.py\u001b[0m:\u001b[94m1237\u001b[0m in \u001b[31m│\u001b[0m\n",
       "\u001b[31m│\u001b[0m \u001b[92m_get_value\u001b[0m                                                                                       \u001b[31m│\u001b[0m\n",
       "\u001b[31m│\u001b[0m                                                                                                  \u001b[31m│\u001b[0m\n",
       "\u001b[31m│\u001b[0m   \u001b[2m1234 \u001b[0m\u001b[2m│   │   │   \u001b[0m\u001b[94mreturn\u001b[0m \u001b[96mself\u001b[0m._values[label]                                                    \u001b[31m│\u001b[0m\n",
       "\u001b[31m│\u001b[0m   \u001b[2m1235 \u001b[0m\u001b[2m│   │   \u001b[0m                                                                                  \u001b[31m│\u001b[0m\n",
       "\u001b[31m│\u001b[0m   \u001b[2m1236 \u001b[0m\u001b[2m│   │   \u001b[0m\u001b[2m# Similar to Index.get_value, but we do not fall back to positional\u001b[0m               \u001b[31m│\u001b[0m\n",
       "\u001b[31m│\u001b[0m \u001b[31m❱ \u001b[0m1237 \u001b[2m│   │   \u001b[0mloc = \u001b[96mself\u001b[0m.index.get_loc(label)                                                   \u001b[31m│\u001b[0m\n",
       "\u001b[31m│\u001b[0m   \u001b[2m1238 \u001b[0m\u001b[2m│   │   \u001b[0m                                                                                  \u001b[31m│\u001b[0m\n",
       "\u001b[31m│\u001b[0m   \u001b[2m1239 \u001b[0m\u001b[2m│   │   \u001b[0m\u001b[94mif\u001b[0m is_integer(loc):                                                               \u001b[31m│\u001b[0m\n",
       "\u001b[31m│\u001b[0m   \u001b[2m1240 \u001b[0m\u001b[2m│   │   │   \u001b[0m\u001b[94mreturn\u001b[0m \u001b[96mself\u001b[0m._values[loc]                                                      \u001b[31m│\u001b[0m\n",
       "\u001b[31m│\u001b[0m                                                                                                  \u001b[31m│\u001b[0m\n",
       "\u001b[31m│\u001b[0m \u001b[33mC:\\Users\\crist\\OneDrive\\Desktop\\kedro-main\\.venv\\Lib\\site-packages\\pandas\\core\\indexes\\base.py\u001b[0m:\u001b[94m3\u001b[0m \u001b[31m│\u001b[0m\n",
       "\u001b[31m│\u001b[0m \u001b[94m812\u001b[0m in \u001b[92mget_loc\u001b[0m                                                                                   \u001b[31m│\u001b[0m\n",
       "\u001b[31m│\u001b[0m                                                                                                  \u001b[31m│\u001b[0m\n",
       "\u001b[31m│\u001b[0m   \u001b[2m3809 \u001b[0m\u001b[2m│   │   │   │   \u001b[0m\u001b[95mand\u001b[0m \u001b[96many\u001b[0m(\u001b[96misinstance\u001b[0m(x, \u001b[96mslice\u001b[0m) \u001b[94mfor\u001b[0m x \u001b[95min\u001b[0m casted_key)                         \u001b[31m│\u001b[0m\n",
       "\u001b[31m│\u001b[0m   \u001b[2m3810 \u001b[0m\u001b[2m│   │   │   \u001b[0m):                                                                            \u001b[31m│\u001b[0m\n",
       "\u001b[31m│\u001b[0m   \u001b[2m3811 \u001b[0m\u001b[2m│   │   │   │   \u001b[0m\u001b[94mraise\u001b[0m InvalidIndexError(key)                                              \u001b[31m│\u001b[0m\n",
       "\u001b[31m│\u001b[0m \u001b[31m❱ \u001b[0m3812 \u001b[2m│   │   │   \u001b[0m\u001b[94mraise\u001b[0m \u001b[96mKeyError\u001b[0m(key) \u001b[94mfrom\u001b[0m \u001b[4;96merr\u001b[0m                                                  \u001b[31m│\u001b[0m\n",
       "\u001b[31m│\u001b[0m   \u001b[2m3813 \u001b[0m\u001b[2m│   │   \u001b[0m\u001b[94mexcept\u001b[0m \u001b[96mTypeError\u001b[0m:                                                                 \u001b[31m│\u001b[0m\n",
       "\u001b[31m│\u001b[0m   \u001b[2m3814 \u001b[0m\u001b[2m│   │   │   \u001b[0m\u001b[2m# If we have a listlike key, _check_indexing_error will raise\u001b[0m                 \u001b[31m│\u001b[0m\n",
       "\u001b[31m│\u001b[0m   \u001b[2m3815 \u001b[0m\u001b[2m│   │   │   \u001b[0m\u001b[2m#  InvalidIndexError. Otherwise we fall through and re-raise\u001b[0m                  \u001b[31m│\u001b[0m\n",
       "\u001b[31m╰──────────────────────────────────────────────────────────────────────────────────────────────────╯\u001b[0m\n",
       "\u001b[1;91mKeyError: \u001b[0m\u001b[32m'Educacion'\u001b[0m\n"
      ]
     },
     "metadata": {},
     "output_type": "display_data"
    }
   ],
   "source": [
    "consideracion[\"Educacion\"].isna().sum()"
   ]
  },
  {
   "cell_type": "code",
   "execution_count": 74,
   "id": "57ced61f-3b74-49f7-93f6-f050d6d0c317",
   "metadata": {},
   "outputs": [
    {
     "data": {
      "text/html": [
       "<pre style=\"white-space:pre;overflow-x:auto;line-height:normal;font-family:Menlo,'DejaVu Sans Mono',consolas,'Courier New',monospace\"></pre>\n"
      ],
      "text/plain": []
     },
     "metadata": {},
     "output_type": "display_data"
    },
    {
     "data": {
      "text/plain": [
       "\n",
       "count   \u001b[1;36m13359.00\u001b[0m\n",
       "mean        \u001b[1;36m2.41\u001b[0m\n",
       "std         \u001b[1;36m1.63\u001b[0m\n",
       "min         \u001b[1;36m0.00\u001b[0m\n",
       "\u001b[1;36m25\u001b[0m%         \u001b[1;36m1.02\u001b[0m\n",
       "\u001b[1;36m50\u001b[0m%         \u001b[1;36m1.96\u001b[0m\n",
       "\u001b[1;36m75\u001b[0m%         \u001b[1;36m3.88\u001b[0m\n",
       "max         \u001b[1;36m5.00\u001b[0m\n",
       "Name: NivelPobreza, dtype: float64"
      ]
     },
     "execution_count": 74,
     "metadata": {},
     "output_type": "execute_result"
    }
   ],
   "source": [
    "consideracion[\"NivelPobreza\"].describe()"
   ]
  },
  {
   "cell_type": "code",
   "execution_count": null,
   "id": "fa9d4cad-3d64-4e69-8078-f599784f8e88",
   "metadata": {},
   "outputs": [],
   "source": [
    "for columna in consideracion.columns[:-1]:\n",
    "    consideracion[columna] = consideracion[columna].fillna(0)\n",
    "    consideracion[columna] = consideracion[columna].astype(int)\n",
    "consideracion"
   ]
  },
  {
   "cell_type": "code",
   "execution_count": null,
   "id": "2ac36312-1e38-421b-9f3d-1bb53dc5d4da",
   "metadata": {},
   "outputs": [],
   "source": [
    "insulina['SEQN'] = insulina['SEQN'].astype(int)\n",
    "insulina = insulina.rename(columns={'SEQN': 'ID'})\n",
    "insulina = insulina.rename(columns={'WTSAFPRP': \"Peso de Submuestra en Ayunas\"})\n",
    "insulina = insulina.rename(columns={'LBXIN': \"Insulina (μU/mL)\"})\n",
    "insulina = insulina.rename(columns={'LBDINSI': \"Insulina (pmol/L)\"})\n",
    "insulina = insulina.rename(columns={'LBDINLC': \"Código de Comentario de Insulina\"})\n"
   ]
  },
  {
   "cell_type": "code",
   "execution_count": null,
   "id": "f4a645b3-3a35-4ac9-a5b4-fa8c4de01ff3",
   "metadata": {},
   "outputs": [],
   "source": []
  },
  {
   "cell_type": "code",
   "execution_count": null,
   "id": "7599bbc3-bbdc-4525-ae24-45894e6b464b",
   "metadata": {},
   "outputs": [],
   "source": [
    "consideracion_insulina = pd.merge(consideracion, insulina, on='ID', how='inner')"
   ]
  },
  {
   "cell_type": "code",
   "execution_count": null,
   "id": "4e940815-5c0a-486d-b517-568e1f0ddc27",
   "metadata": {},
   "outputs": [],
   "source": [
    "insulina_nonna = consideracion_insulina.dropna()"
   ]
  },
  {
   "cell_type": "code",
   "execution_count": null,
   "id": "361e7fd4-bde1-4056-bac6-2c14bacb0e9e",
   "metadata": {},
   "outputs": [],
   "source": [
    "colesterol = colesterol.rename(columns={\n",
    "    'SEQN': 'ID',\n",
    "    'LBXTC': 'Colesterol Total (mg/dL)',\n",
    "    'LBDTCSI': 'Colesterol Total (mmol/L)'\n",
    "})"
   ]
  },
  {
   "cell_type": "code",
   "execution_count": null,
   "id": "e5c86be9-4f64-4647-96ff-9c6edbb37921",
   "metadata": {},
   "outputs": [],
   "source": [
    "consideracion_colesterol = pd.merge(consideracion_insulina, colesterol, on='ID', how='inner')"
   ]
  },
  {
   "cell_type": "code",
   "execution_count": 58,
   "id": "4801cac7-8878-442c-808b-42608f7b313d",
   "metadata": {},
   "outputs": [
    {
     "data": {
      "text/html": [
       "<pre style=\"white-space:pre;overflow-x:auto;line-height:normal;font-family:Menlo,'DejaVu Sans Mono',consolas,'Courier New',monospace\"><span style=\"color: #800000; text-decoration-color: #800000\">╭─────────────────────────────── </span><span style=\"color: #800000; text-decoration-color: #800000; font-weight: bold\">Traceback </span><span style=\"color: #bf7f7f; text-decoration-color: #bf7f7f; font-weight: bold\">(most recent call last)</span><span style=\"color: #800000; text-decoration-color: #800000\"> ────────────────────────────────╮</span>\n",
       "<span style=\"color: #800000; text-decoration-color: #800000\">│</span> in <span style=\"color: #00ff00; text-decoration-color: #00ff00\">&lt;module&gt;</span>:<span style=\"color: #0000ff; text-decoration-color: #0000ff\">1</span>                                                                                    <span style=\"color: #800000; text-decoration-color: #800000\">│</span>\n",
       "<span style=\"color: #800000; text-decoration-color: #800000\">│</span>                                                                                                  <span style=\"color: #800000; text-decoration-color: #800000\">│</span>\n",
       "<span style=\"color: #800000; text-decoration-color: #800000\">│</span> <span style=\"color: #800000; text-decoration-color: #800000\">❱ </span>1 consideracion_colesterol.head()                                                              <span style=\"color: #800000; text-decoration-color: #800000\">│</span>\n",
       "<span style=\"color: #800000; text-decoration-color: #800000\">│</span>   <span style=\"color: #7f7f7f; text-decoration-color: #7f7f7f\">2 </span>                                                                                             <span style=\"color: #800000; text-decoration-color: #800000\">│</span>\n",
       "<span style=\"color: #800000; text-decoration-color: #800000\">╰──────────────────────────────────────────────────────────────────────────────────────────────────╯</span>\n",
       "<span style=\"color: #ff0000; text-decoration-color: #ff0000; font-weight: bold\">NameError: </span>name <span style=\"color: #008000; text-decoration-color: #008000\">'consideracion_colesterol'</span> is not defined\n",
       "</pre>\n"
      ],
      "text/plain": [
       "\u001b[31m╭─\u001b[0m\u001b[31m──────────────────────────────\u001b[0m\u001b[31m \u001b[0m\u001b[1;31mTraceback \u001b[0m\u001b[1;2;31m(most recent call last)\u001b[0m\u001b[31m \u001b[0m\u001b[31m───────────────────────────────\u001b[0m\u001b[31m─╮\u001b[0m\n",
       "\u001b[31m│\u001b[0m in \u001b[92m<module>\u001b[0m:\u001b[94m1\u001b[0m                                                                                    \u001b[31m│\u001b[0m\n",
       "\u001b[31m│\u001b[0m                                                                                                  \u001b[31m│\u001b[0m\n",
       "\u001b[31m│\u001b[0m \u001b[31m❱ \u001b[0m1 consideracion_colesterol.head()                                                              \u001b[31m│\u001b[0m\n",
       "\u001b[31m│\u001b[0m   \u001b[2m2 \u001b[0m                                                                                             \u001b[31m│\u001b[0m\n",
       "\u001b[31m╰──────────────────────────────────────────────────────────────────────────────────────────────────╯\u001b[0m\n",
       "\u001b[1;91mNameError: \u001b[0mname \u001b[32m'consideracion_colesterol'\u001b[0m is not defined\n"
      ]
     },
     "metadata": {},
     "output_type": "display_data"
    }
   ],
   "source": [
    "consideracion_colesterol.head()"
   ]
  },
  {
   "cell_type": "code",
   "execution_count": null,
   "id": "187dc640-c3b2-4905-8057-ab14266aa87e",
   "metadata": {},
   "outputs": [],
   "source": [
    "proteinaC = proteinaC.rename(columns={\n",
    "    'SEQN': 'ID',\n",
    "    'LBXHSCRP': 'Proteína C Reactiva (mg/L)',\n",
    "    'LBDHRPLC': 'Código de Comentario de Proteína C Reactiva'\n",
    "})"
   ]
  },
  {
   "cell_type": "code",
   "execution_count": null,
   "id": "559f6260-a9e1-4697-96ab-71c7d2432b61",
   "metadata": {},
   "outputs": [],
   "source": [
    "consideracion_proteinaC = pd.merge(consideracion_colesterol, proteinaC, on='ID', how='inner')"
   ]
  },
  {
   "cell_type": "code",
   "execution_count": null,
   "id": "e781db2c-0996-4f7a-b013-bcaad1c0320c",
   "metadata": {},
   "outputs": [],
   "source": [
    "consideracion_proteinaC.head()"
   ]
  },
  {
   "cell_type": "code",
   "execution_count": null,
   "id": "f4d0e111-f992-4ac4-8ae4-36129fe91185",
   "metadata": {},
   "outputs": [],
   "source": [
    "depresion = depresion.rename(columns={\n",
    "    'SEQN': 'ID',\n",
    "    'DPQ010': 'Poca Interés en Hacer Cosas',\n",
    "    'DPQ020': 'Sentirse Deprimido o Sin Esperanza',\n",
    "    'DPQ030': 'Problemas para Dormir',\n",
    "    'DPQ040': 'Cansancio o Poca Energía',\n",
    "    'DPQ050': 'Poco Apetito o Comer en Exceso',\n",
    "    'DPQ060': 'Sentirse Mal Acerca de Uno Mismo',\n",
    "    'DPQ070': 'Problemas de Concentración',\n",
    "    'DPQ080': 'Movimientos o Hablar Lento o Rápido',\n",
    "    'DPQ090': 'Pensamientos de Muerte o Autolesión',\n",
    "    'DPQ100': 'Dificultad que Estos Problemas Causan'\n",
    "})"
   ]
  },
  {
   "cell_type": "code",
   "execution_count": null,
   "id": "ed96cc0e-888a-4d0d-b3fb-af7832dcb7b3",
   "metadata": {},
   "outputs": [],
   "source": [
    "consideracion_proteinaC = pd.merge(consideracion_proteinaC, depresion, on='ID', how='inner')"
   ]
  },
  {
   "cell_type": "code",
   "execution_count": null,
   "id": "cc528467-9a23-410f-a5fb-7ea9a3ae720b",
   "metadata": {},
   "outputs": [],
   "source": [
    "consideracion_proteinaC.head()"
   ]
  }
 ],
 "metadata": {
  "kernelspec": {
   "display_name": "Kedro (nhanes)",
   "language": "python",
   "name": "kedro_nhanes"
  },
  "language_info": {
   "codemirror_mode": {
    "name": "ipython",
    "version": 3
   },
   "file_extension": ".py",
   "mimetype": "text/x-python",
   "name": "python",
   "nbconvert_exporter": "python",
   "pygments_lexer": "ipython3",
   "version": "3.12.3"
  }
 },
 "nbformat": 4,
 "nbformat_minor": 5
}
